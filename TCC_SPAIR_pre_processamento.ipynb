{
  "nbformat": 4,
  "nbformat_minor": 0,
  "metadata": {
    "colab": {
      "provenance": []
    },
    "kernelspec": {
      "name": "python3",
      "display_name": "Python 3"
    },
    "language_info": {
      "name": "python"
    },
    "accelerator": "GPU",
    "gpuClass": "standard"
  },
  "cells": [
    {
      "cell_type": "code",
      "execution_count": null,
      "metadata": {
        "id": "o4a9nnF8MvAi",
        "colab": {
          "base_uri": "https://localhost:8080/"
        },
        "outputId": "a4269c62-3fcc-4dd9-c50c-3b5274e171b5"
      },
      "outputs": [
        {
          "output_type": "stream",
          "name": "stdout",
          "text": [
            "Looking in indexes: https://pypi.org/simple, https://us-python.pkg.dev/colab-wheels/public/simple/\n",
            "Collecting pydicom\n",
            "  Downloading pydicom-2.3.1-py3-none-any.whl (2.0 MB)\n",
            "\u001b[K     |████████████████████████████████| 2.0 MB 5.0 MB/s \n",
            "\u001b[?25hInstalling collected packages: pydicom\n",
            "Successfully installed pydicom-2.3.1\n"
          ]
        }
      ],
      "source": [
        "!pip3 install pydicom\n",
        "\n",
        "import os\n",
        "import glob\n",
        "import cv2 as cv\n",
        "from google.colab.patches import cv2_imshow as cv_imshow\n",
        "import numpy as np\n",
        "import pydicom as dicom\n",
        "from PIL import Image\n",
        "from google.colab import drive\n",
        "import shutil"
      ]
    },
    {
      "cell_type": "code",
      "source": [
        "drive.mount('/content/drive', force_remount=True)"
      ],
      "metadata": {
        "id": "mWCpC0G4NacK",
        "colab": {
          "base_uri": "https://localhost:8080/"
        },
        "outputId": "f34b9627-9267-47a3-81fd-a05ee7ab0790"
      },
      "execution_count": null,
      "outputs": [
        {
          "output_type": "stream",
          "name": "stdout",
          "text": [
            "Mounted at /content/drive\n"
          ]
        }
      ]
    },
    {
      "cell_type": "code",
      "source": [
        "os.chdir('/content/drive/MyDrive/TCC/HCFMRP_sacroiliitis_v1/')\n",
        "PATH = \"./SPAIR/\""
      ],
      "metadata": {
        "id": "nMW-ukzgI9Mh"
      },
      "execution_count": null,
      "outputs": []
    },
    {
      "cell_type": "code",
      "source": [
        "count = 0\n",
        "for index, filename in enumerate(glob.iglob(PATH + '**/*.png', recursive=True)):\n",
        "  print(\"\\n IMAGEM: \" + filename)\n",
        "  print(\"\\n INDEX: \" + str(index))\n",
        "\n",
        "  ###### TRANSFORMAÇÃO DA IMAGEM NA MÁSCARA #####\n",
        "\n",
        "  #print(\"\\n  Imagem original \\n\")\n",
        "  img = cv.imread(filename)\n",
        "  #cv_imshow(img)\n",
        "\n",
        "  # Converter todos os pixels que não são PRETOS para BRANCO na imagem\n",
        "  img[img!=0] = 255\n",
        "\n",
        "  #print(\"\\n  Imagem após conversão de todos os pontos não-pretos para branco \\n\")\n",
        "  #cv_imshow(img)\n",
        "\n",
        "  # Retirada de ruidos com dilatação e erosão #\n",
        "  kernel = np.ones((5,5), np.uint8)\n",
        "\n",
        "  img_dilate = cv.dilate(img, kernel, iterations = 2)\n",
        "  mask = cv.erode(img_dilate, kernel, iterations = 2)\n",
        "\n",
        "  print(\"\\n  Máscara (Imagem após dilatação e erosão) \\n\")\n",
        "  cv_imshow(mask)\n",
        "  count += 1\n",
        "\n",
        "  cv.imwrite(filename, mask)\n",
        "  ##################################################################\n",
        "\n",
        "  #print(f'index: {index} / {filename}\\n')"
      ],
      "metadata": {
        "colab": {
          "base_uri": "https://localhost:8080/",
          "height": 1000
        },
        "id": "JsjxXi1ULDox",
        "outputId": "a0dd4948-ddc3-40a0-dc2b-c042ce3b0ec6"
      },
      "execution_count": null,
      "outputs": [
        {
          "output_type": "stream",
          "name": "stdout",
          "text": [
            "\n",
            " IMAGEM: ./SPAIR/Positive/29/701/00060011.png\n",
            "\n",
            " INDEX: 0\n",
            "\n",
            "  Máscara (Imagem após dilatação e erosão) \n",
            "\n"
          ]
        },
        {
          "output_type": "display_data",
          "data": {
            "text/plain": [
              "<PIL.Image.Image image mode=RGB size=320x320 at 0x7FC60D8E9FD0>"
            ],
            "image/png": "[encoded data removed]"
          },
          "metadata": {}
        },
        {
          "output_type": "stream",
          "name": "stdout",
          "text": [
            "\n",
            " IMAGEM: ./SPAIR/Positive/29/701/00060009.png\n",
            "\n",
            " INDEX: 1\n",
            "\n",
            "  Máscara (Imagem após dilatação e erosão) \n",
            "\n"
          ]
        },
        {
          "output_type": "display_data",
          "data": {
            "text/plain": [
              "<PIL.Image.Image image mode=RGB size=320x320 at 0x7FC60D8E9ED0>"
            ],
            "image/png": "[encoded data removed]"
          },
          "metadata": {}
        },
        {
          "output_type": "stream",
          "name": "stdout",
          "text": [
            "\n",
            " IMAGEM: ./SPAIR/Positive/29/701/00060010.png\n",
            "\n",
            " INDEX: 2\n",
            "\n",
            "  Máscara (Imagem após dilatação e erosão) \n",
            "\n"
          ]
        },
        {
          "output_type": "display_data",
          "data": {
            "text/plain": [
              "<PIL.Image.Image image mode=RGB size=320x320 at 0x7FC61E682C90>"
            ],
            "image/png": "[encoded data removed]"
          },
          "metadata": {}
        },
        {
          "output_type": "stream",
          "name": "stdout",
          "text": [
            "\n",
            " IMAGEM: ./SPAIR/Positive/29/701/00060008.png\n",
            "\n",
            " INDEX: 3\n",
            "\n",
            "  Máscara (Imagem após dilatação e erosão) \n",
            "\n"
          ]
        },
        {
          "output_type": "display_data",
          "data": {
            "text/plain": [
              "<PIL.Image.Image image mode=RGB size=320x320 at 0x7FC60F9F68D0>"
            ],
            "image/png": "[encoded data removed]"
          },
          "metadata": {}
        },
        {
          "output_type": "stream",
          "name": "stdout",
          "text": [
            "\n",
            " IMAGEM: ./SPAIR/Positive/29/701/00060007.png\n",
            "\n",
            " INDEX: 4\n",
            "\n",
            "  Máscara (Imagem após dilatação e erosão) \n",
            "\n"
          ]
        },
        {
          "output_type": "display_data",
          "data": {
            "text/plain": [
              "<PIL.Image.Image image mode=RGB size=320x320 at 0x7FC60DD85E10>"
            ],
            "image/png": "[encoded data removed]"
          },
          "metadata": {}
        },
        {
          "output_type": "stream",
          "name": "stdout",
          "text": [
            "\n",
            " IMAGEM: ./SPAIR/Positive/29/701/00060006.png\n",
            "\n",
            " INDEX: 5\n",
            "\n",
            "  Máscara (Imagem após dilatação e erosão) \n",
            "\n"
          ]
        },
        {
          "output_type": "display_data",
          "data": {
            "text/plain": [
              "<PIL.Image.Image image mode=RGB size=320x320 at 0x7FC5FB33BA50>"
            ],
            "image/png": "[encoded data removed]"
          },
          "metadata": {}
        },
        {
          "output_type": "stream",
          "name": "stdout",
          "text": [
            "\n",
            " IMAGEM: ./SPAIR/Positive/30/COR_T2_SPAIR_401/IM-0009-0007.png\n",
            "\n",
            " INDEX: 6\n",
            "\n",
            "  Máscara (Imagem após dilatação e erosão) \n",
            "\n"
          ]
        },
        {
          "output_type": "display_data",
          "data": {
            "text/plain": [
              "<PIL.Image.Image image mode=RGB size=320x320 at 0x7FC60DD85E10>"
            ],
            "image/png": "[encoded data removed]"
          },
          "metadata": {}
        },
        {
          "output_type": "stream",
          "name": "stdout",
          "text": [
            "\n",
            " IMAGEM: ./SPAIR/Positive/30/COR_T2_SPAIR_401/IM-0009-0012.png\n",
            "\n",
            " INDEX: 7\n",
            "\n",
            "  Máscara (Imagem após dilatação e erosão) \n",
            "\n"
          ]
        },
        {
          "output_type": "display_data",
          "data": {
            "text/plain": [
              "<PIL.Image.Image image mode=RGB size=320x320 at 0x7FC60FE5BD50>"
            ],
            "image/png": "[encoded data removed]"
          },
          "metadata": {}
        },
        {
          "output_type": "stream",
          "name": "stdout",
          "text": [
            "\n",
            " IMAGEM: ./SPAIR/Positive/30/COR_T2_SPAIR_401/IM-0009-0008.png\n",
            "\n",
            " INDEX: 8\n",
            "\n",
            "  Máscara (Imagem após dilatação e erosão) \n",
            "\n"
          ]
        },
        {
          "output_type": "display_data",
          "data": {
            "text/plain": [
              "<PIL.Image.Image image mode=RGB size=320x320 at 0x7FC5FB344C90>"
            ],
            "image/png": "[encoded data removed]"
          },
          "metadata": {}
        },
        {
          "output_type": "stream",
          "name": "stdout",
          "text": [
            "\n",
            " IMAGEM: ./SPAIR/Positive/30/COR_T2_SPAIR_401/IM-0009-0011.png\n",
            "\n",
            " INDEX: 9\n",
            "\n",
            "  Máscara (Imagem após dilatação e erosão) \n",
            "\n"
          ]
        },
        {
          "output_type": "display_data",
          "data": {
            "text/plain": [
              "<PIL.Image.Image image mode=RGB size=320x320 at 0x7FC5FB33BA50>"
            ],
            "image/png": "[encoded data removed]"
          },
          "metadata": {}
        },
        {
          "output_type": "stream",
          "name": "stdout",
          "text": [
            "\n",
            " IMAGEM: ./SPAIR/Positive/30/COR_T2_SPAIR_401/IM-0009-0010.png\n",
            "\n",
            " INDEX: 10\n",
            "\n",
            "  Máscara (Imagem após dilatação e erosão) \n",
            "\n"
          ]
        },
        {
          "output_type": "display_data",
          "data": {
            "text/plain": [
              "<PIL.Image.Image image mode=RGB size=320x320 at 0x7FC61E682C90>"
            ],
            "image/png": "[encoded data removed]"
          },
          "metadata": {}
        },
        {
          "output_type": "stream",
          "name": "stdout",
          "text": [
            "\n",
            " IMAGEM: ./SPAIR/Positive/30/COR_T2_SPAIR_401/IM-0009-0009.png\n",
            "\n",
            " INDEX: 11\n",
            "\n",
            "  Máscara (Imagem após dilatação e erosão) \n",
            "\n"
          ]
        },
        {
          "output_type": "display_data",
          "data": {
            "text/plain": [
              "<PIL.Image.Image image mode=RGB size=320x320 at 0x7FC5FB430FD0>"
            ],
            "image/png": "[encoded data removed]"
          },
          "metadata": {}
        },
        {
          "output_type": "stream",
          "name": "stdout",
          "text": [
            "\n",
            " IMAGEM: ./SPAIR/Positive/33/COR_T2_SPAIR_601/IM-0005-0007.png\n",
            "\n",
            " INDEX: 12\n",
            "\n",
            "  Máscara (Imagem após dilatação e erosão) \n",
            "\n"
          ]
        },
        {
          "output_type": "display_data",
          "data": {
            "text/plain": [
              "<PIL.Image.Image image mode=RGB size=320x320 at 0x7FC5FB344C90>"
            ],
            "image/png": "[encoded data removed]"
          },
          "metadata": {}
        },
        {
          "output_type": "stream",
          "name": "stdout",
          "text": [
            "\n",
            " IMAGEM: ./SPAIR/Positive/33/COR_T2_SPAIR_601/IM-0005-0009.png\n",
            "\n",
            " INDEX: 13\n",
            "\n",
            "  Máscara (Imagem após dilatação e erosão) \n",
            "\n"
          ]
        },
        {
          "output_type": "display_data",
          "data": {
            "text/plain": [
              "<PIL.Image.Image image mode=RGB size=320x320 at 0x7FC60F9F68D0>"
            ],
            "image/png": "[encoded data removed]"
          },
          "metadata": {}
        },
        {
          "output_type": "stream",
          "name": "stdout",
          "text": [
            "\n",
            " IMAGEM: ./SPAIR/Positive/33/COR_T2_SPAIR_601/IM-0005-0008.png\n",
            "\n",
            " INDEX: 14\n",
            "\n",
            "  Máscara (Imagem após dilatação e erosão) \n",
            "\n"
          ]
        },
        {
          "output_type": "display_data",
          "data": {
            "text/plain": [
              "<PIL.Image.Image image mode=RGB size=320x320 at 0x7FC60D8E9FD0>"
            ],
            "image/png": "[encoded data removed]"
          },
          "metadata": {}
        },
        {
          "output_type": "stream",
          "name": "stdout",
          "text": [
            "\n",
            " IMAGEM: ./SPAIR/Positive/33/COR_T2_SPAIR_601/IM-0005-0005.png\n",
            "\n",
            " INDEX: 15\n",
            "\n",
            "  Máscara (Imagem após dilatação e erosão) \n",
            "\n"
          ]
        },
        {
          "output_type": "display_data",
          "data": {
            "text/plain": [
              "<PIL.Image.Image image mode=RGB size=320x320 at 0x7FC617E06F90>"
            ],
            "image/png": "[encoded data removed]"
          },
          "metadata": {}
        },
        {
          "output_type": "stream",
          "name": "stdout",
          "text": [
            "\n",
            " IMAGEM: ./SPAIR/Positive/33/COR_T2_SPAIR_601/IM-0005-0004.png\n",
            "\n",
            " INDEX: 16\n",
            "\n",
            "  Máscara (Imagem após dilatação e erosão) \n",
            "\n"
          ]
        },
        {
          "output_type": "display_data",
          "data": {
            "text/plain": [
              "<PIL.Image.Image image mode=RGB size=320x320 at 0x7FC6085E8BD0>"
            ],
            "image/png": "[encoded data removed]"
          },
          "metadata": {}
        },
        {
          "output_type": "stream",
          "name": "stdout",
          "text": [
            "\n",
            " IMAGEM: ./SPAIR/Positive/33/COR_T2_SPAIR_601/IM-0005-0006.png\n",
            "\n",
            " INDEX: 17\n",
            "\n",
            "  Máscara (Imagem após dilatação e erosão) \n",
            "\n"
          ]
        },
        {
          "output_type": "display_data",
          "data": {
            "text/plain": [
              "<PIL.Image.Image image mode=RGB size=320x320 at 0x7FC60FAE6690>"
            ],
            "image/png": "[encoded data removed]"
          },
          "metadata": {}
        },
        {
          "output_type": "stream",
          "name": "stdout",
          "text": [
            "\n",
            " IMAGEM: ./SPAIR/Positive/40/COR_T2_SPAIR_501/IM-0004-0009.png\n",
            "\n",
            " INDEX: 18\n",
            "\n",
            "  Máscara (Imagem após dilatação e erosão) \n",
            "\n"
          ]
        },
        {
          "output_type": "display_data",
          "data": {
            "text/plain": [
              "<PIL.Image.Image image mode=RGB size=320x320 at 0x7FC60F9F68D0>"
            ],
            "image/png": "[encoded data removed]"
          },
          "metadata": {}
        },
        {
          "output_type": "stream",
          "name": "stdout",
          "text": [
            "\n",
            " IMAGEM: ./SPAIR/Positive/40/COR_T2_SPAIR_501/IM-0004-0010.png\n",
            "\n",
            " INDEX: 19\n",
            "\n",
            "  Máscara (Imagem após dilatação e erosão) \n",
            "\n"
          ]
        },
        {
          "output_type": "display_data",
          "data": {
            "text/plain": [
              "<PIL.Image.Image image mode=RGB size=320x320 at 0x7FC5FB332E10>"
            ],
            "image/png": "[encoded data removed]"
          },
          "metadata": {}
        },
        {
          "output_type": "stream",
          "name": "stdout",
          "text": [
            "\n",
            " IMAGEM: ./SPAIR/Positive/40/COR_T2_SPAIR_501/IM-0004-0008.png\n",
            "\n",
            " INDEX: 20\n",
            "\n",
            "  Máscara (Imagem após dilatação e erosão) \n",
            "\n"
          ]
        },
        {
          "output_type": "display_data",
          "data": {
            "text/plain": [
              "<PIL.Image.Image image mode=RGB size=320x320 at 0x7FC60E1974D0>"
            ],
            "image/png": "[encoded data removed]"
          },
          "metadata": {}
        },
        {
          "output_type": "stream",
          "name": "stdout",
          "text": [
            "\n",
            " IMAGEM: ./SPAIR/Positive/40/COR_T2_SPAIR_501/IM-0004-0012.png\n",
            "\n",
            " INDEX: 21\n",
            "\n",
            "  Máscara (Imagem após dilatação e erosão) \n",
            "\n"
          ]
        },
        {
          "output_type": "display_data",
          "data": {
            "text/plain": [
              "<PIL.Image.Image image mode=RGB size=320x320 at 0x7FC6085E8710>"
            ],
            "image/png": "[encoded data removed]"
          },
          "metadata": {}
        },
        {
          "output_type": "stream",
          "name": "stdout",
          "text": [
            "\n",
            " IMAGEM: ./SPAIR/Positive/40/COR_T2_SPAIR_501/IM-0004-0011.png\n",
            "\n",
            " INDEX: 22\n",
            "\n",
            "  Máscara (Imagem após dilatação e erosão) \n",
            "\n"
          ]
        },
        {
          "output_type": "display_data",
          "data": {
            "text/plain": [
              "<PIL.Image.Image image mode=RGB size=320x320 at 0x7FC5FB344C90>"
            ],
            "image/png": "[encoded data removed]"
          },
          "metadata": {}
        },
        {
          "output_type": "stream",
          "name": "stdout",
          "text": [
            "\n",
            " IMAGEM: ./SPAIR/Positive/40/COR_T2_SPAIR_501/IM-0004-0007.png\n",
            "\n",
            " INDEX: 23\n",
            "\n",
            "  Máscara (Imagem após dilatação e erosão) \n",
            "\n"
          ]
        },
        {
          "output_type": "display_data",
          "data": {
            "text/plain": [
              "<PIL.Image.Image image mode=RGB size=320x320 at 0x7FC60FCF5750>"
            ],
            "image/png": "[encoded data removed]"
          },
          "metadata": {}
        },
        {
          "output_type": "stream",
          "name": "stdout",
          "text": [
            "\n",
            " IMAGEM: ./SPAIR/Positive/38/Rm_Sacroiliacas - 742133/COR_T2_SPAIR_301/IM-0001-0005.png\n",
            "\n",
            " INDEX: 24\n",
            "\n",
            "  Máscara (Imagem após dilatação e erosão) \n",
            "\n"
          ]
        },
        {
          "output_type": "display_data",
          "data": {
            "text/plain": [
              "<PIL.Image.Image image mode=RGB size=320x320 at 0x7FC60FCF5750>"
            ],
            "image/png": "[encoded data removed]"
          },
          "metadata": {}
        },
        {
          "output_type": "stream",
          "name": "stdout",
          "text": [
            "\n",
            " IMAGEM: ./SPAIR/Positive/38/Rm_Sacroiliacas - 742133/COR_T2_SPAIR_301/IM-0001-0006.png\n",
            "\n",
            " INDEX: 25\n",
            "\n",
            "  Máscara (Imagem após dilatação e erosão) \n",
            "\n"
          ]
        },
        {
          "output_type": "display_data",
          "data": {
            "text/plain": [
              "<PIL.Image.Image image mode=RGB size=320x320 at 0x7FC60FCF5C90>"
            ],
            "image/png": "[encoded data removed]"
          },
          "metadata": {}
        },
        {
          "output_type": "stream",
          "name": "stdout",
          "text": [
            "\n",
            " IMAGEM: ./SPAIR/Positive/38/Rm_Sacroiliacas - 742133/COR_T2_SPAIR_301/IM-0001-0003.png\n",
            "\n",
            " INDEX: 26\n",
            "\n",
            "  Máscara (Imagem após dilatação e erosão) \n",
            "\n"
          ]
        },
        {
          "output_type": "display_data",
          "data": {
            "text/plain": [
              "<PIL.Image.Image image mode=RGB size=320x320 at 0x7FC6085E8710>"
            ],
            "image/png": "[encoded data removed]"
          },
          "metadata": {}
        },
        {
          "output_type": "stream",
          "name": "stdout",
          "text": [
            "\n",
            " IMAGEM: ./SPAIR/Positive/38/Rm_Sacroiliacas - 742133/COR_T2_SPAIR_301/IM-0001-0007.png\n",
            "\n",
            " INDEX: 27\n",
            "\n",
            "  Máscara (Imagem após dilatação e erosão) \n",
            "\n"
          ]
        },
        {
          "output_type": "display_data",
          "data": {
            "text/plain": [
              "<PIL.Image.Image image mode=RGB size=320x320 at 0x7FC5FB332E10>"
            ],
            "image/png": "[encoded data removed]"
          },
          "metadata": {}
        },
        {
          "output_type": "stream",
          "name": "stdout",
          "text": [
            "\n",
            " IMAGEM: ./SPAIR/Positive/38/Rm_Sacroiliacas - 742133/COR_T2_SPAIR_301/IM-0001-0004.png\n",
            "\n",
            " INDEX: 28\n",
            "\n",
            "  Máscara (Imagem após dilatação e erosão) \n",
            "\n"
          ]
        },
        {
          "output_type": "display_data",
          "data": {
            "text/plain": [
              "<PIL.Image.Image image mode=RGB size=320x320 at 0x7FC60D8E9E50>"
            ],
            "image/png": "[encoded data removed]"
          },
          "metadata": {}
        },
        {
          "output_type": "stream",
          "name": "stdout",
          "text": [
            "\n",
            " IMAGEM: ./SPAIR/Positive/38/Rm_Sacroiliacas - 742133/COR_T2_SPAIR_301/IM-0001-0008.png\n",
            "\n",
            " INDEX: 29\n",
            "\n",
            "  Máscara (Imagem após dilatação e erosão) \n",
            "\n"
          ]
        },
        {
          "output_type": "display_data",
          "data": {
            "text/plain": [
              "<PIL.Image.Image image mode=RGB size=320x320 at 0x7FC61E682C90>"
            ],
            "image/png": "[encoded data removed]"
          },
          "metadata": {}
        },
        {
          "output_type": "stream",
          "name": "stdout",
          "text": [
            "\n",
            " IMAGEM: ./SPAIR/Positive/36/301/00040007.png\n",
            "\n",
            " INDEX: 30\n",
            "\n",
            "  Máscara (Imagem após dilatação e erosão) \n",
            "\n"
          ]
        },
        {
          "output_type": "display_data",
          "data": {
            "text/plain": [
              "<PIL.Image.Image image mode=RGB size=320x320 at 0x7FC5FB332E10>"
            ],
            "image/png": "[encoded data removed]"
          },
          "metadata": {}
        },
        {
          "output_type": "stream",
          "name": "stdout",
          "text": [
            "\n",
            " IMAGEM: ./SPAIR/Positive/36/301/00040011.png\n",
            "\n",
            " INDEX: 31\n",
            "\n",
            "  Máscara (Imagem após dilatação e erosão) \n",
            "\n"
          ]
        },
        {
          "output_type": "display_data",
          "data": {
            "text/plain": [
              "<PIL.Image.Image image mode=RGB size=320x320 at 0x7FC5FB430D10>"
            ],
            "image/png": "[encoded data removed]"
          },
          "metadata": {}
        },
        {
          "output_type": "stream",
          "name": "stdout",
          "text": [
            "\n",
            " IMAGEM: ./SPAIR/Positive/36/301/00040008.png\n",
            "\n",
            " INDEX: 32\n",
            "\n",
            "  Máscara (Imagem após dilatação e erosão) \n",
            "\n"
          ]
        },
        {
          "output_type": "display_data",
          "data": {
            "text/plain": [
              "<PIL.Image.Image image mode=RGB size=320x320 at 0x7FC60FCF5750>"
            ],
            "image/png": "[encoded data removed]"
          },
          "metadata": {}
        },
        {
          "output_type": "stream",
          "name": "stdout",
          "text": [
            "\n",
            " IMAGEM: ./SPAIR/Positive/36/301/00040010.png\n",
            "\n",
            " INDEX: 33\n",
            "\n",
            "  Máscara (Imagem após dilatação e erosão) \n",
            "\n"
          ]
        },
        {
          "output_type": "display_data",
          "data": {
            "text/plain": [
              "<PIL.Image.Image image mode=RGB size=320x320 at 0x7FC5FB430D10>"
            ],
            "image/png": "[encoded data removed]"
          },
          "metadata": {}
        },
        {
          "output_type": "stream",
          "name": "stdout",
          "text": [
            "\n",
            " IMAGEM: ./SPAIR/Positive/36/301/00040009.png\n",
            "\n",
            " INDEX: 34\n",
            "\n",
            "  Máscara (Imagem após dilatação e erosão) \n",
            "\n"
          ]
        },
        {
          "output_type": "display_data",
          "data": {
            "text/plain": [
              "<PIL.Image.Image image mode=RGB size=320x320 at 0x7FC5FB430D10>"
            ],
            "image/png": "[encoded data removed]"
          },
          "metadata": {}
        },
        {
          "output_type": "stream",
          "name": "stdout",
          "text": [
            "\n",
            " IMAGEM: ./SPAIR/Positive/36/301/00040012.png\n",
            "\n",
            " INDEX: 35\n",
            "\n",
            "  Máscara (Imagem após dilatação e erosão) \n",
            "\n"
          ]
        },
        {
          "output_type": "display_data",
          "data": {
            "text/plain": [
              "<PIL.Image.Image image mode=RGB size=320x320 at 0x7FC5FB344C90>"
            ],
            "image/png": "[encoded data removed]"
          },
          "metadata": {}
        },
        {
          "output_type": "stream",
          "name": "stdout",
          "text": [
            "\n",
            " IMAGEM: ./SPAIR/Positive/37/Rm_Sacroiliacas - 18705550/COR_T2_SPAIR_301/IM-0001-0006.png\n",
            "\n",
            " INDEX: 36\n",
            "\n",
            "  Máscara (Imagem após dilatação e erosão) \n",
            "\n"
          ]
        },
        {
          "output_type": "display_data",
          "data": {
            "text/plain": [
              "<PIL.Image.Image image mode=RGB size=320x320 at 0x7FC60FE5BD50>"
            ],
            "image/png": "[encoded data removed]"
          },
          "metadata": {}
        },
        {
          "output_type": "stream",
          "name": "stdout",
          "text": [
            "\n",
            " IMAGEM: ./SPAIR/Positive/37/Rm_Sacroiliacas - 18705550/COR_T2_SPAIR_301/IM-0001-0005.png\n",
            "\n",
            " INDEX: 37\n",
            "\n",
            "  Máscara (Imagem após dilatação e erosão) \n",
            "\n"
          ]
        },
        {
          "output_type": "display_data",
          "data": {
            "text/plain": [
              "<PIL.Image.Image image mode=RGB size=320x320 at 0x7FC60FCF5750>"
            ],
            "image/png": "[encoded data removed]"
          },
          "metadata": {}
        },
        {
          "output_type": "stream",
          "name": "stdout",
          "text": [
            "\n",
            " IMAGEM: ./SPAIR/Positive/37/Rm_Sacroiliacas - 18705550/COR_T2_SPAIR_301/IM-0001-0007.png\n",
            "\n",
            " INDEX: 38\n",
            "\n",
            "  Máscara (Imagem após dilatação e erosão) \n",
            "\n"
          ]
        },
        {
          "output_type": "display_data",
          "data": {
            "text/plain": [
              "<PIL.Image.Image image mode=RGB size=320x320 at 0x7FC60D8E9E50>"
            ],
            "image/png": "[encoded data removed]"
          },
          "metadata": {}
        },
        {
          "output_type": "stream",
          "name": "stdout",
          "text": [
            "\n",
            " IMAGEM: ./SPAIR/Positive/37/Rm_Sacroiliacas - 18705550/COR_T2_SPAIR_301/IM-0001-0008.png\n",
            "\n",
            " INDEX: 39\n",
            "\n",
            "  Máscara (Imagem após dilatação e erosão) \n",
            "\n"
          ]
        },
        {
          "output_type": "display_data",
          "data": {
            "text/plain": [
              "<PIL.Image.Image image mode=RGB size=320x320 at 0x7FC5FB332E10>"
            ],
            "image/png": "[encoded data removed]"
          },
          "metadata": {}
        },
        {
          "output_type": "stream",
          "name": "stdout",
          "text": [
            "\n",
            " IMAGEM: ./SPAIR/Positive/37/Rm_Sacroiliacas - 18705550/COR_T2_SPAIR_301/IM-0001-0009.png\n",
            "\n",
            " INDEX: 40\n",
            "\n",
            "  Máscara (Imagem após dilatação e erosão) \n",
            "\n"
          ]
        },
        {
          "output_type": "display_data",
          "data": {
            "text/plain": [
              "<PIL.Image.Image image mode=RGB size=320x320 at 0x7FC5FB430F90>"
            ],
            "image/png": "[encoded data removed]"
          },
          "metadata": {}
        },
        {
          "output_type": "stream",
          "name": "stdout",
          "text": [
            "\n",
            " IMAGEM: ./SPAIR/Positive/37/Rm_Sacroiliacas - 18705550/COR_T2_SPAIR_301/IM-0001-0004.png\n",
            "\n",
            " INDEX: 41\n",
            "\n",
            "  Máscara (Imagem após dilatação e erosão) \n",
            "\n"
          ]
        },
        {
          "output_type": "display_data",
          "data": {
            "text/plain": [
              "<PIL.Image.Image image mode=RGB size=320x320 at 0x7FC60DD85E10>"
            ],
            "image/png": "[encoded data removed]"
          },
          "metadata": {}
        },
        {
          "output_type": "stream",
          "name": "stdout",
          "text": [
            "\n",
            " IMAGEM: ./SPAIR/Positive/35/401/00070006.png\n",
            "\n",
            " INDEX: 42\n",
            "\n",
            "  Máscara (Imagem após dilatação e erosão) \n",
            "\n"
          ]
        },
        {
          "output_type": "display_data",
          "data": {
            "text/plain": [
              "<PIL.Image.Image image mode=RGB size=432x432 at 0x7FC61E682C90>"
            ],
            "image/png": "[encoded data removed]"
          },
          "metadata": {}
        },
        {
          "output_type": "stream",
          "name": "stdout",
          "text": [
            "\n",
            " IMAGEM: ./SPAIR/Positive/35/401/00070008.png\n",
            "\n",
            " INDEX: 43\n",
            "\n",
            "  Máscara (Imagem após dilatação e erosão) \n",
            "\n"
          ]
        },
        {
          "output_type": "display_data",
          "data": {
            "text/plain": [
              "<PIL.Image.Image image mode=RGB size=432x432 at 0x7FC61E682C90>"
            ],
            "image/png": "[encoded data removed]"
          },
          "metadata": {}
        },
        {
          "output_type": "stream",
          "name": "stdout",
          "text": [
            "\n",
            " IMAGEM: ./SPAIR/Positive/35/401/00070007.png\n",
            "\n",
            " INDEX: 44\n",
            "\n",
            "  Máscara (Imagem após dilatação e erosão) \n",
            "\n"
          ]
        },
        {
          "output_type": "display_data",
          "data": {
            "text/plain": [
              "<PIL.Image.Image image mode=RGB size=432x432 at 0x7FC5FB332E10>"
            ],
            "image/png": "[encoded data removed]"
          },
          "metadata": {}
        },
        {
          "output_type": "stream",
          "name": "stdout",
          "text": [
            "\n",
            " IMAGEM: ./SPAIR/Positive/35/401/00070003.png\n",
            "\n",
            " INDEX: 45\n",
            "\n",
            "  Máscara (Imagem após dilatação e erosão) \n",
            "\n"
          ]
        },
        {
          "output_type": "display_data",
          "data": {
            "text/plain": [
              "<PIL.Image.Image image mode=RGB size=432x432 at 0x7FC60D8E9E50>"
            ],
            "image/png": "[encoded data removed]"
          },
          "metadata": {}
        },
        {
          "output_type": "stream",
          "name": "stdout",
          "text": [
            "\n",
            " IMAGEM: ./SPAIR/Positive/35/401/00070004.png\n",
            "\n",
            " INDEX: 46\n",
            "\n",
            "  Máscara (Imagem após dilatação e erosão) \n",
            "\n"
          ]
        },
        {
          "output_type": "display_data",
          "data": {
            "text/plain": [
              "<PIL.Image.Image image mode=RGB size=432x432 at 0x7FC60FE5BD50>"
            ],
            "image/png": "[encoded data removed]"
          },
          "metadata": {}
        },
        {
          "output_type": "stream",
          "name": "stdout",
          "text": [
            "\n",
            " IMAGEM: ./SPAIR/Positive/35/401/00070005.png\n",
            "\n",
            " INDEX: 47\n",
            "\n",
            "  Máscara (Imagem após dilatação e erosão) \n",
            "\n"
          ]
        },
        {
          "output_type": "display_data",
          "data": {
            "text/plain": [
              "<PIL.Image.Image image mode=RGB size=432x432 at 0x7FC5FB430D10>"
            ],
            "image/png": "[encoded data removed]"
          },
          "metadata": {}
        },
        {
          "output_type": "stream",
          "name": "stdout",
          "text": [
            "\n",
            " IMAGEM: ./SPAIR/Positive/34/1001/00050007.png\n",
            "\n",
            " INDEX: 48\n",
            "\n",
            "  Máscara (Imagem após dilatação e erosão) \n",
            "\n"
          ]
        },
        {
          "output_type": "display_data",
          "data": {
            "text/plain": [
              "<PIL.Image.Image image mode=RGB size=320x320 at 0x7FC5FB430F50>"
            ],
            "image/png": "[encoded data removed]"
          },
          "metadata": {}
        },
        {
          "output_type": "stream",
          "name": "stdout",
          "text": [
            "\n",
            " IMAGEM: ./SPAIR/Positive/34/1001/00050008.png\n",
            "\n",
            " INDEX: 49\n",
            "\n",
            "  Máscara (Imagem após dilatação e erosão) \n",
            "\n"
          ]
        },
        {
          "output_type": "display_data",
          "data": {
            "text/plain": [
              "<PIL.Image.Image image mode=RGB size=320x320 at 0x7FC60DD85E10>"
            ],
            "image/png": "[encoded data removed]"
          },
          "metadata": {}
        },
        {
          "output_type": "stream",
          "name": "stdout",
          "text": [
            "\n",
            " IMAGEM: ./SPAIR/Positive/34/1001/00050010.png\n",
            "\n",
            " INDEX: 50\n",
            "\n",
            "  Máscara (Imagem após dilatação e erosão) \n",
            "\n"
          ]
        },
        {
          "output_type": "display_data",
          "data": {
            "text/plain": [
              "<PIL.Image.Image image mode=RGB size=320x320 at 0x7FC60E197690>"
            ],
            "image/png": "[encoded data removed]"
          },
          "metadata": {}
        },
        {
          "output_type": "stream",
          "name": "stdout",
          "text": [
            "\n",
            " IMAGEM: ./SPAIR/Positive/34/1001/00050005.png\n",
            "\n",
            " INDEX: 51\n",
            "\n",
            "  Máscara (Imagem após dilatação e erosão) \n",
            "\n"
          ]
        },
        {
          "output_type": "display_data",
          "data": {
            "text/plain": [
              "<PIL.Image.Image image mode=RGB size=320x320 at 0x7FC60FCF5750>"
            ],
            "image/png": "[encoded data removed]"
          },
          "metadata": {}
        },
        {
          "output_type": "stream",
          "name": "stdout",
          "text": [
            "\n",
            " IMAGEM: ./SPAIR/Positive/34/1001/00050009.png\n",
            "\n",
            " INDEX: 52\n",
            "\n",
            "  Máscara (Imagem após dilatação e erosão) \n",
            "\n"
          ]
        },
        {
          "output_type": "display_data",
          "data": {
            "text/plain": [
              "<PIL.Image.Image image mode=RGB size=320x320 at 0x7FC5FB3446D0>"
            ],
            "image/png": "[encoded data removed]"
          },
          "metadata": {}
        },
        {
          "output_type": "stream",
          "name": "stdout",
          "text": [
            "\n",
            " IMAGEM: ./SPAIR/Positive/34/1001/00050006.png\n",
            "\n",
            " INDEX: 53\n",
            "\n",
            "  Máscara (Imagem após dilatação e erosão) \n",
            "\n"
          ]
        },
        {
          "output_type": "display_data",
          "data": {
            "text/plain": [
              "<PIL.Image.Image image mode=RGB size=320x320 at 0x7FC5FB430FD0>"
            ],
            "image/png": "[encoded data removed]"
          },
          "metadata": {}
        },
        {
          "output_type": "stream",
          "name": "stdout",
          "text": [
            "\n",
            " IMAGEM: ./SPAIR/Positive/32/401/00030012.png\n",
            "\n",
            " INDEX: 54\n",
            "\n",
            "  Máscara (Imagem após dilatação e erosão) \n",
            "\n"
          ]
        },
        {
          "output_type": "display_data",
          "data": {
            "text/plain": [
              "<PIL.Image.Image image mode=RGB size=320x320 at 0x7FC60F9F68D0>"
            ],
            "image/png": "[encoded data removed]"
          },
          "metadata": {}
        },
        {
          "output_type": "stream",
          "name": "stdout",
          "text": [
            "\n",
            " IMAGEM: ./SPAIR/Positive/32/401/00030010.png\n",
            "\n",
            " INDEX: 55\n",
            "\n",
            "  Máscara (Imagem após dilatação e erosão) \n",
            "\n"
          ]
        },
        {
          "output_type": "display_data",
          "data": {
            "text/plain": [
              "<PIL.Image.Image image mode=RGB size=320x320 at 0x7FC5FB430D10>"
            ],
            "image/png": "[encoded data removed]"
          },
          "metadata": {}
        },
        {
          "output_type": "stream",
          "name": "stdout",
          "text": [
            "\n",
            " IMAGEM: ./SPAIR/Positive/32/401/00030009.png\n",
            "\n",
            " INDEX: 56\n",
            "\n",
            "  Máscara (Imagem após dilatação e erosão) \n",
            "\n"
          ]
        },
        {
          "output_type": "display_data",
          "data": {
            "text/plain": [
              "<PIL.Image.Image image mode=RGB size=320x320 at 0x7FC60FE5BD50>"
            ],
            "image/png": "[encoded data removed]"
          },
          "metadata": {}
        },
        {
          "output_type": "stream",
          "name": "stdout",
          "text": [
            "\n",
            " IMAGEM: ./SPAIR/Positive/32/401/00030007.png\n",
            "\n",
            " INDEX: 57\n",
            "\n",
            "  Máscara (Imagem após dilatação e erosão) \n",
            "\n"
          ]
        },
        {
          "output_type": "display_data",
          "data": {
            "text/plain": [
              "<PIL.Image.Image image mode=RGB size=320x320 at 0x7FC60E197690>"
            ],
            "image/png": "[encoded data removed]"
          },
          "metadata": {}
        },
        {
          "output_type": "stream",
          "name": "stdout",
          "text": [
            "\n",
            " IMAGEM: ./SPAIR/Positive/32/401/00030011.png\n",
            "\n",
            " INDEX: 58\n",
            "\n",
            "  Máscara (Imagem após dilatação e erosão) \n",
            "\n"
          ]
        },
        {
          "output_type": "display_data",
          "data": {
            "text/plain": [
              "<PIL.Image.Image image mode=RGB size=320x320 at 0x7FC5FB344C90>"
            ],
            "image/png": "[encoded data removed]"
          },
          "metadata": {}
        },
        {
          "output_type": "stream",
          "name": "stdout",
          "text": [
            "\n",
            " IMAGEM: ./SPAIR/Positive/32/401/00030008.png\n",
            "\n",
            " INDEX: 59\n",
            "\n",
            "  Máscara (Imagem após dilatação e erosão) \n",
            "\n"
          ]
        },
        {
          "output_type": "display_data",
          "data": {
            "text/plain": [
              "<PIL.Image.Image image mode=RGB size=320x320 at 0x7FC60DD85E10>"
            ],
            "image/png": "[encoded data removed]"
          },
          "metadata": {}
        },
        {
          "output_type": "stream",
          "name": "stdout",
          "text": [
            "\n",
            " IMAGEM: ./SPAIR/Positive/31/401/00030008.png\n",
            "\n",
            " INDEX: 60\n",
            "\n",
            "  Máscara (Imagem após dilatação e erosão) \n",
            "\n"
          ]
        },
        {
          "output_type": "display_data",
          "data": {
            "text/plain": [
              "<PIL.Image.Image image mode=RGB size=320x320 at 0x7FC60E1974D0>"
            ],
            "image/png": "[encoded data removed]"
          },
          "metadata": {}
        },
        {
          "output_type": "stream",
          "name": "stdout",
          "text": [
            "\n",
            " IMAGEM: ./SPAIR/Positive/31/401/00030009.png\n",
            "\n",
            " INDEX: 61\n",
            "\n",
            "  Máscara (Imagem após dilatação e erosão) \n",
            "\n"
          ]
        },
        {
          "output_type": "display_data",
          "data": {
            "text/plain": [
              "<PIL.Image.Image image mode=RGB size=320x320 at 0x7FC60FAE6610>"
            ],
            "image/png": "[encoded data removed]"
          },
          "metadata": {}
        },
        {
          "output_type": "stream",
          "name": "stdout",
          "text": [
            "\n",
            " IMAGEM: ./SPAIR/Positive/31/401/00030007.png\n",
            "\n",
            " INDEX: 62\n",
            "\n",
            "  Máscara (Imagem após dilatação e erosão) \n",
            "\n"
          ]
        },
        {
          "output_type": "display_data",
          "data": {
            "text/plain": [
              "<PIL.Image.Image image mode=RGB size=320x320 at 0x7FC5FB3446D0>"
            ],
            "image/png": "[encoded data removed]"
          },
          "metadata": {}
        },
        {
          "output_type": "stream",
          "name": "stdout",
          "text": [
            "\n",
            " IMAGEM: ./SPAIR/Positive/31/401/00030011.png\n",
            "\n",
            " INDEX: 63\n",
            "\n",
            "  Máscara (Imagem após dilatação e erosão) \n",
            "\n"
          ]
        },
        {
          "output_type": "display_data",
          "data": {
            "text/plain": [
              "<PIL.Image.Image image mode=RGB size=320x320 at 0x7FC60FCF5C90>"
            ],
            "image/png": "[encoded data removed]"
          },
          "metadata": {}
        },
        {
          "output_type": "stream",
          "name": "stdout",
          "text": [
            "\n",
            " IMAGEM: ./SPAIR/Positive/31/401/00030012.png\n",
            "\n",
            " INDEX: 64\n",
            "\n",
            "  Máscara (Imagem após dilatação e erosão) \n",
            "\n"
          ]
        },
        {
          "output_type": "display_data",
          "data": {
            "text/plain": [
              "<PIL.Image.Image image mode=RGB size=320x320 at 0x7FC61E682C90>"
            ],
            "image/png": "[encoded data removed]"
          },
          "metadata": {}
        },
        {
          "output_type": "stream",
          "name": "stdout",
          "text": [
            "\n",
            " IMAGEM: ./SPAIR/Positive/31/401/00030010.png\n",
            "\n",
            " INDEX: 65\n",
            "\n",
            "  Máscara (Imagem após dilatação e erosão) \n",
            "\n"
          ]
        },
        {
          "output_type": "display_data",
          "data": {
            "text/plain": [
              "<PIL.Image.Image image mode=RGB size=320x320 at 0x7FC61E682C90>"
            ],
            "image/png": "[encoded data removed]"
          },
          "metadata": {}
        },
        {
          "output_type": "stream",
          "name": "stdout",
          "text": [
            "\n",
            " IMAGEM: ./SPAIR/Positive/39/COR_T2_SPAIR_501/IM-0011-0009.png\n",
            "\n",
            " INDEX: 66\n",
            "\n",
            "  Máscara (Imagem após dilatação e erosão) \n",
            "\n"
          ]
        },
        {
          "output_type": "display_data",
          "data": {
            "text/plain": [
              "<PIL.Image.Image image mode=RGB size=384x384 at 0x7FC60D887F10>"
            ],
            "image/png": "[encoded data removed]"
          },
          "metadata": {}
        },
        {
          "output_type": "stream",
          "name": "stdout",
          "text": [
            "\n",
            " IMAGEM: ./SPAIR/Positive/39/COR_T2_SPAIR_501/IM-0011-0006.png\n",
            "\n",
            " INDEX: 67\n",
            "\n",
            "  Máscara (Imagem após dilatação e erosão) \n",
            "\n"
          ]
        },
        {
          "output_type": "display_data",
          "data": {
            "text/plain": [
              "<PIL.Image.Image image mode=RGB size=384x384 at 0x7FC60D887F10>"
            ],
            "image/png": "[encoded data removed]"
          },
          "metadata": {}
        },
        {
          "output_type": "stream",
          "name": "stdout",
          "text": [
            "\n",
            " IMAGEM: ./SPAIR/Positive/39/COR_T2_SPAIR_501/IM-0011-0007.png\n",
            "\n",
            " INDEX: 68\n",
            "\n",
            "  Máscara (Imagem após dilatação e erosão) \n",
            "\n"
          ]
        },
        {
          "output_type": "display_data",
          "data": {
            "text/plain": [
              "<PIL.Image.Image image mode=RGB size=384x384 at 0x7FC60D887F10>"
            ],
            "image/png": "[encoded data removed]"
          },
          "metadata": {}
        },
        {
          "output_type": "stream",
          "name": "stdout",
          "text": [
            "\n",
            " IMAGEM: ./SPAIR/Positive/39/COR_T2_SPAIR_501/IM-0011-0008.png\n",
            "\n",
            " INDEX: 69\n",
            "\n",
            "  Máscara (Imagem após dilatação e erosão) \n",
            "\n"
          ]
        },
        {
          "output_type": "display_data",
          "data": {
            "text/plain": [
              "<PIL.Image.Image image mode=RGB size=384x384 at 0x7FC60FCF5750>"
            ],
            "image/png": "[encoded data removed]"
          },
          "metadata": {}
        },
        {
          "output_type": "stream",
          "name": "stdout",
          "text": [
            "\n",
            " IMAGEM: ./SPAIR/Positive/39/COR_T2_SPAIR_501/IM-0011-0005.png\n",
            "\n",
            " INDEX: 70\n",
            "\n",
            "  Máscara (Imagem após dilatação e erosão) \n",
            "\n"
          ]
        },
        {
          "output_type": "display_data",
          "data": {
            "text/plain": [
              "<PIL.Image.Image image mode=RGB size=384x384 at 0x7FC5FB332E10>"
            ],
            "image/png": "[encoded data removed]"
          },
          "metadata": {}
        },
        {
          "output_type": "stream",
          "name": "stdout",
          "text": [
            "\n",
            " IMAGEM: ./SPAIR/Positive/39/COR_T2_SPAIR_501/IM-0011-0004.png\n",
            "\n",
            " INDEX: 71\n",
            "\n",
            "  Máscara (Imagem após dilatação e erosão) \n",
            "\n"
          ]
        },
        {
          "output_type": "display_data",
          "data": {
            "text/plain": [
              "<PIL.Image.Image image mode=RGB size=384x384 at 0x7FC60FCF5C90>"
            ],
            "image/png": "[encoded data removed]"
          },
          "metadata": {}
        },
        {
          "output_type": "stream",
          "name": "stdout",
          "text": [
            "\n",
            " IMAGEM: ./SPAIR/Positive/49/COR_T2_SPAIR_701/IM-0007-0005.png\n",
            "\n",
            " INDEX: 72\n",
            "\n",
            "  Máscara (Imagem após dilatação e erosão) \n",
            "\n"
          ]
        },
        {
          "output_type": "display_data",
          "data": {
            "text/plain": [
              "<PIL.Image.Image image mode=RGB size=320x320 at 0x7FC60FAE6690>"
            ],
            "image/png": "[encoded data removed]"
          },
          "metadata": {}
        },
        {
          "output_type": "stream",
          "name": "stdout",
          "text": [
            "\n",
            " IMAGEM: ./SPAIR/Positive/49/COR_T2_SPAIR_701/IM-0007-0006.png\n",
            "\n",
            " INDEX: 73\n",
            "\n",
            "  Máscara (Imagem após dilatação e erosão) \n",
            "\n"
          ]
        },
        {
          "output_type": "display_data",
          "data": {
            "text/plain": [
              "<PIL.Image.Image image mode=RGB size=320x320 at 0x7FC61E682C90>"
            ],
            "image/png": "[encoded data removed]"
          },
          "metadata": {}
        },
        {
          "output_type": "stream",
          "name": "stdout",
          "text": [
            "\n",
            " IMAGEM: ./SPAIR/Positive/49/COR_T2_SPAIR_701/IM-0007-0007.png\n",
            "\n",
            " INDEX: 74\n",
            "\n",
            "  Máscara (Imagem após dilatação e erosão) \n",
            "\n"
          ]
        },
        {
          "output_type": "display_data",
          "data": {
            "text/plain": [
              "<PIL.Image.Image image mode=RGB size=320x320 at 0x7FC5FB344C90>"
            ],
            "image/png": "[encoded data removed]"
          },
          "metadata": {}
        },
        {
          "output_type": "stream",
          "name": "stdout",
          "text": [
            "\n",
            " IMAGEM: ./SPAIR/Positive/49/COR_T2_SPAIR_701/IM-0007-0003.png\n",
            "\n",
            " INDEX: 75\n",
            "\n",
            "  Máscara (Imagem após dilatação e erosão) \n",
            "\n"
          ]
        },
        {
          "output_type": "display_data",
          "data": {
            "text/plain": [
              "<PIL.Image.Image image mode=RGB size=320x320 at 0x7FC61E682C90>"
            ],
            "image/png": "[encoded data removed]"
          },
          "metadata": {}
        },
        {
          "output_type": "stream",
          "name": "stdout",
          "text": [
            "\n",
            " IMAGEM: ./SPAIR/Positive/49/COR_T2_SPAIR_701/IM-0007-0004.png\n",
            "\n",
            " INDEX: 76\n",
            "\n",
            "  Máscara (Imagem após dilatação e erosão) \n",
            "\n"
          ]
        },
        {
          "output_type": "display_data",
          "data": {
            "text/plain": [
              "<PIL.Image.Image image mode=RGB size=320x320 at 0x7FC5FB430D10>"
            ],
            "image/png": "[encoded data removed]"
          },
          "metadata": {}
        },
        {
          "output_type": "stream",
          "name": "stdout",
          "text": [
            "\n",
            " IMAGEM: ./SPAIR/Positive/49/COR_T2_SPAIR_701/IM-0007-0002.png\n",
            "\n",
            " INDEX: 77\n",
            "\n",
            "  Máscara (Imagem após dilatação e erosão) \n",
            "\n"
          ]
        },
        {
          "output_type": "display_data",
          "data": {
            "text/plain": [
              "<PIL.Image.Image image mode=RGB size=320x320 at 0x7FC5FB430D10>"
            ],
            "image/png": "[encoded data removed]"
          },
          "metadata": {}
        },
        {
          "output_type": "stream",
          "name": "stdout",
          "text": [
            "\n",
            " IMAGEM: ./SPAIR/Positive/43/COR_T2_SPAIR_701/IM-0007-0007.png\n",
            "\n",
            " INDEX: 78\n",
            "\n",
            "  Máscara (Imagem após dilatação e erosão) \n",
            "\n"
          ]
        },
        {
          "output_type": "display_data",
          "data": {
            "text/plain": [
              "<PIL.Image.Image image mode=RGB size=384x384 at 0x7FC5FB430F90>"
            ],
            "image/png": "[encoded data removed]"
          },
          "metadata": {}
        },
        {
          "output_type": "stream",
          "name": "stdout",
          "text": [
            "\n",
            " IMAGEM: ./SPAIR/Positive/43/COR_T2_SPAIR_701/IM-0007-0006.png\n",
            "\n",
            " INDEX: 79\n",
            "\n",
            "  Máscara (Imagem após dilatação e erosão) \n",
            "\n"
          ]
        },
        {
          "output_type": "display_data",
          "data": {
            "text/plain": [
              "<PIL.Image.Image image mode=RGB size=384x384 at 0x7FC5FB430FD0>"
            ],
            "image/png": "[encoded data removed]"
          },
          "metadata": {}
        },
        {
          "output_type": "stream",
          "name": "stdout",
          "text": [
            "\n",
            " IMAGEM: ./SPAIR/Positive/43/COR_T2_SPAIR_701/IM-0007-0004.png\n",
            "\n",
            " INDEX: 80\n",
            "\n",
            "  Máscara (Imagem após dilatação e erosão) \n",
            "\n"
          ]
        },
        {
          "output_type": "display_data",
          "data": {
            "text/plain": [
              "<PIL.Image.Image image mode=RGB size=384x384 at 0x7FC60FCF5750>"
            ],
            "image/png": "[encoded data removed]"
          },
          "metadata": {}
        },
        {
          "output_type": "stream",
          "name": "stdout",
          "text": [
            "\n",
            " IMAGEM: ./SPAIR/Positive/43/COR_T2_SPAIR_701/IM-0007-0005.png\n",
            "\n",
            " INDEX: 81\n",
            "\n",
            "  Máscara (Imagem após dilatação e erosão) \n",
            "\n"
          ]
        },
        {
          "output_type": "display_data",
          "data": {
            "text/plain": [
              "<PIL.Image.Image image mode=RGB size=384x384 at 0x7FC60D8E9E50>"
            ],
            "image/png": "[encoded data removed]"
          },
          "metadata": {}
        },
        {
          "output_type": "stream",
          "name": "stdout",
          "text": [
            "\n",
            " IMAGEM: ./SPAIR/Positive/43/COR_T2_SPAIR_701/IM-0007-0008.png\n",
            "\n",
            " INDEX: 82\n",
            "\n",
            "  Máscara (Imagem após dilatação e erosão) \n",
            "\n"
          ]
        },
        {
          "output_type": "display_data",
          "data": {
            "text/plain": [
              "<PIL.Image.Image image mode=RGB size=384x384 at 0x7FC5FB33BA50>"
            ],
            "image/png": "[encoded data removed]"
          },
          "metadata": {}
        },
        {
          "output_type": "stream",
          "name": "stdout",
          "text": [
            "\n",
            " IMAGEM: ./SPAIR/Positive/43/COR_T2_SPAIR_701/IM-0007-0009.png\n",
            "\n",
            " INDEX: 83\n",
            "\n",
            "  Máscara (Imagem após dilatação e erosão) \n",
            "\n"
          ]
        },
        {
          "output_type": "display_data",
          "data": {
            "text/plain": [
              "<PIL.Image.Image image mode=RGB size=320x320 at 0x7FC5FB430F90>"
            ],
            "image/png": "[encoded data removed]"
          },
          "metadata": {}
        },
        {
          "output_type": "stream",
          "name": "stdout",
          "text": [
            "\n",
            " IMAGEM: ./SPAIR/Positive/47/COR_T2_SPAIR_1001/IM-0002-0007.png\n",
            "\n",
            " INDEX: 84\n",
            "\n",
            "  Máscara (Imagem após dilatação e erosão) \n",
            "\n"
          ]
        },
        {
          "output_type": "display_data",
          "data": {
            "text/plain": [
              "<PIL.Image.Image image mode=RGB size=320x320 at 0x7FC5FB430D10>"
            ],
            "image/png": "[encoded data removed]"
          },
          "metadata": {}
        },
        {
          "output_type": "stream",
          "name": "stdout",
          "text": [
            "\n",
            " IMAGEM: ./SPAIR/Positive/47/COR_T2_SPAIR_1001/IM-0002-0010.png\n",
            "\n",
            " INDEX: 85\n",
            "\n",
            "  Máscara (Imagem após dilatação e erosão) \n",
            "\n"
          ]
        },
        {
          "output_type": "display_data",
          "data": {
            "text/plain": [
              "<PIL.Image.Image image mode=RGB size=320x320 at 0x7FC60FAE6610>"
            ],
            "image/png": "[encoded data removed]"
          },
          "metadata": {}
        },
        {
          "output_type": "stream",
          "name": "stdout",
          "text": [
            "\n",
            " IMAGEM: ./SPAIR/Positive/47/COR_T2_SPAIR_1001/IM-0002-0009.png\n",
            "\n",
            " INDEX: 86\n",
            "\n",
            "  Máscara (Imagem após dilatação e erosão) \n",
            "\n"
          ]
        },
        {
          "output_type": "display_data",
          "data": {
            "text/plain": [
              "<PIL.Image.Image image mode=RGB size=320x320 at 0x7FC60FAE6610>"
            ],
            "image/png": "[encoded data removed]"
          },
          "metadata": {}
        },
        {
          "output_type": "stream",
          "name": "stdout",
          "text": [
            "\n",
            " IMAGEM: ./SPAIR/Positive/47/COR_T2_SPAIR_1001/IM-0002-0011.png\n",
            "\n",
            " INDEX: 87\n",
            "\n",
            "  Máscara (Imagem após dilatação e erosão) \n",
            "\n"
          ]
        },
        {
          "output_type": "display_data",
          "data": {
            "text/plain": [
              "<PIL.Image.Image image mode=RGB size=320x320 at 0x7FC60D8E9E50>"
            ],
            "image/png": "[encoded data removed]"
          },
          "metadata": {}
        },
        {
          "output_type": "stream",
          "name": "stdout",
          "text": [
            "\n",
            " IMAGEM: ./SPAIR/Positive/47/COR_T2_SPAIR_1001/IM-0002-0008.png\n",
            "\n",
            " INDEX: 88\n",
            "\n",
            "  Máscara (Imagem após dilatação e erosão) \n",
            "\n"
          ]
        },
        {
          "output_type": "display_data",
          "data": {
            "text/plain": [
              "<PIL.Image.Image image mode=RGB size=320x320 at 0x7FC60D8E9FD0>"
            ],
            "image/png": "[encoded data removed]"
          },
          "metadata": {}
        },
        {
          "output_type": "stream",
          "name": "stdout",
          "text": [
            "\n",
            " IMAGEM: ./SPAIR/Positive/47/COR_T2_SPAIR_1001/IM-0002-0012.png\n",
            "\n",
            " INDEX: 89\n",
            "\n",
            "  Máscara (Imagem após dilatação e erosão) \n",
            "\n"
          ]
        },
        {
          "output_type": "display_data",
          "data": {
            "text/plain": [
              "<PIL.Image.Image image mode=RGB size=320x320 at 0x7FC5FB430F90>"
            ],
            "image/png": "[encoded data removed]"
          },
          "metadata": {}
        },
        {
          "output_type": "stream",
          "name": "stdout",
          "text": [
            "\n",
            " IMAGEM: ./SPAIR/Positive/42/COR_T2_SPAIR_401/IM-0009-0009.png\n",
            "\n",
            " INDEX: 90\n",
            "\n",
            "  Máscara (Imagem após dilatação e erosão) \n",
            "\n"
          ]
        },
        {
          "output_type": "display_data",
          "data": {
            "text/plain": [
              "<PIL.Image.Image image mode=RGB size=320x320 at 0x7FC5FB430FD0>"
            ],
            "image/png": "[encoded data removed]"
          },
          "metadata": {}
        },
        {
          "output_type": "stream",
          "name": "stdout",
          "text": [
            "\n",
            " IMAGEM: ./SPAIR/Positive/42/COR_T2_SPAIR_401/IM-0009-0007.png\n",
            "\n",
            " INDEX: 91\n",
            "\n",
            "  Máscara (Imagem após dilatação e erosão) \n",
            "\n"
          ]
        },
        {
          "output_type": "display_data",
          "data": {
            "text/plain": [
              "<PIL.Image.Image image mode=RGB size=320x320 at 0x7FC60F354790>"
            ],
            "image/png": "[encoded data removed]"
          },
          "metadata": {}
        },
        {
          "output_type": "stream",
          "name": "stdout",
          "text": [
            "\n",
            " IMAGEM: ./SPAIR/Positive/42/COR_T2_SPAIR_401/IM-0009-0010.png\n",
            "\n",
            " INDEX: 92\n",
            "\n",
            "  Máscara (Imagem após dilatação e erosão) \n",
            "\n"
          ]
        },
        {
          "output_type": "display_data",
          "data": {
            "text/plain": [
              "<PIL.Image.Image image mode=RGB size=320x320 at 0x7FC60D8E9E50>"
            ],
            "image/png": "[encoded data removed]"
          },
          "metadata": {}
        },
        {
          "output_type": "stream",
          "name": "stdout",
          "text": [
            "\n",
            " IMAGEM: ./SPAIR/Positive/42/COR_T2_SPAIR_401/IM-0009-0006.png\n",
            "\n",
            " INDEX: 93\n",
            "\n",
            "  Máscara (Imagem após dilatação e erosão) \n",
            "\n"
          ]
        },
        {
          "output_type": "display_data",
          "data": {
            "text/plain": [
              "<PIL.Image.Image image mode=RGB size=320x320 at 0x7FC60D887F10>"
            ],
            "image/png": "[encoded data removed]"
          },
          "metadata": {}
        },
        {
          "output_type": "stream",
          "name": "stdout",
          "text": [
            "\n",
            " IMAGEM: ./SPAIR/Positive/42/COR_T2_SPAIR_401/IM-0009-0008.png\n",
            "\n",
            " INDEX: 94\n",
            "\n",
            "  Máscara (Imagem após dilatação e erosão) \n",
            "\n"
          ]
        },
        {
          "output_type": "display_data",
          "data": {
            "text/plain": [
              "<PIL.Image.Image image mode=RGB size=320x320 at 0x7FC6085E8710>"
            ],
            "image/png": "[encoded data removed]"
          },
          "metadata": {}
        },
        {
          "output_type": "stream",
          "name": "stdout",
          "text": [
            "\n",
            " IMAGEM: ./SPAIR/Positive/42/COR_T2_SPAIR_401/IM-0009-0011.png\n",
            "\n",
            " INDEX: 95\n",
            "\n",
            "  Máscara (Imagem após dilatação e erosão) \n",
            "\n"
          ]
        },
        {
          "output_type": "display_data",
          "data": {
            "text/plain": [
              "<PIL.Image.Image image mode=RGB size=320x320 at 0x7FC60FE5BD50>"
            ],
            "image/png": "[encoded data removed]"
          },
          "metadata": {}
        },
        {
          "output_type": "stream",
          "name": "stdout",
          "text": [
            "\n",
            " IMAGEM: ./SPAIR/Positive/48/COR_T2_SPAIR_401/IM-0012-0006.png\n",
            "\n",
            " INDEX: 96\n",
            "\n",
            "  Máscara (Imagem após dilatação e erosão) \n",
            "\n"
          ]
        },
        {
          "output_type": "display_data",
          "data": {
            "text/plain": [
              "<PIL.Image.Image image mode=RGB size=320x320 at 0x7FC60F354790>"
            ],
            "image/png": "[encoded data removed]"
          },
          "metadata": {}
        },
        {
          "output_type": "stream",
          "name": "stdout",
          "text": [
            "\n",
            " IMAGEM: ./SPAIR/Positive/48/COR_T2_SPAIR_401/IM-0012-0005.png\n",
            "\n",
            " INDEX: 97\n",
            "\n",
            "  Máscara (Imagem após dilatação e erosão) \n",
            "\n"
          ]
        },
        {
          "output_type": "display_data",
          "data": {
            "text/plain": [
              "<PIL.Image.Image image mode=RGB size=320x320 at 0x7FC60FCF5750>"
            ],
            "image/png": "[encoded data removed]"
          },
          "metadata": {}
        },
        {
          "output_type": "stream",
          "name": "stdout",
          "text": [
            "\n",
            " IMAGEM: ./SPAIR/Positive/48/COR_T2_SPAIR_401/IM-0012-0007.png\n",
            "\n",
            " INDEX: 98\n",
            "\n",
            "  Máscara (Imagem após dilatação e erosão) \n",
            "\n"
          ]
        },
        {
          "output_type": "display_data",
          "data": {
            "text/plain": [
              "<PIL.Image.Image image mode=RGB size=320x320 at 0x7FC60FCF5750>"
            ],
            "image/png": "[encoded data removed]"
          },
          "metadata": {}
        },
        {
          "output_type": "stream",
          "name": "stdout",
          "text": [
            "\n",
            " IMAGEM: ./SPAIR/Positive/48/COR_T2_SPAIR_401/IM-0012-0008.png\n",
            "\n",
            " INDEX: 99\n",
            "\n",
            "  Máscara (Imagem após dilatação e erosão) \n",
            "\n"
          ]
        },
        {
          "output_type": "display_data",
          "data": {
            "text/plain": [
              "<PIL.Image.Image image mode=RGB size=320x320 at 0x7FC60FE5BD50>"
            ],
            "image/png": "[encoded data removed]"
          },
          "metadata": {}
        },
        {
          "output_type": "stream",
          "name": "stdout",
          "text": [
            "\n",
            " IMAGEM: ./SPAIR/Positive/48/COR_T2_SPAIR_401/IM-0012-0004.png\n",
            "\n",
            " INDEX: 100\n",
            "\n",
            "  Máscara (Imagem após dilatação e erosão) \n",
            "\n"
          ]
        },
        {
          "output_type": "display_data",
          "data": {
            "text/plain": [
              "<PIL.Image.Image image mode=RGB size=320x320 at 0x7FC5FB3446D0>"
            ],
            "image/png": "[encoded data removed]"
          },
          "metadata": {}
        },
        {
          "output_type": "stream",
          "name": "stdout",
          "text": [
            "\n",
            " IMAGEM: ./SPAIR/Positive/48/COR_T2_SPAIR_401/IM-0012-0009.png\n",
            "\n",
            " INDEX: 101\n",
            "\n",
            "  Máscara (Imagem após dilatação e erosão) \n",
            "\n"
          ]
        },
        {
          "output_type": "display_data",
          "data": {
            "text/plain": [
              "<PIL.Image.Image image mode=RGB size=320x320 at 0x7FC61E682C90>"
            ],
            "image/png": "[encoded data removed]"
          },
          "metadata": {}
        },
        {
          "output_type": "stream",
          "name": "stdout",
          "text": [
            "\n",
            " IMAGEM: ./SPAIR/Positive/45/COR_T2_SPAIR_801/IM-0010-0009.png\n",
            "\n",
            " INDEX: 102\n",
            "\n",
            "  Máscara (Imagem após dilatação e erosão) \n",
            "\n"
          ]
        },
        {
          "output_type": "display_data",
          "data": {
            "text/plain": [
              "<PIL.Image.Image image mode=RGB size=384x384 at 0x7FC5FB33BA50>"
            ],
            "image/png": "[encoded data removed]"
          },
          "metadata": {}
        },
        {
          "output_type": "stream",
          "name": "stdout",
          "text": [
            "\n",
            " IMAGEM: ./SPAIR/Positive/45/COR_T2_SPAIR_801/IM-0010-0007.png\n",
            "\n",
            " INDEX: 103\n",
            "\n",
            "  Máscara (Imagem após dilatação e erosão) \n",
            "\n"
          ]
        },
        {
          "output_type": "display_data",
          "data": {
            "text/plain": [
              "<PIL.Image.Image image mode=RGB size=384x384 at 0x7FC60DD85E10>"
            ],
            "image/png": "[encoded data removed]"
          },
          "metadata": {}
        },
        {
          "output_type": "stream",
          "name": "stdout",
          "text": [
            "\n",
            " IMAGEM: ./SPAIR/Positive/45/COR_T2_SPAIR_801/IM-0010-0005.png\n",
            "\n",
            " INDEX: 104\n",
            "\n",
            "  Máscara (Imagem após dilatação e erosão) \n",
            "\n"
          ]
        },
        {
          "output_type": "display_data",
          "data": {
            "text/plain": [
              "<PIL.Image.Image image mode=RGB size=384x384 at 0x7FC61E682C90>"
            ],
            "image/png": "[encoded data removed]"
          },
          "metadata": {}
        },
        {
          "output_type": "stream",
          "name": "stdout",
          "text": [
            "\n",
            " IMAGEM: ./SPAIR/Positive/45/COR_T2_SPAIR_801/IM-0010-0006.png\n",
            "\n",
            " INDEX: 105\n",
            "\n",
            "  Máscara (Imagem após dilatação e erosão) \n",
            "\n"
          ]
        },
        {
          "output_type": "display_data",
          "data": {
            "text/plain": [
              "<PIL.Image.Image image mode=RGB size=384x384 at 0x7FC5FB3446D0>"
            ],
            "image/png": "[encoded data removed]"
          },
          "metadata": {}
        },
        {
          "output_type": "stream",
          "name": "stdout",
          "text": [
            "\n",
            " IMAGEM: ./SPAIR/Positive/45/COR_T2_SPAIR_801/IM-0010-0010.png\n",
            "\n",
            " INDEX: 106\n",
            "\n",
            "  Máscara (Imagem após dilatação e erosão) \n",
            "\n"
          ]
        },
        {
          "output_type": "display_data",
          "data": {
            "text/plain": [
              "<PIL.Image.Image image mode=RGB size=384x384 at 0x7FC5FB3446D0>"
            ],
            "image/png": "[encoded data removed]"
          },
          "metadata": {}
        },
        {
          "output_type": "stream",
          "name": "stdout",
          "text": [
            "\n",
            " IMAGEM: ./SPAIR/Positive/45/COR_T2_SPAIR_801/IM-0010-0008.png\n",
            "\n",
            " INDEX: 107\n",
            "\n",
            "  Máscara (Imagem após dilatação e erosão) \n",
            "\n"
          ]
        },
        {
          "output_type": "display_data",
          "data": {
            "text/plain": [
              "<PIL.Image.Image image mode=RGB size=384x384 at 0x7FC60F354790>"
            ],
            "image/png": "[encoded data removed]"
          },
          "metadata": {}
        },
        {
          "output_type": "stream",
          "name": "stdout",
          "text": [
            "\n",
            " IMAGEM: ./SPAIR/Positive/41/COR_T2_SPAIR_501/IM-0006-0009.png\n",
            "\n",
            " INDEX: 108\n",
            "\n",
            "  Máscara (Imagem após dilatação e erosão) \n",
            "\n"
          ]
        },
        {
          "output_type": "display_data",
          "data": {
            "text/plain": [
              "<PIL.Image.Image image mode=RGB size=320x320 at 0x7FC5FB430F50>"
            ],
            "image/png": "[encoded data removed]"
          },
          "metadata": {}
        },
        {
          "output_type": "stream",
          "name": "stdout",
          "text": [
            "\n",
            " IMAGEM: ./SPAIR/Positive/41/COR_T2_SPAIR_501/IM-0006-0011.png\n",
            "\n",
            " INDEX: 109\n",
            "\n",
            "  Máscara (Imagem após dilatação e erosão) \n",
            "\n"
          ]
        },
        {
          "output_type": "display_data",
          "data": {
            "text/plain": [
              "<PIL.Image.Image image mode=RGB size=320x320 at 0x7FC5FB332E10>"
            ],
            "image/png": "[encoded data removed]"
          },
          "metadata": {}
        },
        {
          "output_type": "stream",
          "name": "stdout",
          "text": [
            "\n",
            " IMAGEM: ./SPAIR/Positive/41/COR_T2_SPAIR_501/IM-0006-0006.png\n",
            "\n",
            " INDEX: 110\n",
            "\n",
            "  Máscara (Imagem após dilatação e erosão) \n",
            "\n"
          ]
        },
        {
          "output_type": "display_data",
          "data": {
            "text/plain": [
              "<PIL.Image.Image image mode=RGB size=320x320 at 0x7FC60D8E9E50>"
            ],
            "image/png": "[encoded data removed]"
          },
          "metadata": {}
        },
        {
          "output_type": "stream",
          "name": "stdout",
          "text": [
            "\n",
            " IMAGEM: ./SPAIR/Positive/41/COR_T2_SPAIR_501/IM-0006-0007.png\n",
            "\n",
            " INDEX: 111\n",
            "\n",
            "  Máscara (Imagem após dilatação e erosão) \n",
            "\n"
          ]
        },
        {
          "output_type": "display_data",
          "data": {
            "text/plain": [
              "<PIL.Image.Image image mode=RGB size=320x320 at 0x7FC60D887F10>"
            ],
            "image/png": "[encoded data removed]"
          },
          "metadata": {}
        },
        {
          "output_type": "stream",
          "name": "stdout",
          "text": [
            "\n",
            " IMAGEM: ./SPAIR/Positive/41/COR_T2_SPAIR_501/IM-0006-0008.png\n",
            "\n",
            " INDEX: 112\n",
            "\n",
            "  Máscara (Imagem após dilatação e erosão) \n",
            "\n"
          ]
        },
        {
          "output_type": "display_data",
          "data": {
            "text/plain": [
              "<PIL.Image.Image image mode=RGB size=320x320 at 0x7FC60DD85E10>"
            ],
            "image/png": "[encoded data removed]"
          },
          "metadata": {}
        },
        {
          "output_type": "stream",
          "name": "stdout",
          "text": [
            "\n",
            " IMAGEM: ./SPAIR/Positive/41/COR_T2_SPAIR_501/IM-0006-0010.png\n",
            "\n",
            " INDEX: 113\n",
            "\n",
            "  Máscara (Imagem após dilatação e erosão) \n",
            "\n"
          ]
        },
        {
          "output_type": "display_data",
          "data": {
            "text/plain": [
              "<PIL.Image.Image image mode=RGB size=320x320 at 0x7FC60DD85E10>"
            ],
            "image/png": "[encoded data removed]"
          },
          "metadata": {}
        },
        {
          "output_type": "stream",
          "name": "stdout",
          "text": [
            "\n",
            " IMAGEM: ./SPAIR/Positive/46/COR_T2_SPAIR_301/IM-0008-0010.png\n",
            "\n",
            " INDEX: 114\n",
            "\n",
            "  Máscara (Imagem após dilatação e erosão) \n",
            "\n"
          ]
        },
        {
          "output_type": "display_data",
          "data": {
            "text/plain": [
              "<PIL.Image.Image image mode=RGB size=320x320 at 0x7FC60D887F10>"
            ],
            "image/png": "[encoded data removed]"
          },
          "metadata": {}
        },
        {
          "output_type": "stream",
          "name": "stdout",
          "text": [
            "\n",
            " IMAGEM: ./SPAIR/Positive/46/COR_T2_SPAIR_301/IM-0008-0008.png\n",
            "\n",
            " INDEX: 115\n",
            "\n",
            "  Máscara (Imagem após dilatação e erosão) \n",
            "\n"
          ]
        },
        {
          "output_type": "display_data",
          "data": {
            "text/plain": [
              "<PIL.Image.Image image mode=RGB size=320x320 at 0x7FC60DD85E10>"
            ],
            "image/png": "[encoded data removed]"
          },
          "metadata": {}
        },
        {
          "output_type": "stream",
          "name": "stdout",
          "text": [
            "\n",
            " IMAGEM: ./SPAIR/Positive/46/COR_T2_SPAIR_301/IM-0008-0006.png\n",
            "\n",
            " INDEX: 116\n",
            "\n",
            "  Máscara (Imagem após dilatação e erosão) \n",
            "\n"
          ]
        },
        {
          "output_type": "display_data",
          "data": {
            "text/plain": [
              "<PIL.Image.Image image mode=RGB size=320x320 at 0x7FC6085E8710>"
            ],
            "image/png": "[encoded data removed]"
          },
          "metadata": {}
        },
        {
          "output_type": "stream",
          "name": "stdout",
          "text": [
            "\n",
            " IMAGEM: ./SPAIR/Positive/46/COR_T2_SPAIR_301/IM-0008-0007.png\n",
            "\n",
            " INDEX: 117\n",
            "\n",
            "  Máscara (Imagem após dilatação e erosão) \n",
            "\n"
          ]
        },
        {
          "output_type": "display_data",
          "data": {
            "text/plain": [
              "<PIL.Image.Image image mode=RGB size=320x320 at 0x7FC5FB430F90>"
            ],
            "image/png": "[encoded data removed]"
          },
          "metadata": {}
        },
        {
          "output_type": "stream",
          "name": "stdout",
          "text": [
            "\n",
            " IMAGEM: ./SPAIR/Positive/46/COR_T2_SPAIR_301/IM-0008-0009.png\n",
            "\n",
            " INDEX: 118\n",
            "\n",
            "  Máscara (Imagem após dilatação e erosão) \n",
            "\n"
          ]
        },
        {
          "output_type": "display_data",
          "data": {
            "text/plain": [
              "<PIL.Image.Image image mode=RGB size=320x320 at 0x7FC60FCF5C90>"
            ],
            "image/png": "[encoded data removed]"
          },
          "metadata": {}
        },
        {
          "output_type": "stream",
          "name": "stdout",
          "text": [
            "\n",
            " IMAGEM: ./SPAIR/Positive/50/COR_T2_SPAIR_401/IM-0003-0007.png\n",
            "\n",
            " INDEX: 119\n",
            "\n",
            "  Máscara (Imagem após dilatação e erosão) \n",
            "\n"
          ]
        },
        {
          "output_type": "display_data",
          "data": {
            "text/plain": [
              "<PIL.Image.Image image mode=RGB size=320x320 at 0x7FC60D8E9E50>"
            ],
            "image/png": "[encoded data removed]"
          },
          "metadata": {}
        },
        {
          "output_type": "stream",
          "name": "stdout",
          "text": [
            "\n",
            " IMAGEM: ./SPAIR/Positive/50/COR_T2_SPAIR_401/IM-0003-0010.png\n",
            "\n",
            " INDEX: 120\n",
            "\n",
            "  Máscara (Imagem após dilatação e erosão) \n",
            "\n"
          ]
        },
        {
          "output_type": "display_data",
          "data": {
            "text/plain": [
              "<PIL.Image.Image image mode=RGB size=320x320 at 0x7FC60D8E9FD0>"
            ],
            "image/png": "[encoded data removed]"
          },
          "metadata": {}
        },
        {
          "output_type": "stream",
          "name": "stdout",
          "text": [
            "\n",
            " IMAGEM: ./SPAIR/Positive/50/COR_T2_SPAIR_401/IM-0003-0008.png\n",
            "\n",
            " INDEX: 121\n",
            "\n",
            "  Máscara (Imagem após dilatação e erosão) \n",
            "\n"
          ]
        },
        {
          "output_type": "display_data",
          "data": {
            "text/plain": [
              "<PIL.Image.Image image mode=RGB size=320x320 at 0x7FC60DD85E10>"
            ],
            "image/png": "[encoded data removed]"
          },
          "metadata": {}
        },
        {
          "output_type": "stream",
          "name": "stdout",
          "text": [
            "\n",
            " IMAGEM: ./SPAIR/Positive/50/COR_T2_SPAIR_401/IM-0003-0011.png\n",
            "\n",
            " INDEX: 122\n",
            "\n",
            "  Máscara (Imagem após dilatação e erosão) \n",
            "\n"
          ]
        },
        {
          "output_type": "display_data",
          "data": {
            "text/plain": [
              "<PIL.Image.Image image mode=RGB size=320x320 at 0x7FC60FE5BD50>"
            ],
            "image/png": "[encoded data removed]"
          },
          "metadata": {}
        },
        {
          "output_type": "stream",
          "name": "stdout",
          "text": [
            "\n",
            " IMAGEM: ./SPAIR/Positive/50/COR_T2_SPAIR_401/IM-0003-0012.png\n",
            "\n",
            " INDEX: 123\n",
            "\n",
            "  Máscara (Imagem após dilatação e erosão) \n",
            "\n"
          ]
        },
        {
          "output_type": "display_data",
          "data": {
            "text/plain": [
              "<PIL.Image.Image image mode=RGB size=320x320 at 0x7FC60FE5BD50>"
            ],
            "image/png": "[encoded data removed]"
          },
          "metadata": {}
        },
        {
          "output_type": "stream",
          "name": "stdout",
          "text": [
            "\n",
            " IMAGEM: ./SPAIR/Positive/50/COR_T2_SPAIR_401/IM-0003-0009.png\n",
            "\n",
            " INDEX: 124\n",
            "\n",
            "  Máscara (Imagem após dilatação e erosão) \n",
            "\n"
          ]
        },
        {
          "output_type": "display_data",
          "data": {
            "text/plain": [
              "<PIL.Image.Image image mode=RGB size=320x320 at 0x7FC60DD85E10>"
            ],
            "image/png": "[encoded data removed]"
          },
          "metadata": {}
        },
        {
          "output_type": "stream",
          "name": "stdout",
          "text": [
            "\n",
            " IMAGEM: ./SPAIR/Positive/44/COR_T2_SPAIR_501/IM-0001-0008.png\n",
            "\n",
            " INDEX: 125\n",
            "\n",
            "  Máscara (Imagem após dilatação e erosão) \n",
            "\n"
          ]
        },
        {
          "output_type": "display_data",
          "data": {
            "text/plain": [
              "<PIL.Image.Image image mode=RGB size=320x320 at 0x7FC60FE5BD50>"
            ],
            "image/png": "[encoded data removed]"
          },
          "metadata": {}
        },
        {
          "output_type": "stream",
          "name": "stdout",
          "text": [
            "\n",
            " IMAGEM: ./SPAIR/Positive/44/COR_T2_SPAIR_501/IM-0001-0009.png\n",
            "\n",
            " INDEX: 126\n",
            "\n",
            "  Máscara (Imagem após dilatação e erosão) \n",
            "\n"
          ]
        },
        {
          "output_type": "display_data",
          "data": {
            "text/plain": [
              "<PIL.Image.Image image mode=RGB size=320x320 at 0x7FC60E197690>"
            ],
            "image/png": "[encoded data removed]"
          },
          "metadata": {}
        },
        {
          "output_type": "stream",
          "name": "stdout",
          "text": [
            "\n",
            " IMAGEM: ./SPAIR/Positive/44/COR_T2_SPAIR_501/IM-0001-0011.png\n",
            "\n",
            " INDEX: 127\n",
            "\n",
            "  Máscara (Imagem após dilatação e erosão) \n",
            "\n"
          ]
        },
        {
          "output_type": "display_data",
          "data": {
            "text/plain": [
              "<PIL.Image.Image image mode=RGB size=320x320 at 0x7FC60F354790>"
            ],
            "image/png": "[encoded data removed]"
          },
          "metadata": {}
        },
        {
          "output_type": "stream",
          "name": "stdout",
          "text": [
            "\n",
            " IMAGEM: ./SPAIR/Positive/44/COR_T2_SPAIR_501/IM-0001-0006.png\n",
            "\n",
            " INDEX: 128\n",
            "\n",
            "  Máscara (Imagem após dilatação e erosão) \n",
            "\n"
          ]
        },
        {
          "output_type": "display_data",
          "data": {
            "text/plain": [
              "<PIL.Image.Image image mode=RGB size=320x320 at 0x7FC60E197690>"
            ],
            "image/png": "[encoded data removed]"
          },
          "metadata": {}
        },
        {
          "output_type": "stream",
          "name": "stdout",
          "text": [
            "\n",
            " IMAGEM: ./SPAIR/Positive/44/COR_T2_SPAIR_501/IM-0001-0010.png\n",
            "\n",
            " INDEX: 129\n",
            "\n",
            "  Máscara (Imagem após dilatação e erosão) \n",
            "\n"
          ]
        },
        {
          "output_type": "display_data",
          "data": {
            "text/plain": [
              "<PIL.Image.Image image mode=RGB size=320x320 at 0x7FC60D8E9E50>"
            ],
            "image/png": "[encoded data removed]"
          },
          "metadata": {}
        },
        {
          "output_type": "stream",
          "name": "stdout",
          "text": [
            "\n",
            " IMAGEM: ./SPAIR/Positive/44/COR_T2_SPAIR_501/IM-0001-0007.png\n",
            "\n",
            " INDEX: 130\n",
            "\n",
            "  Máscara (Imagem após dilatação e erosão) \n",
            "\n"
          ]
        },
        {
          "output_type": "display_data",
          "data": {
            "text/plain": [
              "<PIL.Image.Image image mode=RGB size=320x320 at 0x7FC60DD85E10>"
            ],
            "image/png": "[encoded data removed]"
          },
          "metadata": {}
        },
        {
          "output_type": "stream",
          "name": "stdout",
          "text": [
            "\n",
            " IMAGEM: ./SPAIR/Negative/13/COR_T2_SPAIR_301/IM-0006-0011.png\n",
            "\n",
            " INDEX: 131\n",
            "\n",
            "  Máscara (Imagem após dilatação e erosão) \n",
            "\n"
          ]
        },
        {
          "output_type": "display_data",
          "data": {
            "text/plain": [
              "<PIL.Image.Image image mode=RGB size=320x320 at 0x7FC61E682C90>"
            ],
            "image/png": "[encoded data removed]"
          },
          "metadata": {}
        },
        {
          "output_type": "stream",
          "name": "stdout",
          "text": [
            "\n",
            " IMAGEM: ./SPAIR/Negative/13/COR_T2_SPAIR_301/IM-0006-0013.png\n",
            "\n",
            " INDEX: 132\n",
            "\n",
            "  Máscara (Imagem após dilatação e erosão) \n",
            "\n"
          ]
        },
        {
          "output_type": "display_data",
          "data": {
            "text/plain": [
              "<PIL.Image.Image image mode=RGB size=320x320 at 0x7FC60FCF5C90>"
            ],
            "image/png": "[encoded data removed]"
          },
          "metadata": {}
        },
        {
          "output_type": "stream",
          "name": "stdout",
          "text": [
            "\n",
            " IMAGEM: ./SPAIR/Negative/13/COR_T2_SPAIR_301/IM-0006-0010.png\n",
            "\n",
            " INDEX: 133\n",
            "\n",
            "  Máscara (Imagem após dilatação e erosão) \n",
            "\n"
          ]
        },
        {
          "output_type": "display_data",
          "data": {
            "text/plain": [
              "<PIL.Image.Image image mode=RGB size=320x320 at 0x7FC60FCF5C90>"
            ],
            "image/png": "[encoded data removed]"
          },
          "metadata": {}
        },
        {
          "output_type": "stream",
          "name": "stdout",
          "text": [
            "\n",
            " IMAGEM: ./SPAIR/Negative/13/COR_T2_SPAIR_301/IM-0006-0009.png\n",
            "\n",
            " INDEX: 134\n",
            "\n",
            "  Máscara (Imagem após dilatação e erosão) \n",
            "\n"
          ]
        },
        {
          "output_type": "display_data",
          "data": {
            "text/plain": [
              "<PIL.Image.Image image mode=RGB size=320x320 at 0x7FC61E682C90>"
            ],
            "image/png": "[encoded data removed]"
          },
          "metadata": {}
        },
        {
          "output_type": "stream",
          "name": "stdout",
          "text": [
            "\n",
            " IMAGEM: ./SPAIR/Negative/13/COR_T2_SPAIR_301/IM-0006-0014.png\n",
            "\n",
            " INDEX: 135\n",
            "\n",
            "  Máscara (Imagem após dilatação e erosão) \n",
            "\n"
          ]
        },
        {
          "output_type": "display_data",
          "data": {
            "text/plain": [
              "<PIL.Image.Image image mode=RGB size=320x320 at 0x7FC6085E8710>"
            ],
            "image/png": "[encoded data removed]"
          },
          "metadata": {}
        },
        {
          "output_type": "stream",
          "name": "stdout",
          "text": [
            "\n",
            " IMAGEM: ./SPAIR/Negative/13/COR_T2_SPAIR_301/IM-0006-0012.png\n",
            "\n",
            " INDEX: 136\n",
            "\n",
            "  Máscara (Imagem após dilatação e erosão) \n",
            "\n"
          ]
        },
        {
          "output_type": "display_data",
          "data": {
            "text/plain": [
              "<PIL.Image.Image image mode=RGB size=320x320 at 0x7FC60F354790>"
            ],
            "image/png": "[encoded data removed]"
          },
          "metadata": {}
        },
        {
          "output_type": "stream",
          "name": "stdout",
          "text": [
            "\n",
            " IMAGEM: ./SPAIR/Negative/11/COR_T2_SPAIR_401/IM-0007-0008.png\n",
            "\n",
            " INDEX: 137\n",
            "\n",
            "  Máscara (Imagem após dilatação e erosão) \n",
            "\n"
          ]
        },
        {
          "output_type": "display_data",
          "data": {
            "text/plain": [
              "<PIL.Image.Image image mode=RGB size=320x320 at 0x7FC5FB3446D0>"
            ],
            "image/png": "[encoded data removed]"
          },
          "metadata": {}
        },
        {
          "output_type": "stream",
          "name": "stdout",
          "text": [
            "\n",
            " IMAGEM: ./SPAIR/Negative/11/COR_T2_SPAIR_401/IM-0007-0011.png\n",
            "\n",
            " INDEX: 138\n",
            "\n",
            "  Máscara (Imagem após dilatação e erosão) \n",
            "\n"
          ]
        },
        {
          "output_type": "display_data",
          "data": {
            "text/plain": [
              "<PIL.Image.Image image mode=RGB size=320x320 at 0x7FC5FB430D50>"
            ],
            "image/png": "[encoded data removed]"
          },
          "metadata": {}
        },
        {
          "output_type": "stream",
          "name": "stdout",
          "text": [
            "\n",
            " IMAGEM: ./SPAIR/Negative/11/COR_T2_SPAIR_401/IM-0007-0006.png\n",
            "\n",
            " INDEX: 139\n",
            "\n",
            "  Máscara (Imagem após dilatação e erosão) \n",
            "\n"
          ]
        },
        {
          "output_type": "display_data",
          "data": {
            "text/plain": [
              "<PIL.Image.Image image mode=RGB size=320x320 at 0x7FC60FAE6690>"
            ],
            "image/png": "[encoded data removed]"
          },
          "metadata": {}
        },
        {
          "output_type": "stream",
          "name": "stdout",
          "text": [
            "\n",
            " IMAGEM: ./SPAIR/Negative/11/COR_T2_SPAIR_401/IM-0007-0007.png\n",
            "\n",
            " INDEX: 140\n",
            "\n",
            "  Máscara (Imagem após dilatação e erosão) \n",
            "\n"
          ]
        },
        {
          "output_type": "display_data",
          "data": {
            "text/plain": [
              "<PIL.Image.Image image mode=RGB size=320x320 at 0x7FC60E197690>"
            ],
            "image/png": "[encoded data removed]"
          },
          "metadata": {}
        },
        {
          "output_type": "stream",
          "name": "stdout",
          "text": [
            "\n",
            " IMAGEM: ./SPAIR/Negative/11/COR_T2_SPAIR_401/IM-0007-0010.png\n",
            "\n",
            " INDEX: 141\n",
            "\n",
            "  Máscara (Imagem após dilatação e erosão) \n",
            "\n"
          ]
        },
        {
          "output_type": "display_data",
          "data": {
            "text/plain": [
              "<PIL.Image.Image image mode=RGB size=320x320 at 0x7FC60D887F10>"
            ],
            "image/png": "[encoded data removed]"
          },
          "metadata": {}
        },
        {
          "output_type": "stream",
          "name": "stdout",
          "text": [
            "\n",
            " IMAGEM: ./SPAIR/Negative/11/COR_T2_SPAIR_401/IM-0007-0009.png\n",
            "\n",
            " INDEX: 142\n",
            "\n",
            "  Máscara (Imagem após dilatação e erosão) \n",
            "\n"
          ]
        },
        {
          "output_type": "display_data",
          "data": {
            "text/plain": [
              "<PIL.Image.Image image mode=RGB size=320x320 at 0x7FC5FB3446D0>"
            ],
            "image/png": "[encoded data removed]"
          },
          "metadata": {}
        },
        {
          "output_type": "stream",
          "name": "stdout",
          "text": [
            "\n",
            " IMAGEM: ./SPAIR/Negative/15/COR_T2_SPAIR_401/IM-0005-0011.png\n",
            "\n",
            " INDEX: 143\n",
            "\n",
            "  Máscara (Imagem após dilatação e erosão) \n",
            "\n"
          ]
        },
        {
          "output_type": "display_data",
          "data": {
            "text/plain": [
              "<PIL.Image.Image image mode=RGB size=320x320 at 0x7FC6085E8710>"
            ],
            "image/png": "[encoded data removed]"
          },
          "metadata": {}
        },
        {
          "output_type": "stream",
          "name": "stdout",
          "text": [
            "\n",
            " IMAGEM: ./SPAIR/Negative/15/COR_T2_SPAIR_401/IM-0005-0010.png\n",
            "\n",
            " INDEX: 144\n",
            "\n",
            "  Máscara (Imagem após dilatação e erosão) \n",
            "\n"
          ]
        },
        {
          "output_type": "display_data",
          "data": {
            "text/plain": [
              "<PIL.Image.Image image mode=RGB size=320x320 at 0x7FC5FB3446D0>"
            ],
            "image/png": "[encoded data removed]"
          },
          "metadata": {}
        },
        {
          "output_type": "stream",
          "name": "stdout",
          "text": [
            "\n",
            " IMAGEM: ./SPAIR/Negative/15/COR_T2_SPAIR_401/IM-0005-0009.png\n",
            "\n",
            " INDEX: 145\n",
            "\n",
            "  Máscara (Imagem após dilatação e erosão) \n",
            "\n"
          ]
        },
        {
          "output_type": "display_data",
          "data": {
            "text/plain": [
              "<PIL.Image.Image image mode=RGB size=320x320 at 0x7FC60E197690>"
            ],
            "image/png": "[encoded data removed]"
          },
          "metadata": {}
        },
        {
          "output_type": "stream",
          "name": "stdout",
          "text": [
            "\n",
            " IMAGEM: ./SPAIR/Negative/15/COR_T2_SPAIR_401/IM-0005-0012.png\n",
            "\n",
            " INDEX: 146\n",
            "\n",
            "  Máscara (Imagem após dilatação e erosão) \n",
            "\n"
          ]
        },
        {
          "output_type": "display_data",
          "data": {
            "text/plain": [
              "<PIL.Image.Image image mode=RGB size=320x320 at 0x7FC60D887F10>"
            ],
            "image/png": "[encoded data removed]"
          },
          "metadata": {}
        },
        {
          "output_type": "stream",
          "name": "stdout",
          "text": [
            "\n",
            " IMAGEM: ./SPAIR/Negative/15/COR_T2_SPAIR_401/IM-0005-0007.png\n",
            "\n",
            " INDEX: 147\n",
            "\n",
            "  Máscara (Imagem após dilatação e erosão) \n",
            "\n"
          ]
        },
        {
          "output_type": "display_data",
          "data": {
            "text/plain": [
              "<PIL.Image.Image image mode=RGB size=320x320 at 0x7FC5FB344C90>"
            ],
            "image/png": "[encoded data removed]"
          },
          "metadata": {}
        },
        {
          "output_type": "stream",
          "name": "stdout",
          "text": [
            "\n",
            " IMAGEM: ./SPAIR/Negative/15/COR_T2_SPAIR_401/IM-0005-0008.png\n",
            "\n",
            " INDEX: 148\n",
            "\n",
            "  Máscara (Imagem após dilatação e erosão) \n",
            "\n"
          ]
        },
        {
          "output_type": "display_data",
          "data": {
            "text/plain": [
              "<PIL.Image.Image image mode=RGB size=320x320 at 0x7FC5FB3446D0>"
            ],
            "image/png": "[encoded data removed]"
          },
          "metadata": {}
        },
        {
          "output_type": "stream",
          "name": "stdout",
          "text": [
            "\n",
            " IMAGEM: ./SPAIR/Negative/12/COR_T2_SPAIR_401/IM-0007-0008.png\n",
            "\n",
            " INDEX: 149\n",
            "\n",
            "  Máscara (Imagem após dilatação e erosão) \n",
            "\n"
          ]
        },
        {
          "output_type": "display_data",
          "data": {
            "text/plain": [
              "<PIL.Image.Image image mode=RGB size=320x320 at 0x7FC60FCF5C90>"
            ],
            "image/png": "[encoded data removed]"
          },
          "metadata": {}
        },
        {
          "output_type": "stream",
          "name": "stdout",
          "text": [
            "\n",
            " IMAGEM: ./SPAIR/Negative/12/COR_T2_SPAIR_401/IM-0007-0011.png\n",
            "\n",
            " INDEX: 150\n",
            "\n",
            "  Máscara (Imagem após dilatação e erosão) \n",
            "\n"
          ]
        },
        {
          "output_type": "display_data",
          "data": {
            "text/plain": [
              "<PIL.Image.Image image mode=RGB size=320x320 at 0x7FC60E197690>"
            ],
            "image/png": "[encoded data removed]"
          },
          "metadata": {}
        },
        {
          "output_type": "stream",
          "name": "stdout",
          "text": [
            "\n",
            " IMAGEM: ./SPAIR/Negative/12/COR_T2_SPAIR_401/IM-0007-0006.png\n",
            "\n",
            " INDEX: 151\n",
            "\n",
            "  Máscara (Imagem após dilatação e erosão) \n",
            "\n"
          ]
        },
        {
          "output_type": "display_data",
          "data": {
            "text/plain": [
              "<PIL.Image.Image image mode=RGB size=320x320 at 0x7FC60E197690>"
            ],
            "image/png": "[encoded data removed]"
          },
          "metadata": {}
        },
        {
          "output_type": "stream",
          "name": "stdout",
          "text": [
            "\n",
            " IMAGEM: ./SPAIR/Negative/12/COR_T2_SPAIR_401/IM-0007-0007.png\n",
            "\n",
            " INDEX: 152\n",
            "\n",
            "  Máscara (Imagem após dilatação e erosão) \n",
            "\n"
          ]
        },
        {
          "output_type": "display_data",
          "data": {
            "text/plain": [
              "<PIL.Image.Image image mode=RGB size=320x320 at 0x7FC5FB3446D0>"
            ],
            "image/png": "[encoded data removed]"
          },
          "metadata": {}
        },
        {
          "output_type": "stream",
          "name": "stdout",
          "text": [
            "\n",
            " IMAGEM: ./SPAIR/Negative/12/COR_T2_SPAIR_401/IM-0007-0009.png\n",
            "\n",
            " INDEX: 153\n",
            "\n",
            "  Máscara (Imagem após dilatação e erosão) \n",
            "\n"
          ]
        },
        {
          "output_type": "display_data",
          "data": {
            "text/plain": [
              "<PIL.Image.Image image mode=RGB size=320x320 at 0x7FC60E1974D0>"
            ],
            "image/png": "[encoded data removed]"
          },
          "metadata": {}
        },
        {
          "output_type": "stream",
          "name": "stdout",
          "text": [
            "\n",
            " IMAGEM: ./SPAIR/Negative/12/COR_T2_SPAIR_401/IM-0007-0010.png\n",
            "\n",
            " INDEX: 154\n",
            "\n",
            "  Máscara (Imagem após dilatação e erosão) \n",
            "\n"
          ]
        },
        {
          "output_type": "display_data",
          "data": {
            "text/plain": [
              "<PIL.Image.Image image mode=RGB size=320x320 at 0x7FC5FB344C90>"
            ],
            "image/png": "[encoded data removed]"
          },
          "metadata": {}
        },
        {
          "output_type": "stream",
          "name": "stdout",
          "text": [
            "\n",
            " IMAGEM: ./SPAIR/Negative/14/COR_T2_SPAIR_401/IM-0005-0010.png\n",
            "\n",
            " INDEX: 155\n",
            "\n",
            "  Máscara (Imagem após dilatação e erosão) \n",
            "\n"
          ]
        },
        {
          "output_type": "display_data",
          "data": {
            "text/plain": [
              "<PIL.Image.Image image mode=RGB size=320x320 at 0x7FC60FCF5C90>"
            ],
            "image/png": "[encoded data removed]"
          },
          "metadata": {}
        },
        {
          "output_type": "stream",
          "name": "stdout",
          "text": [
            "\n",
            " IMAGEM: ./SPAIR/Negative/14/COR_T2_SPAIR_401/IM-0005-0007.png\n",
            "\n",
            " INDEX: 156\n",
            "\n",
            "  Máscara (Imagem após dilatação e erosão) \n",
            "\n"
          ]
        },
        {
          "output_type": "display_data",
          "data": {
            "text/plain": [
              "<PIL.Image.Image image mode=RGB size=320x320 at 0x7FC60D887F10>"
            ],
            "image/png": "[encoded data removed]"
          },
          "metadata": {}
        },
        {
          "output_type": "stream",
          "name": "stdout",
          "text": [
            "\n",
            " IMAGEM: ./SPAIR/Negative/14/COR_T2_SPAIR_401/IM-0005-0006.png\n",
            "\n",
            " INDEX: 157\n",
            "\n",
            "  Máscara (Imagem após dilatação e erosão) \n",
            "\n"
          ]
        },
        {
          "output_type": "display_data",
          "data": {
            "text/plain": [
              "<PIL.Image.Image image mode=RGB size=320x320 at 0x7FC61E682C90>"
            ],
            "image/png": "[encoded data removed]"
          },
          "metadata": {}
        },
        {
          "output_type": "stream",
          "name": "stdout",
          "text": [
            "\n",
            " IMAGEM: ./SPAIR/Negative/14/COR_T2_SPAIR_401/IM-0005-0008.png\n",
            "\n",
            " INDEX: 158\n",
            "\n",
            "  Máscara (Imagem após dilatação e erosão) \n",
            "\n"
          ]
        },
        {
          "output_type": "display_data",
          "data": {
            "text/plain": [
              "<PIL.Image.Image image mode=RGB size=320x320 at 0x7FC5FB332E10>"
            ],
            "image/png": "[encoded data removed]"
          },
          "metadata": {}
        },
        {
          "output_type": "stream",
          "name": "stdout",
          "text": [
            "\n",
            " IMAGEM: ./SPAIR/Negative/14/COR_T2_SPAIR_401/IM-0005-0011.png\n",
            "\n",
            " INDEX: 159\n",
            "\n",
            "  Máscara (Imagem após dilatação e erosão) \n",
            "\n"
          ]
        },
        {
          "output_type": "display_data",
          "data": {
            "text/plain": [
              "<PIL.Image.Image image mode=RGB size=320x320 at 0x7FC5FB332E10>"
            ],
            "image/png": "[encoded data removed]"
          },
          "metadata": {}
        },
        {
          "output_type": "stream",
          "name": "stdout",
          "text": [
            "\n",
            " IMAGEM: ./SPAIR/Negative/14/COR_T2_SPAIR_401/IM-0005-0009.png\n",
            "\n",
            " INDEX: 160\n",
            "\n",
            "  Máscara (Imagem após dilatação e erosão) \n",
            "\n"
          ]
        },
        {
          "output_type": "display_data",
          "data": {
            "text/plain": [
              "<PIL.Image.Image image mode=RGB size=320x320 at 0x7FC60E197690>"
            ],
            "image/png": "[encoded data removed]"
          },
          "metadata": {}
        },
        {
          "output_type": "stream",
          "name": "stdout",
          "text": [
            "\n",
            " IMAGEM: ./SPAIR/Negative/10/COR_T2_SPAIR_401/IM-0007-0008.png\n",
            "\n",
            " INDEX: 161\n",
            "\n",
            "  Máscara (Imagem após dilatação e erosão) \n",
            "\n"
          ]
        },
        {
          "output_type": "display_data",
          "data": {
            "text/plain": [
              "<PIL.Image.Image image mode=RGB size=320x320 at 0x7FC5FB332E10>"
            ],
            "image/png": "[encoded data removed]"
          },
          "metadata": {}
        },
        {
          "output_type": "stream",
          "name": "stdout",
          "text": [
            "\n",
            " IMAGEM: ./SPAIR/Negative/10/COR_T2_SPAIR_401/IM-0007-0007.png\n",
            "\n",
            " INDEX: 162\n",
            "\n",
            "  Máscara (Imagem após dilatação e erosão) \n",
            "\n"
          ]
        },
        {
          "output_type": "display_data",
          "data": {
            "text/plain": [
              "<PIL.Image.Image image mode=RGB size=320x320 at 0x7FC5FB332E10>"
            ],
            "image/png": "[encoded data removed]"
          },
          "metadata": {}
        },
        {
          "output_type": "stream",
          "name": "stdout",
          "text": [
            "\n",
            " IMAGEM: ./SPAIR/Negative/10/COR_T2_SPAIR_401/IM-0007-0011.png\n",
            "\n",
            " INDEX: 163\n",
            "\n",
            "  Máscara (Imagem após dilatação e erosão) \n",
            "\n"
          ]
        },
        {
          "output_type": "display_data",
          "data": {
            "text/plain": [
              "<PIL.Image.Image image mode=RGB size=320x320 at 0x7FC60E197690>"
            ],
            "image/png": "[encoded data removed]"
          },
          "metadata": {}
        },
        {
          "output_type": "stream",
          "name": "stdout",
          "text": [
            "\n",
            " IMAGEM: ./SPAIR/Negative/10/COR_T2_SPAIR_401/IM-0007-0010.png\n",
            "\n",
            " INDEX: 164\n",
            "\n",
            "  Máscara (Imagem após dilatação e erosão) \n",
            "\n"
          ]
        },
        {
          "output_type": "display_data",
          "data": {
            "text/plain": [
              "<PIL.Image.Image image mode=RGB size=320x320 at 0x7FC6085E8710>"
            ],
            "image/png": "[encoded data removed]"
          },
          "metadata": {}
        },
        {
          "output_type": "stream",
          "name": "stdout",
          "text": [
            "\n",
            " IMAGEM: ./SPAIR/Negative/10/COR_T2_SPAIR_401/IM-0007-0009.png\n",
            "\n",
            " INDEX: 165\n",
            "\n",
            "  Máscara (Imagem após dilatação e erosão) \n",
            "\n"
          ]
        },
        {
          "output_type": "display_data",
          "data": {
            "text/plain": [
              "<PIL.Image.Image image mode=RGB size=320x320 at 0x7FC5FB3446D0>"
            ],
            "image/png": "[encoded data removed]"
          },
          "metadata": {}
        },
        {
          "output_type": "stream",
          "name": "stdout",
          "text": [
            "\n",
            " IMAGEM: ./SPAIR/Negative/10/COR_T2_SPAIR_401/IM-0007-0006.png\n",
            "\n",
            " INDEX: 166\n",
            "\n",
            "  Máscara (Imagem após dilatação e erosão) \n",
            "\n"
          ]
        },
        {
          "output_type": "display_data",
          "data": {
            "text/plain": [
              "<PIL.Image.Image image mode=RGB size=320x320 at 0x7FC60D887F10>"
            ],
            "image/png": "[encoded data removed]"
          },
          "metadata": {}
        },
        {
          "output_type": "stream",
          "name": "stdout",
          "text": [
            "\n",
            " IMAGEM: ./SPAIR/Negative/17/COR_T2_SPAIR_401/IM-0005-0004.png\n",
            "\n",
            " INDEX: 167\n",
            "\n",
            "  Máscara (Imagem após dilatação e erosão) \n",
            "\n"
          ]
        },
        {
          "output_type": "display_data",
          "data": {
            "text/plain": [
              "<PIL.Image.Image image mode=RGB size=320x320 at 0x7FC60D887F10>"
            ],
            "image/png": "[encoded data removed]"
          },
          "metadata": {}
        },
        {
          "output_type": "stream",
          "name": "stdout",
          "text": [
            "\n",
            " IMAGEM: ./SPAIR/Negative/17/COR_T2_SPAIR_401/IM-0005-0006.png\n",
            "\n",
            " INDEX: 168\n",
            "\n",
            "  Máscara (Imagem após dilatação e erosão) \n",
            "\n"
          ]
        },
        {
          "output_type": "display_data",
          "data": {
            "text/plain": [
              "<PIL.Image.Image image mode=RGB size=320x320 at 0x7FC5FB332E10>"
            ],
            "image/png": "[encoded data removed]"
          },
          "metadata": {}
        },
        {
          "output_type": "stream",
          "name": "stdout",
          "text": [
            "\n",
            " IMAGEM: ./SPAIR/Negative/17/COR_T2_SPAIR_401/IM-0005-0005.png\n",
            "\n",
            " INDEX: 169\n",
            "\n",
            "  Máscara (Imagem após dilatação e erosão) \n",
            "\n"
          ]
        },
        {
          "output_type": "display_data",
          "data": {
            "text/plain": [
              "<PIL.Image.Image image mode=RGB size=320x320 at 0x7FC60D887F10>"
            ],
            "image/png": "[encoded data removed]"
          },
          "metadata": {}
        },
        {
          "output_type": "stream",
          "name": "stdout",
          "text": [
            "\n",
            " IMAGEM: ./SPAIR/Negative/17/COR_T2_SPAIR_401/IM-0005-0009.png\n",
            "\n",
            " INDEX: 170\n",
            "\n",
            "  Máscara (Imagem após dilatação e erosão) \n",
            "\n"
          ]
        },
        {
          "output_type": "display_data",
          "data": {
            "text/plain": [
              "<PIL.Image.Image image mode=RGB size=320x320 at 0x7FC6085E8710>"
            ],
            "image/png": "[encoded data removed]"
          },
          "metadata": {}
        },
        {
          "output_type": "stream",
          "name": "stdout",
          "text": [
            "\n",
            " IMAGEM: ./SPAIR/Negative/17/COR_T2_SPAIR_401/IM-0005-0008.png\n",
            "\n",
            " INDEX: 171\n",
            "\n",
            "  Máscara (Imagem após dilatação e erosão) \n",
            "\n"
          ]
        },
        {
          "output_type": "display_data",
          "data": {
            "text/plain": [
              "<PIL.Image.Image image mode=RGB size=320x320 at 0x7FC60D887F10>"
            ],
            "image/png": "[encoded data removed]"
          },
          "metadata": {}
        },
        {
          "output_type": "stream",
          "name": "stdout",
          "text": [
            "\n",
            " IMAGEM: ./SPAIR/Negative/17/COR_T2_SPAIR_401/IM-0005-0007.png\n",
            "\n",
            " INDEX: 172\n",
            "\n",
            "  Máscara (Imagem após dilatação e erosão) \n",
            "\n"
          ]
        },
        {
          "output_type": "display_data",
          "data": {
            "text/plain": [
              "<PIL.Image.Image image mode=RGB size=320x320 at 0x7FC60FAE6690>"
            ],
            "image/png": "[encoded data removed]"
          },
          "metadata": {}
        },
        {
          "output_type": "stream",
          "name": "stdout",
          "text": [
            "\n",
            " IMAGEM: ./SPAIR/Negative/1/COR_T2_SPAIR_301/IM-0015-0010.png\n",
            "\n",
            " INDEX: 173\n",
            "\n",
            "  Máscara (Imagem após dilatação e erosão) \n",
            "\n"
          ]
        },
        {
          "output_type": "display_data",
          "data": {
            "text/plain": [
              "<PIL.Image.Image image mode=RGB size=320x320 at 0x7FC60FAE6610>"
            ],
            "image/png": "[encoded data removed]"
          },
          "metadata": {}
        },
        {
          "output_type": "stream",
          "name": "stdout",
          "text": [
            "\n",
            " IMAGEM: ./SPAIR/Negative/1/COR_T2_SPAIR_301/IM-0015-0012.png\n",
            "\n",
            " INDEX: 174\n",
            "\n",
            "  Máscara (Imagem após dilatação e erosão) \n",
            "\n"
          ]
        },
        {
          "output_type": "display_data",
          "data": {
            "text/plain": [
              "<PIL.Image.Image image mode=RGB size=320x320 at 0x7FC6085E8710>"
            ],
            "image/png": "[encoded data removed]"
          },
          "metadata": {}
        },
        {
          "output_type": "stream",
          "name": "stdout",
          "text": [
            "\n",
            " IMAGEM: ./SPAIR/Negative/1/COR_T2_SPAIR_301/IM-0015-0011.png\n",
            "\n",
            " INDEX: 175\n",
            "\n",
            "  Máscara (Imagem após dilatação e erosão) \n",
            "\n"
          ]
        },
        {
          "output_type": "display_data",
          "data": {
            "text/plain": [
              "<PIL.Image.Image image mode=RGB size=320x320 at 0x7FC60E1974D0>"
            ],
            "image/png": "[encoded data removed]"
          },
          "metadata": {}
        },
        {
          "output_type": "stream",
          "name": "stdout",
          "text": [
            "\n",
            " IMAGEM: ./SPAIR/Negative/1/COR_T2_SPAIR_301/IM-0015-0013.png\n",
            "\n",
            " INDEX: 176\n",
            "\n",
            "  Máscara (Imagem após dilatação e erosão) \n",
            "\n"
          ]
        },
        {
          "output_type": "display_data",
          "data": {
            "text/plain": [
              "<PIL.Image.Image image mode=RGB size=320x320 at 0x7FC5FB430D50>"
            ],
            "image/png": "[encoded data removed]"
          },
          "metadata": {}
        },
        {
          "output_type": "stream",
          "name": "stdout",
          "text": [
            "\n",
            " IMAGEM: ./SPAIR/Negative/1/COR_T2_SPAIR_301/IM-0015-0008.png\n",
            "\n",
            " INDEX: 177\n",
            "\n",
            "  Máscara (Imagem após dilatação e erosão) \n",
            "\n"
          ]
        },
        {
          "output_type": "display_data",
          "data": {
            "text/plain": [
              "<PIL.Image.Image image mode=RGB size=320x320 at 0x7FC5FB344C90>"
            ],
            "image/png": "[encoded data removed]"
          },
          "metadata": {}
        },
        {
          "output_type": "stream",
          "name": "stdout",
          "text": [
            "\n",
            " IMAGEM: ./SPAIR/Negative/1/COR_T2_SPAIR_301/IM-0015-0009.png\n",
            "\n",
            " INDEX: 178\n",
            "\n",
            "  Máscara (Imagem após dilatação e erosão) \n",
            "\n"
          ]
        },
        {
          "output_type": "display_data",
          "data": {
            "text/plain": [
              "<PIL.Image.Image image mode=RGB size=320x320 at 0x7FC60E197690>"
            ],
            "image/png": "[encoded data removed]"
          },
          "metadata": {}
        },
        {
          "output_type": "stream",
          "name": "stdout",
          "text": [
            "\n",
            " IMAGEM: ./SPAIR/Negative/16/COR_T2_SPAIR_401/IM-0005-0009.png\n",
            "\n",
            " INDEX: 179\n",
            "\n",
            "  Máscara (Imagem após dilatação e erosão) \n",
            "\n"
          ]
        },
        {
          "output_type": "display_data",
          "data": {
            "text/plain": [
              "<PIL.Image.Image image mode=RGB size=320x320 at 0x7FC60FAE6610>"
            ],
            "image/png": "[encoded data removed]"
          },
          "metadata": {}
        },
        {
          "output_type": "stream",
          "name": "stdout",
          "text": [
            "\n",
            " IMAGEM: ./SPAIR/Negative/16/COR_T2_SPAIR_401/IM-0005-0011.png\n",
            "\n",
            " INDEX: 180\n",
            "\n",
            "  Máscara (Imagem após dilatação e erosão) \n",
            "\n"
          ]
        },
        {
          "output_type": "display_data",
          "data": {
            "text/plain": [
              "<PIL.Image.Image image mode=RGB size=320x320 at 0x7FC5FB3446D0>"
            ],
            "image/png": "[encoded data removed]"
          },
          "metadata": {}
        },
        {
          "output_type": "stream",
          "name": "stdout",
          "text": [
            "\n",
            " IMAGEM: ./SPAIR/Negative/16/COR_T2_SPAIR_401/IM-0005-0012.png\n",
            "\n",
            " INDEX: 181\n",
            "\n",
            "  Máscara (Imagem após dilatação e erosão) \n",
            "\n"
          ]
        },
        {
          "output_type": "display_data",
          "data": {
            "text/plain": [
              "<PIL.Image.Image image mode=RGB size=320x320 at 0x7FC60FAE6690>"
            ],
            "image/png": "[encoded data removed]"
          },
          "metadata": {}
        },
        {
          "output_type": "stream",
          "name": "stdout",
          "text": [
            "\n",
            " IMAGEM: ./SPAIR/Negative/16/COR_T2_SPAIR_401/IM-0005-0010.png\n",
            "\n",
            " INDEX: 182\n",
            "\n",
            "  Máscara (Imagem após dilatação e erosão) \n",
            "\n"
          ]
        },
        {
          "output_type": "display_data",
          "data": {
            "text/plain": [
              "<PIL.Image.Image image mode=RGB size=320x320 at 0x7FC60E1974D0>"
            ],
            "image/png": "[encoded data removed]"
          },
          "metadata": {}
        },
        {
          "output_type": "stream",
          "name": "stdout",
          "text": [
            "\n",
            " IMAGEM: ./SPAIR/Negative/16/COR_T2_SPAIR_401/IM-0005-0007.png\n",
            "\n",
            " INDEX: 183\n",
            "\n",
            "  Máscara (Imagem após dilatação e erosão) \n",
            "\n"
          ]
        },
        {
          "output_type": "display_data",
          "data": {
            "text/plain": [
              "<PIL.Image.Image image mode=RGB size=320x320 at 0x7FC60FAE6690>"
            ],
            "image/png": "[encoded data removed]"
          },
          "metadata": {}
        },
        {
          "output_type": "stream",
          "name": "stdout",
          "text": [
            "\n",
            " IMAGEM: ./SPAIR/Negative/16/COR_T2_SPAIR_401/IM-0005-0008.png\n",
            "\n",
            " INDEX: 184\n",
            "\n",
            "  Máscara (Imagem após dilatação e erosão) \n",
            "\n"
          ]
        },
        {
          "output_type": "display_data",
          "data": {
            "text/plain": [
              "<PIL.Image.Image image mode=RGB size=320x320 at 0x7FC60FCF5C90>"
            ],
            "image/png": "[encoded data removed]"
          },
          "metadata": {}
        },
        {
          "output_type": "stream",
          "name": "stdout",
          "text": [
            "\n",
            " IMAGEM: ./SPAIR/Negative/18/COR_T2_SPAIR_301/IM-0004-0007.png\n",
            "\n",
            " INDEX: 185\n",
            "\n",
            "  Máscara (Imagem após dilatação e erosão) \n",
            "\n"
          ]
        },
        {
          "output_type": "display_data",
          "data": {
            "text/plain": [
              "<PIL.Image.Image image mode=RGB size=320x320 at 0x7FC60E1974D0>"
            ],
            "image/png": "[encoded data removed]"
          },
          "metadata": {}
        },
        {
          "output_type": "stream",
          "name": "stdout",
          "text": [
            "\n",
            " IMAGEM: ./SPAIR/Negative/18/COR_T2_SPAIR_301/IM-0004-0006.png\n",
            "\n",
            " INDEX: 186\n",
            "\n",
            "  Máscara (Imagem após dilatação e erosão) \n",
            "\n"
          ]
        },
        {
          "output_type": "display_data",
          "data": {
            "text/plain": [
              "<PIL.Image.Image image mode=RGB size=320x320 at 0x7FC60FCF5C90>"
            ],
            "image/png": "[encoded data removed]"
          },
          "metadata": {}
        },
        {
          "output_type": "stream",
          "name": "stdout",
          "text": [
            "\n",
            " IMAGEM: ./SPAIR/Negative/18/COR_T2_SPAIR_301/IM-0004-0008.png\n",
            "\n",
            " INDEX: 187\n",
            "\n",
            "  Máscara (Imagem após dilatação e erosão) \n",
            "\n"
          ]
        },
        {
          "output_type": "display_data",
          "data": {
            "text/plain": [
              "<PIL.Image.Image image mode=RGB size=320x320 at 0x7FC60F354790>"
            ],
            "image/png": "[encoded data removed]"
          },
          "metadata": {}
        },
        {
          "output_type": "stream",
          "name": "stdout",
          "text": [
            "\n",
            " IMAGEM: ./SPAIR/Negative/18/COR_T2_SPAIR_301/IM-0004-0005.png\n",
            "\n",
            " INDEX: 188\n",
            "\n",
            "  Máscara (Imagem após dilatação e erosão) \n",
            "\n"
          ]
        },
        {
          "output_type": "display_data",
          "data": {
            "text/plain": [
              "<PIL.Image.Image image mode=RGB size=320x320 at 0x7FC60D8E9E50>"
            ],
            "image/png": "[encoded data removed]"
          },
          "metadata": {}
        },
        {
          "output_type": "stream",
          "name": "stdout",
          "text": [
            "\n",
            " IMAGEM: ./SPAIR/Negative/18/COR_T2_SPAIR_301/IM-0004-0010.png\n",
            "\n",
            " INDEX: 189\n",
            "\n",
            "  Máscara (Imagem após dilatação e erosão) \n",
            "\n"
          ]
        },
        {
          "output_type": "display_data",
          "data": {
            "text/plain": [
              "<PIL.Image.Image image mode=RGB size=320x320 at 0x7FC61E682C90>"
            ],
            "image/png": "[encoded data removed]"
          },
          "metadata": {}
        },
        {
          "output_type": "stream",
          "name": "stdout",
          "text": [
            "\n",
            " IMAGEM: ./SPAIR/Negative/18/COR_T2_SPAIR_301/IM-0004-0009.png\n",
            "\n",
            " INDEX: 190\n",
            "\n",
            "  Máscara (Imagem após dilatação e erosão) \n",
            "\n"
          ]
        },
        {
          "output_type": "display_data",
          "data": {
            "text/plain": [
              "<PIL.Image.Image image mode=RGB size=320x320 at 0x7FC5FB3446D0>"
            ],
            "image/png": "[encoded data removed]"
          },
          "metadata": {}
        },
        {
          "output_type": "stream",
          "name": "stdout",
          "text": [
            "\n",
            " IMAGEM: ./SPAIR/Negative/21/COR_T2_SPAIR_301/IM-0001-0013.png\n",
            "\n",
            " INDEX: 191\n",
            "\n",
            "  Máscara (Imagem após dilatação e erosão) \n",
            "\n"
          ]
        },
        {
          "output_type": "display_data",
          "data": {
            "text/plain": [
              "<PIL.Image.Image image mode=RGB size=384x384 at 0x7FC5FB3446D0>"
            ],
            "image/png": "[encoded data removed]"
          },
          "metadata": {}
        },
        {
          "output_type": "stream",
          "name": "stdout",
          "text": [
            "\n",
            " IMAGEM: ./SPAIR/Negative/21/COR_T2_SPAIR_301/IM-0001-0012.png\n",
            "\n",
            " INDEX: 192\n",
            "\n",
            "  Máscara (Imagem após dilatação e erosão) \n",
            "\n"
          ]
        },
        {
          "output_type": "display_data",
          "data": {
            "text/plain": [
              "<PIL.Image.Image image mode=RGB size=384x384 at 0x7FC60FAE6610>"
            ],
            "image/png": "[encoded data removed]"
          },
          "metadata": {}
        },
        {
          "output_type": "stream",
          "name": "stdout",
          "text": [
            "\n",
            " IMAGEM: ./SPAIR/Negative/21/COR_T2_SPAIR_301/IM-0001-0009.png\n",
            "\n",
            " INDEX: 193\n",
            "\n",
            "  Máscara (Imagem após dilatação e erosão) \n",
            "\n"
          ]
        },
        {
          "output_type": "display_data",
          "data": {
            "text/plain": [
              "<PIL.Image.Image image mode=RGB size=384x384 at 0x7FC60E197690>"
            ],
            "image/png": "[encoded data removed]"
          },
          "metadata": {}
        },
        {
          "output_type": "stream",
          "name": "stdout",
          "text": [
            "\n",
            " IMAGEM: ./SPAIR/Negative/21/COR_T2_SPAIR_301/IM-0001-0014.png\n",
            "\n",
            " INDEX: 194\n",
            "\n",
            "  Máscara (Imagem após dilatação e erosão) \n",
            "\n"
          ]
        },
        {
          "output_type": "display_data",
          "data": {
            "text/plain": [
              "<PIL.Image.Image image mode=RGB size=384x384 at 0x7FC60E197690>"
            ],
            "image/png": "[encoded data removed]"
          },
          "metadata": {}
        },
        {
          "output_type": "stream",
          "name": "stdout",
          "text": [
            "\n",
            " IMAGEM: ./SPAIR/Negative/21/COR_T2_SPAIR_301/IM-0001-0011.png\n",
            "\n",
            " INDEX: 195\n",
            "\n",
            "  Máscara (Imagem após dilatação e erosão) \n",
            "\n"
          ]
        },
        {
          "output_type": "display_data",
          "data": {
            "text/plain": [
              "<PIL.Image.Image image mode=RGB size=384x384 at 0x7FC60E197690>"
            ],
            "image/png": "[encoded data removed]"
          },
          "metadata": {}
        },
        {
          "output_type": "stream",
          "name": "stdout",
          "text": [
            "\n",
            " IMAGEM: ./SPAIR/Negative/21/COR_T2_SPAIR_301/IM-0001-0010.png\n",
            "\n",
            " INDEX: 196\n",
            "\n",
            "  Máscara (Imagem após dilatação e erosão) \n",
            "\n"
          ]
        },
        {
          "output_type": "display_data",
          "data": {
            "text/plain": [
              "<PIL.Image.Image image mode=RGB size=384x384 at 0x7FC61E682C90>"
            ],
            "image/png": "[encoded data removed]"
          },
          "metadata": {}
        },
        {
          "output_type": "stream",
          "name": "stdout",
          "text": [
            "\n",
            " IMAGEM: ./SPAIR/Negative/24/301/00020008.png\n",
            "\n",
            " INDEX: 197\n",
            "\n",
            "  Máscara (Imagem após dilatação e erosão) \n",
            "\n"
          ]
        },
        {
          "output_type": "display_data",
          "data": {
            "text/plain": [
              "<PIL.Image.Image image mode=RGB size=320x320 at 0x7FC5FB349B50>"
            ],
            "image/png": "[encoded data removed]"
          },
          "metadata": {}
        },
        {
          "output_type": "stream",
          "name": "stdout",
          "text": [
            "\n",
            " IMAGEM: ./SPAIR/Negative/24/301/00020010.png\n",
            "\n",
            " INDEX: 198\n",
            "\n",
            "  Máscara (Imagem após dilatação e erosão) \n",
            "\n"
          ]
        },
        {
          "output_type": "display_data",
          "data": {
            "text/plain": [
              "<PIL.Image.Image image mode=RGB size=320x320 at 0x7FC5FB349BD0>"
            ],
            "image/png": "[encoded data removed]"
          },
          "metadata": {}
        },
        {
          "output_type": "stream",
          "name": "stdout",
          "text": [
            "\n",
            " IMAGEM: ./SPAIR/Negative/24/301/00020009.png\n",
            "\n",
            " INDEX: 199\n",
            "\n",
            "  Máscara (Imagem após dilatação e erosão) \n",
            "\n"
          ]
        },
        {
          "output_type": "display_data",
          "data": {
            "text/plain": [
              "<PIL.Image.Image image mode=RGB size=320x320 at 0x7FC5FB349E50>"
            ],
            "image/png": "[encoded data removed]"
          },
          "metadata": {}
        },
        {
          "output_type": "stream",
          "name": "stdout",
          "text": [
            "\n",
            " IMAGEM: ./SPAIR/Negative/24/301/00020012.png\n",
            "\n",
            " INDEX: 200\n",
            "\n",
            "  Máscara (Imagem após dilatação e erosão) \n",
            "\n"
          ]
        },
        {
          "output_type": "display_data",
          "data": {
            "text/plain": [
              "<PIL.Image.Image image mode=RGB size=320x320 at 0x7FC5FB349350>"
            ],
            "image/png": "[encoded data removed]"
          },
          "metadata": {}
        },
        {
          "output_type": "stream",
          "name": "stdout",
          "text": [
            "\n",
            " IMAGEM: ./SPAIR/Negative/24/301/00020011.png\n",
            "\n",
            " INDEX: 201\n",
            "\n",
            "  Máscara (Imagem após dilatação e erosão) \n",
            "\n"
          ]
        },
        {
          "output_type": "display_data",
          "data": {
            "text/plain": [
              "<PIL.Image.Image image mode=RGB size=320x320 at 0x7FC5FB430DD0>"
            ],
            "image/png": "[encoded data removed]"
          },
          "metadata": {}
        },
        {
          "output_type": "stream",
          "name": "stdout",
          "text": [
            "\n",
            " IMAGEM: ./SPAIR/Negative/24/301/00020013.png\n",
            "\n",
            " INDEX: 202\n",
            "\n",
            "  Máscara (Imagem após dilatação e erosão) \n",
            "\n"
          ]
        },
        {
          "output_type": "display_data",
          "data": {
            "text/plain": [
              "<PIL.Image.Image image mode=RGB size=320x320 at 0x7FC5FB349A10>"
            ],
            "image/png": "[encoded data removed]"
          },
          "metadata": {}
        },
        {
          "output_type": "stream",
          "name": "stdout",
          "text": [
            "\n",
            " IMAGEM: ./SPAIR/Negative/2/COR_T2_SPAIR_401/IM-0014-0012.png\n",
            "\n",
            " INDEX: 203\n",
            "\n",
            "  Máscara (Imagem após dilatação e erosão) \n",
            "\n"
          ]
        },
        {
          "output_type": "display_data",
          "data": {
            "text/plain": [
              "<PIL.Image.Image image mode=RGB size=320x320 at 0x7FC6085E8710>"
            ],
            "image/png": "[encoded data removed]"
          },
          "metadata": {}
        },
        {
          "output_type": "stream",
          "name": "stdout",
          "text": [
            "\n",
            " IMAGEM: ./SPAIR/Negative/2/COR_T2_SPAIR_401/IM-0014-0013.png\n",
            "\n",
            " INDEX: 204\n",
            "\n",
            "  Máscara (Imagem após dilatação e erosão) \n",
            "\n"
          ]
        },
        {
          "output_type": "display_data",
          "data": {
            "text/plain": [
              "<PIL.Image.Image image mode=RGB size=320x320 at 0x7FC5FB430D90>"
            ],
            "image/png": "[encoded data removed]"
          },
          "metadata": {}
        },
        {
          "output_type": "stream",
          "name": "stdout",
          "text": [
            "\n",
            " IMAGEM: ./SPAIR/Negative/2/COR_T2_SPAIR_401/IM-0014-0008.png\n",
            "\n",
            " INDEX: 205\n",
            "\n",
            "  Máscara (Imagem após dilatação e erosão) \n",
            "\n"
          ]
        },
        {
          "output_type": "display_data",
          "data": {
            "text/plain": [
              "<PIL.Image.Image image mode=RGB size=320x320 at 0x7FC5FB332E10>"
            ],
            "image/png": "[encoded data removed]"
          },
          "metadata": {}
        },
        {
          "output_type": "stream",
          "name": "stdout",
          "text": [
            "\n",
            " IMAGEM: ./SPAIR/Negative/2/COR_T2_SPAIR_401/IM-0014-0011.png\n",
            "\n",
            " INDEX: 206\n",
            "\n",
            "  Máscara (Imagem após dilatação e erosão) \n",
            "\n"
          ]
        },
        {
          "output_type": "display_data",
          "data": {
            "text/plain": [
              "<PIL.Image.Image image mode=RGB size=320x320 at 0x7FC60FAE6690>"
            ],
            "image/png": "[encoded data removed]"
          },
          "metadata": {}
        },
        {
          "output_type": "stream",
          "name": "stdout",
          "text": [
            "\n",
            " IMAGEM: ./SPAIR/Negative/2/COR_T2_SPAIR_401/IM-0014-0009.png\n",
            "\n",
            " INDEX: 207\n",
            "\n",
            "  Máscara (Imagem após dilatação e erosão) \n",
            "\n"
          ]
        },
        {
          "output_type": "display_data",
          "data": {
            "text/plain": [
              "<PIL.Image.Image image mode=RGB size=320x320 at 0x7FC60E1974D0>"
            ],
            "image/png": "[encoded data removed]"
          },
          "metadata": {}
        },
        {
          "output_type": "stream",
          "name": "stdout",
          "text": [
            "\n",
            " IMAGEM: ./SPAIR/Negative/2/COR_T2_SPAIR_401/IM-0014-0010.png\n",
            "\n",
            " INDEX: 208\n",
            "\n",
            "  Máscara (Imagem após dilatação e erosão) \n",
            "\n"
          ]
        },
        {
          "output_type": "display_data",
          "data": {
            "text/plain": [
              "<PIL.Image.Image image mode=RGB size=320x320 at 0x7FC60E1974D0>"
            ],
            "image/png": "[encoded data removed]"
          },
          "metadata": {}
        },
        {
          "output_type": "stream",
          "name": "stdout",
          "text": [
            "\n",
            " IMAGEM: ./SPAIR/Negative/25/701/00010012.png\n",
            "\n",
            " INDEX: 209\n",
            "\n",
            "  Máscara (Imagem após dilatação e erosão) \n",
            "\n"
          ]
        },
        {
          "output_type": "display_data",
          "data": {
            "text/plain": [
              "<PIL.Image.Image image mode=RGB size=320x320 at 0x7FC5FB349A90>"
            ],
            "image/png": "[encoded data removed]"
          },
          "metadata": {}
        },
        {
          "output_type": "stream",
          "name": "stdout",
          "text": [
            "\n",
            " IMAGEM: ./SPAIR/Negative/25/701/00010011.png\n",
            "\n",
            " INDEX: 210\n",
            "\n",
            "  Máscara (Imagem após dilatação e erosão) \n",
            "\n"
          ]
        },
        {
          "output_type": "display_data",
          "data": {
            "text/plain": [
              "<PIL.Image.Image image mode=RGB size=320x320 at 0x7FC5FB430FD0>"
            ],
            "image/png": "[encoded data removed]"
          },
          "metadata": {}
        },
        {
          "output_type": "stream",
          "name": "stdout",
          "text": [
            "\n",
            " IMAGEM: ./SPAIR/Negative/25/701/00010008.png\n",
            "\n",
            " INDEX: 211\n",
            "\n",
            "  Máscara (Imagem após dilatação e erosão) \n",
            "\n"
          ]
        },
        {
          "output_type": "display_data",
          "data": {
            "text/plain": [
              "<PIL.Image.Image image mode=RGB size=320x320 at 0x7FC5FB430CD0>"
            ],
            "image/png": "[encoded data removed]"
          },
          "metadata": {}
        },
        {
          "output_type": "stream",
          "name": "stdout",
          "text": [
            "\n",
            " IMAGEM: ./SPAIR/Negative/25/701/00010009.png\n",
            "\n",
            " INDEX: 212\n",
            "\n",
            "  Máscara (Imagem após dilatação e erosão) \n",
            "\n"
          ]
        },
        {
          "output_type": "display_data",
          "data": {
            "text/plain": [
              "<PIL.Image.Image image mode=RGB size=320x320 at 0x7FC60FAE6690>"
            ],
            "image/png": "[encoded data removed]"
          },
          "metadata": {}
        },
        {
          "output_type": "stream",
          "name": "stdout",
          "text": [
            "\n",
            " IMAGEM: ./SPAIR/Negative/25/701/00010010.png\n",
            "\n",
            " INDEX: 213\n",
            "\n",
            "  Máscara (Imagem após dilatação e erosão) \n",
            "\n"
          ]
        },
        {
          "output_type": "display_data",
          "data": {
            "text/plain": [
              "<PIL.Image.Image image mode=RGB size=320x320 at 0x7FC5FB430F10>"
            ],
            "image/png": "[encoded data removed]"
          },
          "metadata": {}
        },
        {
          "output_type": "stream",
          "name": "stdout",
          "text": [
            "\n",
            " IMAGEM: ./SPAIR/Negative/25/701/00010013.png\n",
            "\n",
            " INDEX: 214\n",
            "\n",
            "  Máscara (Imagem após dilatação e erosão) \n",
            "\n"
          ]
        },
        {
          "output_type": "display_data",
          "data": {
            "text/plain": [
              "<PIL.Image.Image image mode=RGB size=320x320 at 0x7FC5FB430D90>"
            ],
            "image/png": "[encoded data removed]"
          },
          "metadata": {}
        },
        {
          "output_type": "stream",
          "name": "stdout",
          "text": [
            "\n",
            " IMAGEM: ./SPAIR/Negative/23/801/00030005.png\n",
            "\n",
            " INDEX: 215\n",
            "\n",
            "  Máscara (Imagem após dilatação e erosão) \n",
            "\n"
          ]
        },
        {
          "output_type": "display_data",
          "data": {
            "text/plain": [
              "<PIL.Image.Image image mode=RGB size=320x320 at 0x7FC5FB349950>"
            ],
            "image/png": "[encoded data removed]"
          },
          "metadata": {}
        },
        {
          "output_type": "stream",
          "name": "stdout",
          "text": [
            "\n",
            " IMAGEM: ./SPAIR/Negative/23/801/00030006.png\n",
            "\n",
            " INDEX: 216\n",
            "\n",
            "  Máscara (Imagem após dilatação e erosão) \n",
            "\n"
          ]
        },
        {
          "output_type": "display_data",
          "data": {
            "text/plain": [
              "<PIL.Image.Image image mode=RGB size=320x320 at 0x7FC5FB430DD0>"
            ],
            "image/png": "[encoded data removed]"
          },
          "metadata": {}
        },
        {
          "output_type": "stream",
          "name": "stdout",
          "text": [
            "\n",
            " IMAGEM: ./SPAIR/Negative/23/801/00030004.png\n",
            "\n",
            " INDEX: 217\n",
            "\n",
            "  Máscara (Imagem após dilatação e erosão) \n",
            "\n"
          ]
        },
        {
          "output_type": "display_data",
          "data": {
            "text/plain": [
              "<PIL.Image.Image image mode=RGB size=320x320 at 0x7FC60FAE6690>"
            ],
            "image/png": "[encoded data removed]"
          },
          "metadata": {}
        },
        {
          "output_type": "stream",
          "name": "stdout",
          "text": [
            "\n",
            " IMAGEM: ./SPAIR/Negative/23/801/00030009.png\n",
            "\n",
            " INDEX: 218\n",
            "\n",
            "  Máscara (Imagem após dilatação e erosão) \n",
            "\n"
          ]
        },
        {
          "output_type": "display_data",
          "data": {
            "text/plain": [
              "<PIL.Image.Image image mode=RGB size=320x320 at 0x7FC5FB430D50>"
            ],
            "image/png": "[encoded data removed]"
          },
          "metadata": {}
        },
        {
          "output_type": "stream",
          "name": "stdout",
          "text": [
            "\n",
            " IMAGEM: ./SPAIR/Negative/23/801/00030007.png\n",
            "\n",
            " INDEX: 219\n",
            "\n",
            "  Máscara (Imagem após dilatação e erosão) \n",
            "\n"
          ]
        },
        {
          "output_type": "display_data",
          "data": {
            "text/plain": [
              "<PIL.Image.Image image mode=RGB size=320x320 at 0x7FC5FB349950>"
            ],
            "image/png": "[encoded data removed]"
          },
          "metadata": {}
        },
        {
          "output_type": "stream",
          "name": "stdout",
          "text": [
            "\n",
            " IMAGEM: ./SPAIR/Negative/23/801/00030008.png\n",
            "\n",
            " INDEX: 220\n",
            "\n",
            "  Máscara (Imagem após dilatação e erosão) \n",
            "\n"
          ]
        },
        {
          "output_type": "display_data",
          "data": {
            "text/plain": [
              "<PIL.Image.Image image mode=RGB size=320x320 at 0x7FC5FB430FD0>"
            ],
            "image/png": "[encoded data removed]"
          },
          "metadata": {}
        },
        {
          "output_type": "stream",
          "name": "stdout",
          "text": [
            "\n",
            " IMAGEM: ./SPAIR/Negative/20/COR_T2_SPAIR_1201/IM-0002-0006.png\n",
            "\n",
            " INDEX: 221\n",
            "\n",
            "  Máscara (Imagem após dilatação e erosão) \n",
            "\n"
          ]
        },
        {
          "output_type": "display_data",
          "data": {
            "text/plain": [
              "<PIL.Image.Image image mode=RGB size=320x320 at 0x7FC60FAE6690>"
            ],
            "image/png": "[encoded data removed]"
          },
          "metadata": {}
        },
        {
          "output_type": "stream",
          "name": "stdout",
          "text": [
            "\n",
            " IMAGEM: ./SPAIR/Negative/20/COR_T2_SPAIR_1201/IM-0002-0005.png\n",
            "\n",
            " INDEX: 222\n",
            "\n",
            "  Máscara (Imagem após dilatação e erosão) \n",
            "\n"
          ]
        },
        {
          "output_type": "display_data",
          "data": {
            "text/plain": [
              "<PIL.Image.Image image mode=RGB size=320x320 at 0x7FC60FAE6690>"
            ],
            "image/png": "[encoded data removed]"
          },
          "metadata": {}
        },
        {
          "output_type": "stream",
          "name": "stdout",
          "text": [
            "\n",
            " IMAGEM: ./SPAIR/Negative/20/COR_T2_SPAIR_1201/IM-0002-0004.png\n",
            "\n",
            " INDEX: 223\n",
            "\n",
            "  Máscara (Imagem após dilatação e erosão) \n",
            "\n"
          ]
        },
        {
          "output_type": "display_data",
          "data": {
            "text/plain": [
              "<PIL.Image.Image image mode=RGB size=320x320 at 0x7FC5FB349950>"
            ],
            "image/png": "[encoded data removed]"
          },
          "metadata": {}
        },
        {
          "output_type": "stream",
          "name": "stdout",
          "text": [
            "\n",
            " IMAGEM: ./SPAIR/Negative/20/COR_T2_SPAIR_1201/IM-0002-0008.png\n",
            "\n",
            " INDEX: 224\n",
            "\n",
            "  Máscara (Imagem após dilatação e erosão) \n",
            "\n"
          ]
        },
        {
          "output_type": "display_data",
          "data": {
            "text/plain": [
              "<PIL.Image.Image image mode=RGB size=320x320 at 0x7FC60E1974D0>"
            ],
            "image/png": "[encoded data removed]"
          },
          "metadata": {}
        },
        {
          "output_type": "stream",
          "name": "stdout",
          "text": [
            "\n",
            " IMAGEM: ./SPAIR/Negative/20/COR_T2_SPAIR_1201/IM-0002-0009.png\n",
            "\n",
            " INDEX: 225\n",
            "\n",
            "  Máscara (Imagem após dilatação e erosão) \n",
            "\n"
          ]
        },
        {
          "output_type": "display_data",
          "data": {
            "text/plain": [
              "<PIL.Image.Image image mode=RGB size=320x320 at 0x7FC60E1974D0>"
            ],
            "image/png": "[encoded data removed]"
          },
          "metadata": {}
        },
        {
          "output_type": "stream",
          "name": "stdout",
          "text": [
            "\n",
            " IMAGEM: ./SPAIR/Negative/20/COR_T2_SPAIR_1201/IM-0002-0007.png\n",
            "\n",
            " INDEX: 226\n",
            "\n",
            "  Máscara (Imagem após dilatação e erosão) \n",
            "\n"
          ]
        },
        {
          "output_type": "display_data",
          "data": {
            "text/plain": [
              "<PIL.Image.Image image mode=RGB size=320x320 at 0x7FC5FB332E10>"
            ],
            "image/png": "[encoded data removed]"
          },
          "metadata": {}
        },
        {
          "output_type": "stream",
          "name": "stdout",
          "text": [
            "\n",
            " IMAGEM: ./SPAIR/Negative/22/701/00050006.png\n",
            "\n",
            " INDEX: 227\n",
            "\n",
            "  Máscara (Imagem após dilatação e erosão) \n",
            "\n"
          ]
        },
        {
          "output_type": "display_data",
          "data": {
            "text/plain": [
              "<PIL.Image.Image image mode=RGB size=384x384 at 0x7FC60E197690>"
            ],
            "image/png": "[encoded data removed]"
          },
          "metadata": {}
        },
        {
          "output_type": "stream",
          "name": "stdout",
          "text": [
            "\n",
            " IMAGEM: ./SPAIR/Negative/22/701/00050009.png\n",
            "\n",
            " INDEX: 228\n",
            "\n",
            "  Máscara (Imagem após dilatação e erosão) \n",
            "\n"
          ]
        },
        {
          "output_type": "display_data",
          "data": {
            "text/plain": [
              "<PIL.Image.Image image mode=RGB size=384x384 at 0x7FC5FB430E50>"
            ],
            "image/png": "[encoded data removed]"
          },
          "metadata": {}
        },
        {
          "output_type": "stream",
          "name": "stdout",
          "text": [
            "\n",
            " IMAGEM: ./SPAIR/Negative/22/701/00050008.png\n",
            "\n",
            " INDEX: 229\n",
            "\n",
            "  Máscara (Imagem após dilatação e erosão) \n",
            "\n"
          ]
        },
        {
          "output_type": "display_data",
          "data": {
            "text/plain": [
              "<PIL.Image.Image image mode=RGB size=384x384 at 0x7FC5FB430CD0>"
            ],
            "image/png": "[encoded data removed]"
          },
          "metadata": {}
        },
        {
          "output_type": "stream",
          "name": "stdout",
          "text": [
            "\n",
            " IMAGEM: ./SPAIR/Negative/22/701/00050007.png\n",
            "\n",
            " INDEX: 230\n",
            "\n",
            "  Máscara (Imagem após dilatação e erosão) \n",
            "\n"
          ]
        },
        {
          "output_type": "display_data",
          "data": {
            "text/plain": [
              "<PIL.Image.Image image mode=RGB size=384x384 at 0x7FC5FB430D50>"
            ],
            "image/png": "[encoded data removed]"
          },
          "metadata": {}
        },
        {
          "output_type": "stream",
          "name": "stdout",
          "text": [
            "\n",
            " IMAGEM: ./SPAIR/Negative/22/701/00050005.png\n",
            "\n",
            " INDEX: 231\n",
            "\n",
            "  Máscara (Imagem após dilatação e erosão) \n",
            "\n"
          ]
        },
        {
          "output_type": "display_data",
          "data": {
            "text/plain": [
              "<PIL.Image.Image image mode=RGB size=384x384 at 0x7FC5FB430FD0>"
            ],
            "image/png": "[encoded data removed]"
          },
          "metadata": {}
        },
        {
          "output_type": "stream",
          "name": "stdout",
          "text": [
            "\n",
            " IMAGEM: ./SPAIR/Negative/22/701/00050004.png\n",
            "\n",
            " INDEX: 232\n",
            "\n",
            "  Máscara (Imagem após dilatação e erosão) \n",
            "\n"
          ]
        },
        {
          "output_type": "display_data",
          "data": {
            "text/plain": [
              "<PIL.Image.Image image mode=RGB size=384x384 at 0x7FC5FB344C90>"
            ],
            "image/png": "[encoded data removed]"
          },
          "metadata": {}
        },
        {
          "output_type": "stream",
          "name": "stdout",
          "text": [
            "\n",
            " IMAGEM: ./SPAIR/Negative/22/301/00020009.png\n",
            "\n",
            " INDEX: 233\n",
            "\n",
            "  Máscara (Imagem após dilatação e erosão) \n",
            "\n"
          ]
        },
        {
          "output_type": "display_data",
          "data": {
            "text/plain": [
              "<PIL.Image.Image image mode=RGB size=320x320 at 0x7FC5FB430E90>"
            ],
            "image/png": "[encoded data removed]"
          },
          "metadata": {}
        },
        {
          "output_type": "stream",
          "name": "stdout",
          "text": [
            "\n",
            " IMAGEM: ./SPAIR/Negative/22/301/00020006.png\n",
            "\n",
            " INDEX: 234\n",
            "\n",
            "  Máscara (Imagem após dilatação e erosão) \n",
            "\n"
          ]
        },
        {
          "output_type": "display_data",
          "data": {
            "text/plain": [
              "<PIL.Image.Image image mode=RGB size=320x320 at 0x7FC5FB3446D0>"
            ],
            "image/png": "[encoded data removed]"
          },
          "metadata": {}
        },
        {
          "output_type": "stream",
          "name": "stdout",
          "text": [
            "\n",
            " IMAGEM: ./SPAIR/Negative/22/301/00020010.png\n",
            "\n",
            " INDEX: 235\n",
            "\n",
            "  Máscara (Imagem após dilatação e erosão) \n",
            "\n"
          ]
        },
        {
          "output_type": "display_data",
          "data": {
            "text/plain": [
              "<PIL.Image.Image image mode=RGB size=320x320 at 0x7FC5FB430FD0>"
            ],
            "image/png": "[encoded data removed]"
          },
          "metadata": {}
        },
        {
          "output_type": "stream",
          "name": "stdout",
          "text": [
            "\n",
            " IMAGEM: ./SPAIR/Negative/22/301/00020008.png\n",
            "\n",
            " INDEX: 236\n",
            "\n",
            "  Máscara (Imagem após dilatação e erosão) \n",
            "\n"
          ]
        },
        {
          "output_type": "display_data",
          "data": {
            "text/plain": [
              "<PIL.Image.Image image mode=RGB size=320x320 at 0x7FC60D8E9E50>"
            ],
            "image/png": "[encoded data removed]"
          },
          "metadata": {}
        },
        {
          "output_type": "stream",
          "name": "stdout",
          "text": [
            "\n",
            " IMAGEM: ./SPAIR/Negative/22/301/00020007.png\n",
            "\n",
            " INDEX: 237\n",
            "\n",
            "  Máscara (Imagem após dilatação e erosão) \n",
            "\n"
          ]
        },
        {
          "output_type": "display_data",
          "data": {
            "text/plain": [
              "<PIL.Image.Image image mode=RGB size=320x320 at 0x7FC5FB430F50>"
            ],
            "image/png": "[encoded data removed]"
          },
          "metadata": {}
        },
        {
          "output_type": "stream",
          "name": "stdout",
          "text": [
            "\n",
            " IMAGEM: ./SPAIR/Negative/22/301/00020005.png\n",
            "\n",
            " INDEX: 238\n",
            "\n",
            "  Máscara (Imagem após dilatação e erosão) \n",
            "\n"
          ]
        },
        {
          "output_type": "display_data",
          "data": {
            "text/plain": [
              "<PIL.Image.Image image mode=RGB size=320x320 at 0x7FC5FB430E50>"
            ],
            "image/png": "[encoded data removed]"
          },
          "metadata": {}
        },
        {
          "output_type": "stream",
          "name": "stdout",
          "text": [
            "\n",
            " IMAGEM: ./SPAIR/Negative/27/301/00020006.png\n",
            "\n",
            " INDEX: 239\n",
            "\n",
            "  Máscara (Imagem após dilatação e erosão) \n",
            "\n"
          ]
        },
        {
          "output_type": "display_data",
          "data": {
            "text/plain": [
              "<PIL.Image.Image image mode=RGB size=320x320 at 0x7FC5FB430FD0>"
            ],
            "image/png": "[encoded data removed]"
          },
          "metadata": {}
        },
        {
          "output_type": "stream",
          "name": "stdout",
          "text": [
            "\n",
            " IMAGEM: ./SPAIR/Negative/27/301/00020008.png\n",
            "\n",
            " INDEX: 240\n",
            "\n",
            "  Máscara (Imagem após dilatação e erosão) \n",
            "\n"
          ]
        },
        {
          "output_type": "display_data",
          "data": {
            "text/plain": [
              "<PIL.Image.Image image mode=RGB size=320x320 at 0x7FC5FB349A50>"
            ],
            "image/png": "[encoded data removed]"
          },
          "metadata": {}
        },
        {
          "output_type": "stream",
          "name": "stdout",
          "text": [
            "\n",
            " IMAGEM: ./SPAIR/Negative/27/301/00020009.png\n",
            "\n",
            " INDEX: 241\n",
            "\n",
            "  Máscara (Imagem após dilatação e erosão) \n",
            "\n"
          ]
        },
        {
          "output_type": "display_data",
          "data": {
            "text/plain": [
              "<PIL.Image.Image image mode=RGB size=320x320 at 0x7FC5FB430D10>"
            ],
            "image/png": "[encoded data removed]"
          },
          "metadata": {}
        },
        {
          "output_type": "stream",
          "name": "stdout",
          "text": [
            "\n",
            " IMAGEM: ./SPAIR/Negative/27/301/00020010.png\n",
            "\n",
            " INDEX: 242\n",
            "\n",
            "  Máscara (Imagem após dilatação e erosão) \n",
            "\n"
          ]
        },
        {
          "output_type": "display_data",
          "data": {
            "text/plain": [
              "<PIL.Image.Image image mode=RGB size=320x320 at 0x7FC5FB430CD0>"
            ],
            "image/png": "[encoded data removed]"
          },
          "metadata": {}
        },
        {
          "output_type": "stream",
          "name": "stdout",
          "text": [
            "\n",
            " IMAGEM: ./SPAIR/Negative/27/301/00020007.png\n",
            "\n",
            " INDEX: 243\n",
            "\n",
            "  Máscara (Imagem após dilatação e erosão) \n",
            "\n"
          ]
        },
        {
          "output_type": "display_data",
          "data": {
            "text/plain": [
              "<PIL.Image.Image image mode=RGB size=320x320 at 0x7FC5FB430D10>"
            ],
            "image/png": "[encoded data removed]"
          },
          "metadata": {}
        },
        {
          "output_type": "stream",
          "name": "stdout",
          "text": [
            "\n",
            " IMAGEM: ./SPAIR/Negative/27/301/00020005.png\n",
            "\n",
            " INDEX: 244\n",
            "\n",
            "  Máscara (Imagem após dilatação e erosão) \n",
            "\n"
          ]
        },
        {
          "output_type": "display_data",
          "data": {
            "text/plain": [
              "<PIL.Image.Image image mode=RGB size=320x320 at 0x7FC60FAE6610>"
            ],
            "image/png": "[encoded data removed]"
          },
          "metadata": {}
        },
        {
          "output_type": "stream",
          "name": "stdout",
          "text": [
            "\n",
            " IMAGEM: ./SPAIR/Negative/26/301/00040008.png\n",
            "\n",
            " INDEX: 245\n",
            "\n",
            "  Máscara (Imagem após dilatação e erosão) \n",
            "\n"
          ]
        },
        {
          "output_type": "display_data",
          "data": {
            "text/plain": [
              "<PIL.Image.Image image mode=RGB size=320x320 at 0x7FC5FB430E50>"
            ],
            "image/png": "[encoded data removed]"
          },
          "metadata": {}
        },
        {
          "output_type": "stream",
          "name": "stdout",
          "text": [
            "\n",
            " IMAGEM: ./SPAIR/Negative/26/301/00040010.png\n",
            "\n",
            " INDEX: 246\n",
            "\n",
            "  Máscara (Imagem após dilatação e erosão) \n",
            "\n"
          ]
        },
        {
          "output_type": "display_data",
          "data": {
            "text/plain": [
              "<PIL.Image.Image image mode=RGB size=320x320 at 0x7FC5FB430D10>"
            ],
            "image/png": "[encoded data removed]"
          },
          "metadata": {}
        },
        {
          "output_type": "stream",
          "name": "stdout",
          "text": [
            "\n",
            " IMAGEM: ./SPAIR/Negative/26/301/00040007.png\n",
            "\n",
            " INDEX: 247\n",
            "\n",
            "  Máscara (Imagem após dilatação e erosão) \n",
            "\n"
          ]
        },
        {
          "output_type": "display_data",
          "data": {
            "text/plain": [
              "<PIL.Image.Image image mode=RGB size=320x320 at 0x7FC5FB430D50>"
            ],
            "image/png": "[encoded data removed]"
          },
          "metadata": {}
        },
        {
          "output_type": "stream",
          "name": "stdout",
          "text": [
            "\n",
            " IMAGEM: ./SPAIR/Negative/26/301/00040011.png\n",
            "\n",
            " INDEX: 248\n",
            "\n",
            "  Máscara (Imagem após dilatação e erosão) \n",
            "\n"
          ]
        },
        {
          "output_type": "display_data",
          "data": {
            "text/plain": [
              "<PIL.Image.Image image mode=RGB size=320x320 at 0x7FC60FAE6610>"
            ],
            "image/png": "[encoded data removed]"
          },
          "metadata": {}
        },
        {
          "output_type": "stream",
          "name": "stdout",
          "text": [
            "\n",
            " IMAGEM: ./SPAIR/Negative/26/301/00040006.png\n",
            "\n",
            " INDEX: 249\n",
            "\n",
            "  Máscara (Imagem após dilatação e erosão) \n",
            "\n"
          ]
        },
        {
          "output_type": "display_data",
          "data": {
            "text/plain": [
              "<PIL.Image.Image image mode=RGB size=320x320 at 0x7FC5FB430ED0>"
            ],
            "image/png": "[encoded data removed]"
          },
          "metadata": {}
        },
        {
          "output_type": "stream",
          "name": "stdout",
          "text": [
            "\n",
            " IMAGEM: ./SPAIR/Negative/26/301/00040009.png\n",
            "\n",
            " INDEX: 250\n",
            "\n",
            "  Máscara (Imagem após dilatação e erosão) \n",
            "\n"
          ]
        },
        {
          "output_type": "display_data",
          "data": {
            "text/plain": [
              "<PIL.Image.Image image mode=RGB size=320x320 at 0x7FC5FB349A10>"
            ],
            "image/png": "[encoded data removed]"
          },
          "metadata": {}
        },
        {
          "output_type": "stream",
          "name": "stdout",
          "text": [
            "\n",
            " IMAGEM: ./SPAIR/Negative/19/COR_T2_SPAIR_401/IM-0003-0009.png\n",
            "\n",
            " INDEX: 251\n",
            "\n",
            "  Máscara (Imagem após dilatação e erosão) \n",
            "\n"
          ]
        },
        {
          "output_type": "display_data",
          "data": {
            "text/plain": [
              "<PIL.Image.Image image mode=RGB size=320x320 at 0x7FC60D8E9E50>"
            ],
            "image/png": "[encoded data removed]"
          },
          "metadata": {}
        },
        {
          "output_type": "stream",
          "name": "stdout",
          "text": [
            "\n",
            " IMAGEM: ./SPAIR/Negative/19/COR_T2_SPAIR_401/IM-0003-0011.png\n",
            "\n",
            " INDEX: 252\n",
            "\n",
            "  Máscara (Imagem após dilatação e erosão) \n",
            "\n"
          ]
        },
        {
          "output_type": "display_data",
          "data": {
            "text/plain": [
              "<PIL.Image.Image image mode=RGB size=320x320 at 0x7FC60F354790>"
            ],
            "image/png": "[encoded data removed]"
          },
          "metadata": {}
        },
        {
          "output_type": "stream",
          "name": "stdout",
          "text": [
            "\n",
            " IMAGEM: ./SPAIR/Negative/19/COR_T2_SPAIR_401/IM-0003-0008.png\n",
            "\n",
            " INDEX: 253\n",
            "\n",
            "  Máscara (Imagem após dilatação e erosão) \n",
            "\n"
          ]
        },
        {
          "output_type": "display_data",
          "data": {
            "text/plain": [
              "<PIL.Image.Image image mode=RGB size=320x320 at 0x7FC60FAE6690>"
            ],
            "image/png": "[encoded data removed]"
          },
          "metadata": {}
        },
        {
          "output_type": "stream",
          "name": "stdout",
          "text": [
            "\n",
            " IMAGEM: ./SPAIR/Negative/19/COR_T2_SPAIR_401/IM-0003-0010.png\n",
            "\n",
            " INDEX: 254\n",
            "\n",
            "  Máscara (Imagem após dilatação e erosão) \n",
            "\n"
          ]
        },
        {
          "output_type": "display_data",
          "data": {
            "text/plain": [
              "<PIL.Image.Image image mode=RGB size=320x320 at 0x7FC60E1974D0>"
            ],
            "image/png": "[encoded data removed]"
          },
          "metadata": {}
        },
        {
          "output_type": "stream",
          "name": "stdout",
          "text": [
            "\n",
            " IMAGEM: ./SPAIR/Negative/19/COR_T2_SPAIR_401/IM-0003-0013.png\n",
            "\n",
            " INDEX: 255\n",
            "\n",
            "  Máscara (Imagem após dilatação e erosão) \n",
            "\n"
          ]
        },
        {
          "output_type": "display_data",
          "data": {
            "text/plain": [
              "<PIL.Image.Image image mode=RGB size=320x320 at 0x7FC5FB344C90>"
            ],
            "image/png": "[encoded data removed]"
          },
          "metadata": {}
        },
        {
          "output_type": "stream",
          "name": "stdout",
          "text": [
            "\n",
            " IMAGEM: ./SPAIR/Negative/19/COR_T2_SPAIR_401/IM-0003-0012.png\n",
            "\n",
            " INDEX: 256\n",
            "\n",
            "  Máscara (Imagem após dilatação e erosão) \n",
            "\n"
          ]
        },
        {
          "output_type": "display_data",
          "data": {
            "text/plain": [
              "<PIL.Image.Image image mode=RGB size=320x320 at 0x7FC61E682C90>"
            ],
            "image/png": "[encoded data removed]"
          },
          "metadata": {}
        },
        {
          "output_type": "stream",
          "name": "stdout",
          "text": [
            "\n",
            " IMAGEM: ./SPAIR/Negative/7/COR_T2_SPAIR_401/IM-0009-0012.png\n",
            "\n",
            " INDEX: 257\n",
            "\n",
            "  Máscara (Imagem após dilatação e erosão) \n",
            "\n"
          ]
        },
        {
          "output_type": "display_data",
          "data": {
            "text/plain": [
              "<PIL.Image.Image image mode=RGB size=320x320 at 0x7FC5FB430CD0>"
            ],
            "image/png": "[encoded data removed]"
          },
          "metadata": {}
        },
        {
          "output_type": "stream",
          "name": "stdout",
          "text": [
            "\n",
            " IMAGEM: ./SPAIR/Negative/7/COR_T2_SPAIR_401/IM-0009-0013.png\n",
            "\n",
            " INDEX: 258\n",
            "\n",
            "  Máscara (Imagem após dilatação e erosão) \n",
            "\n"
          ]
        },
        {
          "output_type": "display_data",
          "data": {
            "text/plain": [
              "<PIL.Image.Image image mode=RGB size=320x320 at 0x7FC61E682C90>"
            ],
            "image/png": "[encoded data removed]"
          },
          "metadata": {}
        },
        {
          "output_type": "stream",
          "name": "stdout",
          "text": [
            "\n",
            " IMAGEM: ./SPAIR/Negative/7/COR_T2_SPAIR_401/IM-0009-0010.png\n",
            "\n",
            " INDEX: 259\n",
            "\n",
            "  Máscara (Imagem após dilatação e erosão) \n",
            "\n"
          ]
        },
        {
          "output_type": "display_data",
          "data": {
            "text/plain": [
              "<PIL.Image.Image image mode=RGB size=320x320 at 0x7FC60E1974D0>"
            ],
            "image/png": "[encoded data removed]"
          },
          "metadata": {}
        },
        {
          "output_type": "stream",
          "name": "stdout",
          "text": [
            "\n",
            " IMAGEM: ./SPAIR/Negative/7/COR_T2_SPAIR_401/IM-0009-0011.png\n",
            "\n",
            " INDEX: 260\n",
            "\n",
            "  Máscara (Imagem após dilatação e erosão) \n",
            "\n"
          ]
        },
        {
          "output_type": "display_data",
          "data": {
            "text/plain": [
              "<PIL.Image.Image image mode=RGB size=320x320 at 0x7FC60F354790>"
            ],
            "image/png": "[encoded data removed]"
          },
          "metadata": {}
        },
        {
          "output_type": "stream",
          "name": "stdout",
          "text": [
            "\n",
            " IMAGEM: ./SPAIR/Negative/7/COR_T2_SPAIR_401/IM-0009-0009.png\n",
            "\n",
            " INDEX: 261\n",
            "\n",
            "  Máscara (Imagem após dilatação e erosão) \n",
            "\n"
          ]
        },
        {
          "output_type": "display_data",
          "data": {
            "text/plain": [
              "<PIL.Image.Image image mode=RGB size=320x320 at 0x7FC60E197690>"
            ],
            "image/png": "[encoded data removed]"
          },
          "metadata": {}
        },
        {
          "output_type": "stream",
          "name": "stdout",
          "text": [
            "\n",
            " IMAGEM: ./SPAIR/Negative/7/COR_T2_SPAIR_401/IM-0009-0008.png\n",
            "\n",
            " INDEX: 262\n",
            "\n",
            "  Máscara (Imagem após dilatação e erosão) \n",
            "\n"
          ]
        },
        {
          "output_type": "display_data",
          "data": {
            "text/plain": [
              "<PIL.Image.Image image mode=RGB size=320x320 at 0x7FC60FAE6690>"
            ],
            "image/png": "[encoded data removed]"
          },
          "metadata": {}
        },
        {
          "output_type": "stream",
          "name": "stdout",
          "text": [
            "\n",
            " IMAGEM: ./SPAIR/Negative/9/COR_T2_SPAIR_301/IM-0008-0009.png\n",
            "\n",
            " INDEX: 263\n",
            "\n",
            "  Máscara (Imagem após dilatação e erosão) \n",
            "\n"
          ]
        },
        {
          "output_type": "display_data",
          "data": {
            "text/plain": [
              "<PIL.Image.Image image mode=RGB size=320x320 at 0x7FC6085E8710>"
            ],
            "image/png": "[encoded data removed]"
          },
          "metadata": {}
        },
        {
          "output_type": "stream",
          "name": "stdout",
          "text": [
            "\n",
            " IMAGEM: ./SPAIR/Negative/9/COR_T2_SPAIR_301/IM-0008-0014.png\n",
            "\n",
            " INDEX: 264\n",
            "\n",
            "  Máscara (Imagem após dilatação e erosão) \n",
            "\n"
          ]
        },
        {
          "output_type": "display_data",
          "data": {
            "text/plain": [
              "<PIL.Image.Image image mode=RGB size=320x320 at 0x7FC6085E8710>"
            ],
            "image/png": "[encoded data removed]"
          },
          "metadata": {}
        },
        {
          "output_type": "stream",
          "name": "stdout",
          "text": [
            "\n",
            " IMAGEM: ./SPAIR/Negative/9/COR_T2_SPAIR_301/IM-0008-0011.png\n",
            "\n",
            " INDEX: 265\n",
            "\n",
            "  Máscara (Imagem após dilatação e erosão) \n",
            "\n"
          ]
        },
        {
          "output_type": "display_data",
          "data": {
            "text/plain": [
              "<PIL.Image.Image image mode=RGB size=320x320 at 0x7FC60FAE6610>"
            ],
            "image/png": "[encoded data removed]"
          },
          "metadata": {}
        },
        {
          "output_type": "stream",
          "name": "stdout",
          "text": [
            "\n",
            " IMAGEM: ./SPAIR/Negative/9/COR_T2_SPAIR_301/IM-0008-0012.png\n",
            "\n",
            " INDEX: 266\n",
            "\n",
            "  Máscara (Imagem após dilatação e erosão) \n",
            "\n"
          ]
        },
        {
          "output_type": "display_data",
          "data": {
            "text/plain": [
              "<PIL.Image.Image image mode=RGB size=320x320 at 0x7FC60F354790>"
            ],
            "image/png": "[encoded data removed]"
          },
          "metadata": {}
        },
        {
          "output_type": "stream",
          "name": "stdout",
          "text": [
            "\n",
            " IMAGEM: ./SPAIR/Negative/9/COR_T2_SPAIR_301/IM-0008-0013.png\n",
            "\n",
            " INDEX: 267\n",
            "\n",
            "  Máscara (Imagem após dilatação e erosão) \n",
            "\n"
          ]
        },
        {
          "output_type": "display_data",
          "data": {
            "text/plain": [
              "<PIL.Image.Image image mode=RGB size=320x320 at 0x7FC61E682C90>"
            ],
            "image/png": "[encoded data removed]"
          },
          "metadata": {}
        },
        {
          "output_type": "stream",
          "name": "stdout",
          "text": [
            "\n",
            " IMAGEM: ./SPAIR/Negative/9/COR_T2_SPAIR_301/IM-0008-0010.png\n",
            "\n",
            " INDEX: 268\n",
            "\n",
            "  Máscara (Imagem após dilatação e erosão) \n",
            "\n"
          ]
        },
        {
          "output_type": "display_data",
          "data": {
            "text/plain": [
              "<PIL.Image.Image image mode=RGB size=320x320 at 0x7FC60E1974D0>"
            ],
            "image/png": "[encoded data removed]"
          },
          "metadata": {}
        },
        {
          "output_type": "stream",
          "name": "stdout",
          "text": [
            "\n",
            " IMAGEM: ./SPAIR/Negative/3/COR_T2_SPAIR_301/IM-0013-0007.png\n",
            "\n",
            " INDEX: 269\n",
            "\n",
            "  Máscara (Imagem após dilatação e erosão) \n",
            "\n"
          ]
        },
        {
          "output_type": "display_data",
          "data": {
            "text/plain": [
              "<PIL.Image.Image image mode=RGB size=384x384 at 0x7FC60FCF5C90>"
            ],
            "image/png": "[encoded data removed]"
          },
          "metadata": {}
        },
        {
          "output_type": "stream",
          "name": "stdout",
          "text": [
            "\n",
            " IMAGEM: ./SPAIR/Negative/3/COR_T2_SPAIR_301/IM-0013-0008.png\n",
            "\n",
            " INDEX: 270\n",
            "\n",
            "  Máscara (Imagem após dilatação e erosão) \n",
            "\n"
          ]
        },
        {
          "output_type": "display_data",
          "data": {
            "text/plain": [
              "<PIL.Image.Image image mode=RGB size=384x384 at 0x7FC5FB332E10>"
            ],
            "image/png": "[encoded data removed]"
          },
          "metadata": {}
        },
        {
          "output_type": "stream",
          "name": "stdout",
          "text": [
            "\n",
            " IMAGEM: ./SPAIR/Negative/3/COR_T2_SPAIR_301/IM-0013-0006.png\n",
            "\n",
            " INDEX: 271\n",
            "\n",
            "  Máscara (Imagem após dilatação e erosão) \n",
            "\n"
          ]
        },
        {
          "output_type": "display_data",
          "data": {
            "text/plain": [
              "<PIL.Image.Image image mode=RGB size=384x384 at 0x7FC61E682C90>"
            ],
            "image/png": "[encoded data removed]"
          },
          "metadata": {}
        },
        {
          "output_type": "stream",
          "name": "stdout",
          "text": [
            "\n",
            " IMAGEM: ./SPAIR/Negative/3/COR_T2_SPAIR_301/IM-0013-0004.png\n",
            "\n",
            " INDEX: 272\n",
            "\n",
            "  Máscara (Imagem após dilatação e erosão) \n",
            "\n"
          ]
        },
        {
          "output_type": "display_data",
          "data": {
            "text/plain": [
              "<PIL.Image.Image image mode=RGB size=384x384 at 0x7FC60E1974D0>"
            ],
            "image/png": "[encoded data removed]"
          },
          "metadata": {}
        },
        {
          "output_type": "stream",
          "name": "stdout",
          "text": [
            "\n",
            " IMAGEM: ./SPAIR/Negative/3/COR_T2_SPAIR_301/IM-0013-0009.png\n",
            "\n",
            " INDEX: 273\n",
            "\n",
            "  Máscara (Imagem após dilatação e erosão) \n",
            "\n"
          ]
        },
        {
          "output_type": "display_data",
          "data": {
            "text/plain": [
              "<PIL.Image.Image image mode=RGB size=384x384 at 0x7FC60E1974D0>"
            ],
            "image/png": "[encoded data removed]"
          },
          "metadata": {}
        },
        {
          "output_type": "stream",
          "name": "stdout",
          "text": [
            "\n",
            " IMAGEM: ./SPAIR/Negative/3/COR_T2_SPAIR_301/IM-0013-0005.png\n",
            "\n",
            " INDEX: 274\n",
            "\n",
            "  Máscara (Imagem após dilatação e erosão) \n",
            "\n"
          ]
        },
        {
          "output_type": "display_data",
          "data": {
            "text/plain": [
              "<PIL.Image.Image image mode=RGB size=384x384 at 0x7FC5FB344C90>"
            ],
            "image/png": "[encoded data removed]"
          },
          "metadata": {}
        },
        {
          "output_type": "stream",
          "name": "stdout",
          "text": [
            "\n",
            " IMAGEM: ./SPAIR/Negative/6/COR_T2_SPAIR_301/IM-0010-0007.png\n",
            "\n",
            " INDEX: 275\n",
            "\n",
            "  Máscara (Imagem após dilatação e erosão) \n",
            "\n"
          ]
        },
        {
          "output_type": "display_data",
          "data": {
            "text/plain": [
              "<PIL.Image.Image image mode=RGB size=320x320 at 0x7FC60F354790>"
            ],
            "image/png": "[encoded data removed]"
          },
          "metadata": {}
        },
        {
          "output_type": "stream",
          "name": "stdout",
          "text": [
            "\n",
            " IMAGEM: ./SPAIR/Negative/6/COR_T2_SPAIR_301/IM-0010-0009.png\n",
            "\n",
            " INDEX: 276\n",
            "\n",
            "  Máscara (Imagem após dilatação e erosão) \n",
            "\n"
          ]
        },
        {
          "output_type": "display_data",
          "data": {
            "text/plain": [
              "<PIL.Image.Image image mode=RGB size=320x320 at 0x7FC60FCF5C90>"
            ],
            "image/png": "[encoded data removed]"
          },
          "metadata": {}
        },
        {
          "output_type": "stream",
          "name": "stdout",
          "text": [
            "\n",
            " IMAGEM: ./SPAIR/Negative/6/COR_T2_SPAIR_301/IM-0010-0008.png\n",
            "\n",
            " INDEX: 277\n",
            "\n",
            "  Máscara (Imagem após dilatação e erosão) \n",
            "\n"
          ]
        },
        {
          "output_type": "display_data",
          "data": {
            "text/plain": [
              "<PIL.Image.Image image mode=RGB size=320x320 at 0x7FC60D8E9E50>"
            ],
            "image/png": "[encoded data removed]"
          },
          "metadata": {}
        },
        {
          "output_type": "stream",
          "name": "stdout",
          "text": [
            "\n",
            " IMAGEM: ./SPAIR/Negative/6/COR_T2_SPAIR_301/IM-0010-0006.png\n",
            "\n",
            " INDEX: 278\n",
            "\n",
            "  Máscara (Imagem após dilatação e erosão) \n",
            "\n"
          ]
        },
        {
          "output_type": "display_data",
          "data": {
            "text/plain": [
              "<PIL.Image.Image image mode=RGB size=320x320 at 0x7FC60D8E9E50>"
            ],
            "image/png": "[encoded data removed]"
          },
          "metadata": {}
        },
        {
          "output_type": "stream",
          "name": "stdout",
          "text": [
            "\n",
            " IMAGEM: ./SPAIR/Negative/6/COR_T2_SPAIR_301/IM-0010-0011.png\n",
            "\n",
            " INDEX: 279\n",
            "\n",
            "  Máscara (Imagem após dilatação e erosão) \n",
            "\n"
          ]
        },
        {
          "output_type": "display_data",
          "data": {
            "text/plain": [
              "<PIL.Image.Image image mode=RGB size=320x320 at 0x7FC61E682C90>"
            ],
            "image/png": "[encoded data removed]"
          },
          "metadata": {}
        },
        {
          "output_type": "stream",
          "name": "stdout",
          "text": [
            "\n",
            " IMAGEM: ./SPAIR/Negative/6/COR_T2_SPAIR_301/IM-0010-0010.png\n",
            "\n",
            " INDEX: 280\n",
            "\n",
            "  Máscara (Imagem após dilatação e erosão) \n",
            "\n"
          ]
        },
        {
          "output_type": "display_data",
          "data": {
            "text/plain": [
              "<PIL.Image.Image image mode=RGB size=320x320 at 0x7FC60FCF5C90>"
            ],
            "image/png": "[encoded data removed]"
          },
          "metadata": {}
        },
        {
          "output_type": "stream",
          "name": "stdout",
          "text": [
            "\n",
            " IMAGEM: ./SPAIR/Negative/28/COR_T2_SPAIR_301/IM-0001-0007.png\n",
            "\n",
            " INDEX: 281\n",
            "\n",
            "  Máscara (Imagem após dilatação e erosão) \n",
            "\n"
          ]
        },
        {
          "output_type": "display_data",
          "data": {
            "text/plain": [
              "<PIL.Image.Image image mode=RGB size=320x320 at 0x7FC60D8E9E50>"
            ],
            "image/png": "[encoded data removed]"
          },
          "metadata": {}
        },
        {
          "output_type": "stream",
          "name": "stdout",
          "text": [
            "\n",
            " IMAGEM: ./SPAIR/Negative/28/COR_T2_SPAIR_301/IM-0001-0006.png\n",
            "\n",
            " INDEX: 282\n",
            "\n",
            "  Máscara (Imagem após dilatação e erosão) \n",
            "\n"
          ]
        },
        {
          "output_type": "display_data",
          "data": {
            "text/plain": [
              "<PIL.Image.Image image mode=RGB size=320x320 at 0x7FC5FB332E10>"
            ],
            "image/png": "[encoded data removed]"
          },
          "metadata": {}
        },
        {
          "output_type": "stream",
          "name": "stdout",
          "text": [
            "\n",
            " IMAGEM: ./SPAIR/Negative/28/COR_T2_SPAIR_301/IM-0001-0009.png\n",
            "\n",
            " INDEX: 283\n",
            "\n",
            "  Máscara (Imagem após dilatação e erosão) \n",
            "\n"
          ]
        },
        {
          "output_type": "display_data",
          "data": {
            "text/plain": [
              "<PIL.Image.Image image mode=RGB size=320x320 at 0x7FC60E1974D0>"
            ],
            "image/png": "[encoded data removed]"
          },
          "metadata": {}
        },
        {
          "output_type": "stream",
          "name": "stdout",
          "text": [
            "\n",
            " IMAGEM: ./SPAIR/Negative/28/COR_T2_SPAIR_301/IM-0001-0008.png\n",
            "\n",
            " INDEX: 284\n",
            "\n",
            "  Máscara (Imagem após dilatação e erosão) \n",
            "\n"
          ]
        },
        {
          "output_type": "display_data",
          "data": {
            "text/plain": [
              "<PIL.Image.Image image mode=RGB size=320x320 at 0x7FC60FAE6610>"
            ],
            "image/png": "[encoded data removed]"
          },
          "metadata": {}
        },
        {
          "output_type": "stream",
          "name": "stdout",
          "text": [
            "\n",
            " IMAGEM: ./SPAIR/Negative/28/COR_T2_SPAIR_301/IM-0001-0005.png\n",
            "\n",
            " INDEX: 285\n",
            "\n",
            "  Máscara (Imagem após dilatação e erosão) \n",
            "\n"
          ]
        },
        {
          "output_type": "display_data",
          "data": {
            "text/plain": [
              "<PIL.Image.Image image mode=RGB size=320x320 at 0x7FC5FB3446D0>"
            ],
            "image/png": "[encoded data removed]"
          },
          "metadata": {}
        },
        {
          "output_type": "stream",
          "name": "stdout",
          "text": [
            "\n",
            " IMAGEM: ./SPAIR/Negative/28/COR_T2_SPAIR_301/IM-0001-0010.png\n",
            "\n",
            " INDEX: 286\n",
            "\n",
            "  Máscara (Imagem após dilatação e erosão) \n",
            "\n"
          ]
        },
        {
          "output_type": "display_data",
          "data": {
            "text/plain": [
              "<PIL.Image.Image image mode=RGB size=320x320 at 0x7FC5FB3446D0>"
            ],
            "image/png": "[encoded data removed]"
          },
          "metadata": {}
        },
        {
          "output_type": "stream",
          "name": "stdout",
          "text": [
            "\n",
            " IMAGEM: ./SPAIR/Negative/8/COR_T2_SPAIR_301/IM-0008-0008.png\n",
            "\n",
            " INDEX: 287\n",
            "\n",
            "  Máscara (Imagem após dilatação e erosão) \n",
            "\n"
          ]
        },
        {
          "output_type": "display_data",
          "data": {
            "text/plain": [
              "<PIL.Image.Image image mode=RGB size=320x320 at 0x7FC6085E8710>"
            ],
            "image/png": "[encoded data removed]"
          },
          "metadata": {}
        },
        {
          "output_type": "stream",
          "name": "stdout",
          "text": [
            "\n",
            " IMAGEM: ./SPAIR/Negative/8/COR_T2_SPAIR_301/IM-0008-0012.png\n",
            "\n",
            " INDEX: 288\n",
            "\n",
            "  Máscara (Imagem após dilatação e erosão) \n",
            "\n"
          ]
        },
        {
          "output_type": "display_data",
          "data": {
            "text/plain": [
              "<PIL.Image.Image image mode=RGB size=320x320 at 0x7FC60F354790>"
            ],
            "image/png": "[encoded data removed]"
          },
          "metadata": {}
        },
        {
          "output_type": "stream",
          "name": "stdout",
          "text": [
            "\n",
            " IMAGEM: ./SPAIR/Negative/8/COR_T2_SPAIR_301/IM-0008-0011.png\n",
            "\n",
            " INDEX: 289\n",
            "\n",
            "  Máscara (Imagem após dilatação e erosão) \n",
            "\n"
          ]
        },
        {
          "output_type": "display_data",
          "data": {
            "text/plain": [
              "<PIL.Image.Image image mode=RGB size=320x320 at 0x7FC6085E8710>"
            ],
            "image/png": "[encoded data removed]"
          },
          "metadata": {}
        },
        {
          "output_type": "stream",
          "name": "stdout",
          "text": [
            "\n",
            " IMAGEM: ./SPAIR/Negative/8/COR_T2_SPAIR_301/IM-0008-0010.png\n",
            "\n",
            " INDEX: 290\n",
            "\n",
            "  Máscara (Imagem após dilatação e erosão) \n",
            "\n"
          ]
        },
        {
          "output_type": "display_data",
          "data": {
            "text/plain": [
              "<PIL.Image.Image image mode=RGB size=320x320 at 0x7FC60E197690>"
            ],
            "image/png": "[encoded data removed]"
          },
          "metadata": {}
        },
        {
          "output_type": "stream",
          "name": "stdout",
          "text": [
            "\n",
            " IMAGEM: ./SPAIR/Negative/8/COR_T2_SPAIR_301/IM-0008-0009.png\n",
            "\n",
            " INDEX: 291\n",
            "\n",
            "  Máscara (Imagem após dilatação e erosão) \n",
            "\n"
          ]
        },
        {
          "output_type": "display_data",
          "data": {
            "text/plain": [
              "<PIL.Image.Image image mode=RGB size=320x320 at 0x7FC60F354790>"
            ],
            "image/png": "[encoded data removed]"
          },
          "metadata": {}
        },
        {
          "output_type": "stream",
          "name": "stdout",
          "text": [
            "\n",
            " IMAGEM: ./SPAIR/Negative/8/COR_T2_SPAIR_301/IM-0008-0007.png\n",
            "\n",
            " INDEX: 292\n",
            "\n",
            "  Máscara (Imagem após dilatação e erosão) \n",
            "\n"
          ]
        },
        {
          "output_type": "display_data",
          "data": {
            "text/plain": [
              "<PIL.Image.Image image mode=RGB size=320x320 at 0x7FC60F354790>"
            ],
            "image/png": "[encoded data removed]"
          },
          "metadata": {}
        },
        {
          "output_type": "stream",
          "name": "stdout",
          "text": [
            "\n",
            " IMAGEM: ./SPAIR/Negative/4/COR_T2_SPAIR_701/IM-0012-0006.png\n",
            "\n",
            " INDEX: 293\n",
            "\n",
            "  Máscara (Imagem após dilatação e erosão) \n",
            "\n"
          ]
        },
        {
          "output_type": "display_data",
          "data": {
            "text/plain": [
              "<PIL.Image.Image image mode=RGB size=320x320 at 0x7FC5FB430DD0>"
            ],
            "image/png": "[encoded data removed]"
          },
          "metadata": {}
        },
        {
          "output_type": "stream",
          "name": "stdout",
          "text": [
            "\n",
            " IMAGEM: ./SPAIR/Negative/4/COR_T2_SPAIR_701/IM-0012-0009.png\n",
            "\n",
            " INDEX: 294\n",
            "\n",
            "  Máscara (Imagem após dilatação e erosão) \n",
            "\n"
          ]
        },
        {
          "output_type": "display_data",
          "data": {
            "text/plain": [
              "<PIL.Image.Image image mode=RGB size=320x320 at 0x7FC61E682C90>"
            ],
            "image/png": "[encoded data removed]"
          },
          "metadata": {}
        },
        {
          "output_type": "stream",
          "name": "stdout",
          "text": [
            "\n",
            " IMAGEM: ./SPAIR/Negative/4/COR_T2_SPAIR_701/IM-0012-0010.png\n",
            "\n",
            " INDEX: 295\n",
            "\n",
            "  Máscara (Imagem após dilatação e erosão) \n",
            "\n"
          ]
        },
        {
          "output_type": "display_data",
          "data": {
            "text/plain": [
              "<PIL.Image.Image image mode=RGB size=320x320 at 0x7FC60FAE6690>"
            ],
            "image/png": "[encoded data removed]"
          },
          "metadata": {}
        },
        {
          "output_type": "stream",
          "name": "stdout",
          "text": [
            "\n",
            " IMAGEM: ./SPAIR/Negative/4/COR_T2_SPAIR_701/IM-0012-0007.png\n",
            "\n",
            " INDEX: 296\n",
            "\n",
            "  Máscara (Imagem após dilatação e erosão) \n",
            "\n"
          ]
        },
        {
          "output_type": "display_data",
          "data": {
            "text/plain": [
              "<PIL.Image.Image image mode=RGB size=320x320 at 0x7FC61E682C90>"
            ],
            "image/png": "[encoded data removed]"
          },
          "metadata": {}
        },
        {
          "output_type": "stream",
          "name": "stdout",
          "text": [
            "\n",
            " IMAGEM: ./SPAIR/Negative/4/COR_T2_SPAIR_701/IM-0012-0008.png\n",
            "\n",
            " INDEX: 297\n",
            "\n",
            "  Máscara (Imagem após dilatação e erosão) \n",
            "\n"
          ]
        },
        {
          "output_type": "display_data",
          "data": {
            "text/plain": [
              "<PIL.Image.Image image mode=RGB size=320x320 at 0x7FC61E682C90>"
            ],
            "image/png": "[encoded data removed]"
          },
          "metadata": {}
        },
        {
          "output_type": "stream",
          "name": "stdout",
          "text": [
            "\n",
            " IMAGEM: ./SPAIR/Negative/4/COR_T2_SPAIR_701/IM-0012-0005.png\n",
            "\n",
            " INDEX: 298\n",
            "\n",
            "  Máscara (Imagem após dilatação e erosão) \n",
            "\n"
          ]
        },
        {
          "output_type": "display_data",
          "data": {
            "text/plain": [
              "<PIL.Image.Image image mode=RGB size=320x320 at 0x7FC60D8E9E50>"
            ],
            "image/png": "[encoded data removed]"
          },
          "metadata": {}
        },
        {
          "output_type": "stream",
          "name": "stdout",
          "text": [
            "\n",
            " IMAGEM: ./SPAIR/Negative/5/COR_T2_SPAIR_401/IM-0011-0005.png\n",
            "\n",
            " INDEX: 299\n",
            "\n",
            "  Máscara (Imagem após dilatação e erosão) \n",
            "\n"
          ]
        },
        {
          "output_type": "display_data",
          "data": {
            "text/plain": [
              "<PIL.Image.Image image mode=RGB size=320x320 at 0x7FC5FB430E90>"
            ],
            "image/png": "[encoded data removed]"
          },
          "metadata": {}
        },
        {
          "output_type": "stream",
          "name": "stdout",
          "text": [
            "\n",
            " IMAGEM: ./SPAIR/Negative/5/COR_T2_SPAIR_401/IM-0011-0004.png\n",
            "\n",
            " INDEX: 300\n",
            "\n",
            "  Máscara (Imagem após dilatação e erosão) \n",
            "\n"
          ]
        },
        {
          "output_type": "display_data",
          "data": {
            "text/plain": [
              "<PIL.Image.Image image mode=RGB size=320x320 at 0x7FC5FB332E10>"
            ],
            "image/png": "[encoded data removed]"
          },
          "metadata": {}
        },
        {
          "output_type": "stream",
          "name": "stdout",
          "text": [
            "\n",
            " IMAGEM: ./SPAIR/Negative/5/COR_T2_SPAIR_401/IM-0011-0008.png\n",
            "\n",
            " INDEX: 301\n",
            "\n",
            "  Máscara (Imagem após dilatação e erosão) \n",
            "\n"
          ]
        },
        {
          "output_type": "display_data",
          "data": {
            "text/plain": [
              "<PIL.Image.Image image mode=RGB size=320x320 at 0x7FC60FAE6690>"
            ],
            "image/png": "[encoded data removed]"
          },
          "metadata": {}
        },
        {
          "output_type": "stream",
          "name": "stdout",
          "text": [
            "\n",
            " IMAGEM: ./SPAIR/Negative/5/COR_T2_SPAIR_401/IM-0011-0009.png\n",
            "\n",
            " INDEX: 302\n",
            "\n",
            "  Máscara (Imagem após dilatação e erosão) \n",
            "\n"
          ]
        },
        {
          "output_type": "display_data",
          "data": {
            "text/plain": [
              "<PIL.Image.Image image mode=RGB size=320x320 at 0x7FC60FCF5C90>"
            ],
            "image/png": "[encoded data removed]"
          },
          "metadata": {}
        },
        {
          "output_type": "stream",
          "name": "stdout",
          "text": [
            "\n",
            " IMAGEM: ./SPAIR/Negative/5/COR_T2_SPAIR_401/IM-0011-0006.png\n",
            "\n",
            " INDEX: 303\n",
            "\n",
            "  Máscara (Imagem após dilatação e erosão) \n",
            "\n"
          ]
        },
        {
          "output_type": "display_data",
          "data": {
            "text/plain": [
              "<PIL.Image.Image image mode=RGB size=320x320 at 0x7FC6085E8710>"
            ],
            "image/png": "[encoded data removed]"
          },
          "metadata": {}
        },
        {
          "output_type": "stream",
          "name": "stdout",
          "text": [
            "\n",
            " IMAGEM: ./SPAIR/Negative/5/COR_T2_SPAIR_401/IM-0011-0007.png\n",
            "\n",
            " INDEX: 304\n",
            "\n",
            "  Máscara (Imagem após dilatação e erosão) \n",
            "\n"
          ]
        },
        {
          "output_type": "display_data",
          "data": {
            "text/plain": [
              "<PIL.Image.Image image mode=RGB size=320x320 at 0x7FC60D887F10>"
            ],
            "image/png": "[encoded data removed]"
          },
          "metadata": {}
        }
      ]
    },
    {
      "cell_type": "code",
      "source": [
        "def process_dicom_to_tif_file(file):\n",
        "  image = dicom.dcmread(file)\n",
        "  center = image.WindowCenter\n",
        "  width = image.WindowWidth\n",
        "  rescaleSlope = image.RescaleSlope\n",
        "  rescaleIntercept = image.RescaleIntercept\n",
        "  rows = image.Rows\n",
        "  columns = image.Columns\n",
        "  img_final = Image.new(\"L\", (columns,rows))\n",
        "  for i in range(rows):\n",
        "    for j in range(columns):\n",
        "      value_n = image.pixel_array[i,j] * rescaleSlope + rescaleIntercept\n",
        "\n",
        "      if value_n <= center - 0.5  - (width-1) / 2:\n",
        "        value_n = 0\n",
        "      elif value_n > center - 0.5  + (width-1) / 2:\n",
        "        value_n = 255\n",
        "      else:\n",
        "        value_n = ((value_n - (center - 0.5)) / (width-1) + 0.5) * 255\n",
        "\n",
        "      img_final.putpixel([j,i], int(value_n))\n",
        "\n",
        "  img_final.save(os.path.join(file.split(\".dcm\")[0] + \".tif\"), \"TIFF\", compression=\"none\")\n",
        "#  cv_imshow(img_final.show)\n",
        "\n",
        "###########################################################################\n",
        "############ GERANDO OS .tif para todas as imagens de um paciente #########\n",
        "###########################################################################\n",
        "\n",
        "PATH_DCM_FILES = \"./SPAIR/\"\n",
        "\n",
        "for index, filename in enumerate(glob.iglob(PATH_DCM_FILES + '**/*.dcm', recursive=True)):\n",
        "  process_dicom_to_tif_file(filename)\n",
        "  print(filename)\n"
      ],
      "metadata": {
        "colab": {
          "base_uri": "https://localhost:8080/"
        },
        "id": "O6mm-J27Mu4q",
        "outputId": "6b6f1f3c-1af5-4d52-924f-f1f54b8cd546"
      },
      "execution_count": null,
      "outputs": [
        {
          "output_type": "stream",
          "name": "stdout",
          "text": [
            "./SPAIR/Positive/29/701/00060010.dcm\n",
            "./SPAIR/Positive/29/701/00060011.dcm\n",
            "./SPAIR/Positive/29/701/00060008.dcm\n",
            "./SPAIR/Positive/29/701/00060009.dcm\n",
            "./SPAIR/Positive/29/701/00060007.dcm\n",
            "./SPAIR/Positive/29/701/00060006.dcm\n",
            "./SPAIR/Positive/30/COR_T2_SPAIR_401/IM-0009-0007.dcm\n",
            "./SPAIR/Positive/30/COR_T2_SPAIR_401/IM-0009-0011.dcm\n",
            "./SPAIR/Positive/30/COR_T2_SPAIR_401/IM-0009-0012.dcm\n",
            "./SPAIR/Positive/30/COR_T2_SPAIR_401/IM-0009-0008.dcm\n",
            "./SPAIR/Positive/30/COR_T2_SPAIR_401/IM-0009-0009.dcm\n",
            "./SPAIR/Positive/30/COR_T2_SPAIR_401/IM-0009-0010.dcm\n",
            "./SPAIR/Positive/33/COR_T2_SPAIR_601/IM-0005-0007.dcm\n",
            "./SPAIR/Positive/33/COR_T2_SPAIR_601/IM-0005-0004.dcm\n",
            "./SPAIR/Positive/33/COR_T2_SPAIR_601/IM-0005-0006.dcm\n",
            "./SPAIR/Positive/33/COR_T2_SPAIR_601/IM-0005-0008.dcm\n",
            "./SPAIR/Positive/33/COR_T2_SPAIR_601/IM-0005-0009.dcm\n",
            "./SPAIR/Positive/33/COR_T2_SPAIR_601/IM-0005-0005.dcm\n",
            "./SPAIR/Positive/40/COR_T2_SPAIR_501/IM-0004-0010.dcm\n",
            "./SPAIR/Positive/40/COR_T2_SPAIR_501/IM-0004-0007.dcm\n",
            "./SPAIR/Positive/40/COR_T2_SPAIR_501/IM-0004-0011.dcm\n",
            "./SPAIR/Positive/40/COR_T2_SPAIR_501/IM-0004-0009.dcm\n",
            "./SPAIR/Positive/40/COR_T2_SPAIR_501/IM-0004-0008.dcm\n",
            "./SPAIR/Positive/40/COR_T2_SPAIR_501/IM-0004-0012.dcm\n",
            "./SPAIR/Positive/38/Rm_Sacroiliacas - 742133/COR_T2_SPAIR_301/IM-0001-0007.dcm\n",
            "./SPAIR/Positive/38/Rm_Sacroiliacas - 742133/COR_T2_SPAIR_301/IM-0001-0006.dcm\n",
            "./SPAIR/Positive/38/Rm_Sacroiliacas - 742133/COR_T2_SPAIR_301/IM-0001-0003.dcm\n",
            "./SPAIR/Positive/38/Rm_Sacroiliacas - 742133/COR_T2_SPAIR_301/IM-0001-0008.dcm\n",
            "./SPAIR/Positive/38/Rm_Sacroiliacas - 742133/COR_T2_SPAIR_301/IM-0001-0005.dcm\n",
            "./SPAIR/Positive/38/Rm_Sacroiliacas - 742133/COR_T2_SPAIR_301/IM-0001-0004.dcm\n",
            "./SPAIR/Positive/36/301/00040008.dcm\n",
            "./SPAIR/Positive/36/301/00040012.dcm\n",
            "./SPAIR/Positive/36/301/00040011.dcm\n",
            "./SPAIR/Positive/36/301/00040010.dcm\n",
            "./SPAIR/Positive/36/301/00040009.dcm\n",
            "./SPAIR/Positive/36/301/00040007.dcm\n",
            "./SPAIR/Positive/37/Rm_Sacroiliacas - 18705550/COR_T2_SPAIR_301/IM-0001-0004.dcm\n",
            "./SPAIR/Positive/37/Rm_Sacroiliacas - 18705550/COR_T2_SPAIR_301/IM-0001-0005.dcm\n",
            "./SPAIR/Positive/37/Rm_Sacroiliacas - 18705550/COR_T2_SPAIR_301/IM-0001-0008.dcm\n",
            "./SPAIR/Positive/37/Rm_Sacroiliacas - 18705550/COR_T2_SPAIR_301/IM-0001-0009.dcm\n",
            "./SPAIR/Positive/37/Rm_Sacroiliacas - 18705550/COR_T2_SPAIR_301/IM-0001-0007.dcm\n",
            "./SPAIR/Positive/37/Rm_Sacroiliacas - 18705550/COR_T2_SPAIR_301/IM-0001-0006.dcm\n",
            "./SPAIR/Positive/35/401/00070006.dcm\n",
            "./SPAIR/Positive/35/401/00070005.dcm\n",
            "./SPAIR/Positive/35/401/00070004.dcm\n",
            "./SPAIR/Positive/35/401/00070008.dcm\n",
            "./SPAIR/Positive/35/401/00070003.dcm\n",
            "./SPAIR/Positive/35/401/00070007.dcm\n",
            "./SPAIR/Positive/34/1001/00050007.dcm\n",
            "./SPAIR/Positive/34/1001/00050009.dcm\n",
            "./SPAIR/Positive/34/1001/00050005.dcm\n",
            "./SPAIR/Positive/34/1001/00050008.dcm\n",
            "./SPAIR/Positive/34/1001/00050006.dcm\n",
            "./SPAIR/Positive/34/1001/00050010.dcm\n",
            "./SPAIR/Positive/32/401/00030008.dcm\n",
            "./SPAIR/Positive/32/401/00030011.dcm\n",
            "./SPAIR/Positive/32/401/00030007.dcm\n",
            "./SPAIR/Positive/32/401/00030009.dcm\n",
            "./SPAIR/Positive/32/401/00030012.dcm\n",
            "./SPAIR/Positive/32/401/00030010.dcm\n",
            "./SPAIR/Positive/31/401/00030009.dcm\n",
            "./SPAIR/Positive/31/401/00030008.dcm\n",
            "./SPAIR/Positive/31/401/00030007.dcm\n",
            "./SPAIR/Positive/31/401/00030012.dcm\n",
            "./SPAIR/Positive/31/401/00030011.dcm\n",
            "./SPAIR/Positive/31/401/00030010.dcm\n",
            "./SPAIR/Positive/39/COR_T2_SPAIR_501/IM-0011-0007.dcm\n",
            "./SPAIR/Positive/39/COR_T2_SPAIR_501/IM-0011-0008.dcm\n",
            "./SPAIR/Positive/39/COR_T2_SPAIR_501/IM-0011-0004.dcm\n",
            "./SPAIR/Positive/39/COR_T2_SPAIR_501/IM-0011-0006.dcm\n",
            "./SPAIR/Positive/39/COR_T2_SPAIR_501/IM-0011-0005.dcm\n",
            "./SPAIR/Positive/39/COR_T2_SPAIR_501/IM-0011-0009.dcm\n",
            "./SPAIR/Positive/49/COR_T2_SPAIR_701/IM-0007-0005.dcm\n",
            "./SPAIR/Positive/49/COR_T2_SPAIR_701/IM-0007-0006.dcm\n",
            "./SPAIR/Positive/49/COR_T2_SPAIR_701/IM-0007-0004.dcm\n",
            "./SPAIR/Positive/49/COR_T2_SPAIR_701/IM-0007-0003.dcm\n",
            "./SPAIR/Positive/49/COR_T2_SPAIR_701/IM-0007-0007.dcm\n",
            "./SPAIR/Positive/49/COR_T2_SPAIR_701/IM-0007-0002.dcm\n",
            "./SPAIR/Positive/43/COR_T2_SPAIR_701/IM-0007-0004.dcm\n",
            "./SPAIR/Positive/43/COR_T2_SPAIR_701/IM-0007-0009.dcm\n",
            "./SPAIR/Positive/43/COR_T2_SPAIR_701/IM-0007-0008.dcm\n",
            "./SPAIR/Positive/43/COR_T2_SPAIR_701/IM-0007-0005.dcm\n",
            "./SPAIR/Positive/43/COR_T2_SPAIR_701/IM-0007-0006.dcm\n",
            "./SPAIR/Positive/43/COR_T2_SPAIR_701/IM-0007-0007.dcm\n",
            "./SPAIR/Positive/47/COR_T2_SPAIR_1001/IM-0002-0009.dcm\n",
            "./SPAIR/Positive/47/COR_T2_SPAIR_1001/IM-0002-0011.dcm\n",
            "./SPAIR/Positive/47/COR_T2_SPAIR_1001/IM-0002-0008.dcm\n",
            "./SPAIR/Positive/47/COR_T2_SPAIR_1001/IM-0002-0007.dcm\n",
            "./SPAIR/Positive/47/COR_T2_SPAIR_1001/IM-0002-0012.dcm\n",
            "./SPAIR/Positive/47/COR_T2_SPAIR_1001/IM-0002-0010.dcm\n",
            "./SPAIR/Positive/42/COR_T2_SPAIR_401/IM-0009-0010.dcm\n",
            "./SPAIR/Positive/42/COR_T2_SPAIR_401/IM-0009-0007.dcm\n",
            "./SPAIR/Positive/42/COR_T2_SPAIR_401/IM-0009-0006.dcm\n",
            "./SPAIR/Positive/42/COR_T2_SPAIR_401/IM-0009-0011.dcm\n",
            "./SPAIR/Positive/42/COR_T2_SPAIR_401/IM-0009-0009.dcm\n",
            "./SPAIR/Positive/42/COR_T2_SPAIR_401/IM-0009-0008.dcm\n",
            "./SPAIR/Positive/48/COR_T2_SPAIR_401/IM-0012-0009.dcm\n",
            "./SPAIR/Positive/48/COR_T2_SPAIR_401/IM-0012-0004.dcm\n",
            "./SPAIR/Positive/48/COR_T2_SPAIR_401/IM-0012-0008.dcm\n",
            "./SPAIR/Positive/48/COR_T2_SPAIR_401/IM-0012-0007.dcm\n",
            "./SPAIR/Positive/48/COR_T2_SPAIR_401/IM-0012-0005.dcm\n",
            "./SPAIR/Positive/48/COR_T2_SPAIR_401/IM-0012-0006.dcm\n",
            "./SPAIR/Positive/45/COR_T2_SPAIR_801/IM-0010-0005.dcm\n",
            "./SPAIR/Positive/45/COR_T2_SPAIR_801/IM-0010-0010.dcm\n",
            "./SPAIR/Positive/45/COR_T2_SPAIR_801/IM-0010-0007.dcm\n",
            "./SPAIR/Positive/45/COR_T2_SPAIR_801/IM-0010-0006.dcm\n",
            "./SPAIR/Positive/45/COR_T2_SPAIR_801/IM-0010-0009.dcm\n",
            "./SPAIR/Positive/45/COR_T2_SPAIR_801/IM-0010-0008.dcm\n",
            "./SPAIR/Positive/41/COR_T2_SPAIR_501/IM-0006-0006.dcm\n",
            "./SPAIR/Positive/41/COR_T2_SPAIR_501/IM-0006-0008.dcm\n",
            "./SPAIR/Positive/41/COR_T2_SPAIR_501/IM-0006-0007.dcm\n",
            "./SPAIR/Positive/41/COR_T2_SPAIR_501/IM-0006-0009.dcm\n",
            "./SPAIR/Positive/41/COR_T2_SPAIR_501/IM-0006-0010.dcm\n",
            "./SPAIR/Positive/41/COR_T2_SPAIR_501/IM-0006-0011.dcm\n",
            "./SPAIR/Positive/46/COR_T2_SPAIR_301/IM-0008-0008.dcm\n",
            "./SPAIR/Positive/46/COR_T2_SPAIR_301/IM-0008-0009.dcm\n",
            "./SPAIR/Positive/46/COR_T2_SPAIR_301/IM-0008-0007.dcm\n",
            "./SPAIR/Positive/46/COR_T2_SPAIR_301/IM-0008-0011.dcm\n",
            "./SPAIR/Positive/46/COR_T2_SPAIR_301/IM-0008-0010.dcm\n",
            "./SPAIR/Positive/46/COR_T2_SPAIR_301/IM-0008-0006.dcm\n",
            "./SPAIR/Positive/50/COR_T2_SPAIR_401/IM-0003-0009.dcm\n",
            "./SPAIR/Positive/50/COR_T2_SPAIR_401/IM-0003-0011.dcm\n",
            "./SPAIR/Positive/50/COR_T2_SPAIR_401/IM-0003-0008.dcm\n",
            "./SPAIR/Positive/50/COR_T2_SPAIR_401/IM-0003-0007.dcm\n",
            "./SPAIR/Positive/50/COR_T2_SPAIR_401/IM-0003-0010.dcm\n",
            "./SPAIR/Positive/50/COR_T2_SPAIR_401/IM-0003-0012.dcm\n",
            "./SPAIR/Positive/44/COR_T2_SPAIR_501/IM-0001-0007.dcm\n",
            "./SPAIR/Positive/44/COR_T2_SPAIR_501/IM-0001-0008.dcm\n",
            "./SPAIR/Positive/44/COR_T2_SPAIR_501/IM-0001-0011.dcm\n",
            "./SPAIR/Positive/44/COR_T2_SPAIR_501/IM-0001-0010.dcm\n",
            "./SPAIR/Positive/44/COR_T2_SPAIR_501/IM-0001-0006.dcm\n",
            "./SPAIR/Positive/44/COR_T2_SPAIR_501/IM-0001-0009.dcm\n",
            "./SPAIR/Negative/13/COR_T2_SPAIR_301/IM-0006-0014.dcm\n",
            "./SPAIR/Negative/13/COR_T2_SPAIR_301/IM-0006-0011.dcm\n",
            "./SPAIR/Negative/13/COR_T2_SPAIR_301/IM-0006-0009.dcm\n",
            "./SPAIR/Negative/13/COR_T2_SPAIR_301/IM-0006-0010.dcm\n",
            "./SPAIR/Negative/13/COR_T2_SPAIR_301/IM-0006-0013.dcm\n",
            "./SPAIR/Negative/13/COR_T2_SPAIR_301/IM-0006-0012.dcm\n",
            "./SPAIR/Negative/11/COR_T2_SPAIR_401/IM-0007-0006.dcm\n",
            "./SPAIR/Negative/11/COR_T2_SPAIR_401/IM-0007-0009.dcm\n",
            "./SPAIR/Negative/11/COR_T2_SPAIR_401/IM-0007-0011.dcm\n",
            "./SPAIR/Negative/11/COR_T2_SPAIR_401/IM-0007-0010.dcm\n",
            "./SPAIR/Negative/11/COR_T2_SPAIR_401/IM-0007-0007.dcm\n",
            "./SPAIR/Negative/11/COR_T2_SPAIR_401/IM-0007-0008.dcm\n",
            "./SPAIR/Negative/15/COR_T2_SPAIR_401/IM-0005-0009.dcm\n",
            "./SPAIR/Negative/15/COR_T2_SPAIR_401/IM-0005-0011.dcm\n",
            "./SPAIR/Negative/15/COR_T2_SPAIR_401/IM-0005-0010.dcm\n",
            "./SPAIR/Negative/15/COR_T2_SPAIR_401/IM-0005-0007.dcm\n",
            "./SPAIR/Negative/15/COR_T2_SPAIR_401/IM-0005-0012.dcm\n",
            "./SPAIR/Negative/15/COR_T2_SPAIR_401/IM-0005-0008.dcm\n",
            "./SPAIR/Negative/12/COR_T2_SPAIR_401/IM-0007-0011.dcm\n",
            "./SPAIR/Negative/12/COR_T2_SPAIR_401/IM-0007-0007.dcm\n",
            "./SPAIR/Negative/12/COR_T2_SPAIR_401/IM-0007-0009.dcm\n",
            "./SPAIR/Negative/12/COR_T2_SPAIR_401/IM-0007-0008.dcm\n",
            "./SPAIR/Negative/12/COR_T2_SPAIR_401/IM-0007-0006.dcm\n",
            "./SPAIR/Negative/12/COR_T2_SPAIR_401/IM-0007-0010.dcm\n",
            "./SPAIR/Negative/14/COR_T2_SPAIR_401/IM-0005-0006.dcm\n",
            "./SPAIR/Negative/14/COR_T2_SPAIR_401/IM-0005-0007.dcm\n",
            "./SPAIR/Negative/14/COR_T2_SPAIR_401/IM-0005-0008.dcm\n",
            "./SPAIR/Negative/14/COR_T2_SPAIR_401/IM-0005-0009.dcm\n",
            "./SPAIR/Negative/14/COR_T2_SPAIR_401/IM-0005-0010.dcm\n",
            "./SPAIR/Negative/14/COR_T2_SPAIR_401/IM-0005-0011.dcm\n",
            "./SPAIR/Negative/10/COR_T2_SPAIR_401/IM-0007-0008.dcm\n",
            "./SPAIR/Negative/10/COR_T2_SPAIR_401/IM-0007-0007.dcm\n",
            "./SPAIR/Negative/10/COR_T2_SPAIR_401/IM-0007-0006.dcm\n",
            "./SPAIR/Negative/10/COR_T2_SPAIR_401/IM-0007-0010.dcm\n",
            "./SPAIR/Negative/10/COR_T2_SPAIR_401/IM-0007-0011.dcm\n",
            "./SPAIR/Negative/10/COR_T2_SPAIR_401/IM-0007-0009.dcm\n",
            "./SPAIR/Negative/17/COR_T2_SPAIR_401/IM-0005-0005.dcm\n",
            "./SPAIR/Negative/17/COR_T2_SPAIR_401/IM-0005-0006.dcm\n",
            "./SPAIR/Negative/17/COR_T2_SPAIR_401/IM-0005-0004.dcm\n",
            "./SPAIR/Negative/17/COR_T2_SPAIR_401/IM-0005-0009.dcm\n",
            "./SPAIR/Negative/17/COR_T2_SPAIR_401/IM-0005-0008.dcm\n",
            "./SPAIR/Negative/17/COR_T2_SPAIR_401/IM-0005-0007.dcm\n",
            "./SPAIR/Negative/1/COR_T2_SPAIR_301/IM-0015-0010.dcm\n",
            "./SPAIR/Negative/1/COR_T2_SPAIR_301/IM-0015-0013.dcm\n",
            "./SPAIR/Negative/1/COR_T2_SPAIR_301/IM-0015-0009.dcm\n",
            "./SPAIR/Negative/1/COR_T2_SPAIR_301/IM-0015-0012.dcm\n",
            "./SPAIR/Negative/1/COR_T2_SPAIR_301/IM-0015-0011.dcm\n",
            "./SPAIR/Negative/1/COR_T2_SPAIR_301/IM-0015-0008.dcm\n",
            "./SPAIR/Negative/16/COR_T2_SPAIR_401/IM-0005-0009.dcm\n",
            "./SPAIR/Negative/16/COR_T2_SPAIR_401/IM-0005-0012.dcm\n",
            "./SPAIR/Negative/16/COR_T2_SPAIR_401/IM-0005-0011.dcm\n",
            "./SPAIR/Negative/16/COR_T2_SPAIR_401/IM-0005-0007.dcm\n",
            "./SPAIR/Negative/16/COR_T2_SPAIR_401/IM-0005-0010.dcm\n",
            "./SPAIR/Negative/16/COR_T2_SPAIR_401/IM-0005-0008.dcm\n",
            "./SPAIR/Negative/18/COR_T2_SPAIR_301/IM-0004-0010.dcm\n",
            "./SPAIR/Negative/18/COR_T2_SPAIR_301/IM-0004-0009.dcm\n",
            "./SPAIR/Negative/18/COR_T2_SPAIR_301/IM-0004-0005.dcm\n",
            "./SPAIR/Negative/18/COR_T2_SPAIR_301/IM-0004-0007.dcm\n",
            "./SPAIR/Negative/18/COR_T2_SPAIR_301/IM-0004-0008.dcm\n",
            "./SPAIR/Negative/18/COR_T2_SPAIR_301/IM-0004-0006.dcm\n",
            "./SPAIR/Negative/21/COR_T2_SPAIR_301/IM-0001-0014.dcm\n",
            "./SPAIR/Negative/21/COR_T2_SPAIR_301/IM-0001-0009.dcm\n",
            "./SPAIR/Negative/21/COR_T2_SPAIR_301/IM-0001-0012.dcm\n",
            "./SPAIR/Negative/21/COR_T2_SPAIR_301/IM-0001-0013.dcm\n",
            "./SPAIR/Negative/21/COR_T2_SPAIR_301/IM-0001-0010.dcm\n",
            "./SPAIR/Negative/21/COR_T2_SPAIR_301/IM-0001-0011.dcm\n",
            "./SPAIR/Negative/24/301/00020008.dcm\n",
            "./SPAIR/Negative/24/301/00020010.dcm\n",
            "./SPAIR/Negative/24/301/00020012.dcm\n",
            "./SPAIR/Negative/24/301/00020013.dcm\n",
            "./SPAIR/Negative/24/301/00020011.dcm\n",
            "./SPAIR/Negative/24/301/00020009.dcm\n",
            "./SPAIR/Negative/2/COR_T2_SPAIR_401/IM-0014-0009.dcm\n",
            "./SPAIR/Negative/2/COR_T2_SPAIR_401/IM-0014-0010.dcm\n",
            "./SPAIR/Negative/2/COR_T2_SPAIR_401/IM-0014-0008.dcm\n",
            "./SPAIR/Negative/2/COR_T2_SPAIR_401/IM-0014-0013.dcm\n",
            "./SPAIR/Negative/2/COR_T2_SPAIR_401/IM-0014-0012.dcm\n",
            "./SPAIR/Negative/2/COR_T2_SPAIR_401/IM-0014-0011.dcm\n",
            "./SPAIR/Negative/25/701/00010011.dcm\n",
            "./SPAIR/Negative/25/701/00010009.dcm\n",
            "./SPAIR/Negative/25/701/00010008.dcm\n",
            "./SPAIR/Negative/25/701/00010013.dcm\n",
            "./SPAIR/Negative/25/701/00010012.dcm\n",
            "./SPAIR/Negative/25/701/00010010.dcm\n",
            "./SPAIR/Negative/23/801/00030007.dcm\n",
            "./SPAIR/Negative/23/801/00030005.dcm\n",
            "./SPAIR/Negative/23/801/00030008.dcm\n",
            "./SPAIR/Negative/23/801/00030004.dcm\n",
            "./SPAIR/Negative/23/801/00030009.dcm\n",
            "./SPAIR/Negative/23/801/00030006.dcm\n",
            "./SPAIR/Negative/20/COR_T2_SPAIR_1201/IM-0002-0006.dcm\n",
            "./SPAIR/Negative/20/COR_T2_SPAIR_1201/IM-0002-0007.dcm\n",
            "./SPAIR/Negative/20/COR_T2_SPAIR_1201/IM-0002-0008.dcm\n",
            "./SPAIR/Negative/20/COR_T2_SPAIR_1201/IM-0002-0004.dcm\n",
            "./SPAIR/Negative/20/COR_T2_SPAIR_1201/IM-0002-0005.dcm\n",
            "./SPAIR/Negative/20/COR_T2_SPAIR_1201/IM-0002-0009.dcm\n",
            "./SPAIR/Negative/22/701/00050008.dcm\n",
            "./SPAIR/Negative/22/701/00050007.dcm\n",
            "./SPAIR/Negative/22/701/00050006.dcm\n",
            "./SPAIR/Negative/22/701/00050009.dcm\n",
            "./SPAIR/Negative/22/701/00050005.dcm\n",
            "./SPAIR/Negative/22/701/00050004.dcm\n",
            "./SPAIR/Negative/22/301/00020007.dcm\n",
            "./SPAIR/Negative/22/301/00020006.dcm\n",
            "./SPAIR/Negative/22/301/00020009.dcm\n",
            "./SPAIR/Negative/22/301/00020010.dcm\n",
            "./SPAIR/Negative/22/301/00020005.dcm\n",
            "./SPAIR/Negative/22/301/00020008.dcm\n",
            "./SPAIR/Negative/27/301/00020009.dcm\n",
            "./SPAIR/Negative/27/301/00020007.dcm\n",
            "./SPAIR/Negative/27/301/00020008.dcm\n",
            "./SPAIR/Negative/27/301/00020006.dcm\n",
            "./SPAIR/Negative/27/301/00020005.dcm\n",
            "./SPAIR/Negative/27/301/00020010.dcm\n",
            "./SPAIR/Negative/26/301/00040006.dcm\n",
            "./SPAIR/Negative/26/301/00040007.dcm\n",
            "./SPAIR/Negative/26/301/00040008.dcm\n",
            "./SPAIR/Negative/26/301/00040011.dcm\n",
            "./SPAIR/Negative/26/301/00040010.dcm\n",
            "./SPAIR/Negative/26/301/00040009.dcm\n",
            "./SPAIR/Negative/19/COR_T2_SPAIR_401/IM-0003-0013.dcm\n",
            "./SPAIR/Negative/19/COR_T2_SPAIR_401/IM-0003-0008.dcm\n",
            "./SPAIR/Negative/19/COR_T2_SPAIR_401/IM-0003-0011.dcm\n",
            "./SPAIR/Negative/19/COR_T2_SPAIR_401/IM-0003-0009.dcm\n",
            "./SPAIR/Negative/19/COR_T2_SPAIR_401/IM-0003-0010.dcm\n",
            "./SPAIR/Negative/19/COR_T2_SPAIR_401/IM-0003-0012.dcm\n",
            "./SPAIR/Negative/7/COR_T2_SPAIR_401/IM-0009-0013.dcm\n",
            "./SPAIR/Negative/7/COR_T2_SPAIR_401/IM-0009-0012.dcm\n",
            "./SPAIR/Negative/7/COR_T2_SPAIR_401/IM-0009-0010.dcm\n",
            "./SPAIR/Negative/7/COR_T2_SPAIR_401/IM-0009-0011.dcm\n",
            "./SPAIR/Negative/7/COR_T2_SPAIR_401/IM-0009-0008.dcm\n",
            "./SPAIR/Negative/7/COR_T2_SPAIR_401/IM-0009-0009.dcm\n",
            "./SPAIR/Negative/9/COR_T2_SPAIR_301/IM-0008-0014.dcm\n",
            "./SPAIR/Negative/9/COR_T2_SPAIR_301/IM-0008-0011.dcm\n",
            "./SPAIR/Negative/9/COR_T2_SPAIR_301/IM-0008-0013.dcm\n",
            "./SPAIR/Negative/9/COR_T2_SPAIR_301/IM-0008-0012.dcm\n",
            "./SPAIR/Negative/9/COR_T2_SPAIR_301/IM-0008-0010.dcm\n",
            "./SPAIR/Negative/9/COR_T2_SPAIR_301/IM-0008-0009.dcm\n",
            "./SPAIR/Negative/3/COR_T2_SPAIR_301/IM-0013-0006.dcm\n",
            "./SPAIR/Negative/3/COR_T2_SPAIR_301/IM-0013-0005.dcm\n",
            "./SPAIR/Negative/3/COR_T2_SPAIR_301/IM-0013-0009.dcm\n",
            "./SPAIR/Negative/3/COR_T2_SPAIR_301/IM-0013-0007.dcm\n",
            "./SPAIR/Negative/3/COR_T2_SPAIR_301/IM-0013-0004.dcm\n",
            "./SPAIR/Negative/3/COR_T2_SPAIR_301/IM-0013-0008.dcm\n",
            "./SPAIR/Negative/6/COR_T2_SPAIR_301/IM-0010-0008.dcm\n",
            "./SPAIR/Negative/6/COR_T2_SPAIR_301/IM-0010-0007.dcm\n",
            "./SPAIR/Negative/6/COR_T2_SPAIR_301/IM-0010-0009.dcm\n",
            "./SPAIR/Negative/6/COR_T2_SPAIR_301/IM-0010-0006.dcm\n",
            "./SPAIR/Negative/6/COR_T2_SPAIR_301/IM-0010-0011.dcm\n",
            "./SPAIR/Negative/6/COR_T2_SPAIR_301/IM-0010-0010.dcm\n",
            "./SPAIR/Negative/28/COR_T2_SPAIR_301/IM-0001-0005.dcm\n",
            "./SPAIR/Negative/28/COR_T2_SPAIR_301/IM-0001-0007.dcm\n",
            "./SPAIR/Negative/28/COR_T2_SPAIR_301/IM-0001-0009.dcm\n",
            "./SPAIR/Negative/28/COR_T2_SPAIR_301/IM-0001-0006.dcm\n",
            "./SPAIR/Negative/28/COR_T2_SPAIR_301/IM-0001-0010.dcm\n",
            "./SPAIR/Negative/28/COR_T2_SPAIR_301/IM-0001-0008.dcm\n",
            "./SPAIR/Negative/8/COR_T2_SPAIR_301/IM-0008-0012.dcm\n",
            "./SPAIR/Negative/8/COR_T2_SPAIR_301/IM-0008-0011.dcm\n",
            "./SPAIR/Negative/8/COR_T2_SPAIR_301/IM-0008-0010.dcm\n",
            "./SPAIR/Negative/8/COR_T2_SPAIR_301/IM-0008-0008.dcm\n",
            "./SPAIR/Negative/8/COR_T2_SPAIR_301/IM-0008-0009.dcm\n",
            "./SPAIR/Negative/8/COR_T2_SPAIR_301/IM-0008-0007.dcm\n",
            "./SPAIR/Negative/4/COR_T2_SPAIR_701/IM-0012-0005.dcm\n",
            "./SPAIR/Negative/4/COR_T2_SPAIR_701/IM-0012-0010.dcm\n",
            "./SPAIR/Negative/4/COR_T2_SPAIR_701/IM-0012-0009.dcm\n",
            "./SPAIR/Negative/4/COR_T2_SPAIR_701/IM-0012-0006.dcm\n",
            "./SPAIR/Negative/4/COR_T2_SPAIR_701/IM-0012-0007.dcm\n",
            "./SPAIR/Negative/4/COR_T2_SPAIR_701/IM-0012-0008.dcm\n",
            "./SPAIR/Negative/5/COR_T2_SPAIR_401/IM-0011-0009.dcm\n",
            "./SPAIR/Negative/5/COR_T2_SPAIR_401/IM-0011-0007.dcm\n",
            "./SPAIR/Negative/5/COR_T2_SPAIR_401/IM-0011-0005.dcm\n",
            "./SPAIR/Negative/5/COR_T2_SPAIR_401/IM-0011-0004.dcm\n",
            "./SPAIR/Negative/5/COR_T2_SPAIR_401/IM-0011-0008.dcm\n",
            "./SPAIR/Negative/5/COR_T2_SPAIR_401/IM-0011-0006.dcm\n"
          ]
        }
      ]
    },
    {
      "cell_type": "code",
      "source": [
        "men = 0\n",
        "igu = 0\n",
        "mai = 0\n",
        "for index, filename in enumerate(glob.iglob(PATH_DCM_FILES + '**/*.tif', recursive=True)):\n",
        "  img = Image.open(filename)\n",
        "  larg, alt = img.size\n",
        "\n",
        "\n",
        "  if(int(larg) < 384):\n",
        "    men = men + 1\n",
        "  elif(int(larg) == 384):\n",
        "    igu = igu + 1\n",
        "  elif(int(larg) > 384):\n",
        "    mai = mai + 1\n",
        "\n",
        "print(\"Quantidade de imagens (384x384)\\n\\nMenores: \"  + str(men) + \" / Iguais: \"  + str(igu) + \" / Maiores: \"  + str(mai))"
      ],
      "metadata": {
        "colab": {
          "base_uri": "https://localhost:8080/"
        },
        "id": "CPY2oMTiU5mE",
        "outputId": "b568533e-6013-4108-a899-8352cd806dba"
      },
      "execution_count": null,
      "outputs": [
        {
          "output_type": "stream",
          "name": "stdout",
          "text": [
            "Quantidade de imagens (384x384)\n",
            "\n",
            "Menores: 264 / Iguais: 36 / Maiores: 6\n"
          ]
        }
      ]
    },
    {
      "cell_type": "code",
      "source": [
        "men = 0\n",
        "igu = 0\n",
        "mai = 0\n",
        "for index, filename in enumerate(glob.iglob(PATH_DCM_FILES + '**/*.png', recursive=True)):\n",
        "  img = Image.open(filename)\n",
        "  larg, alt = img.size\n",
        "\n",
        "\n",
        "  if(int(larg) < 384):\n",
        "    men = men + 1\n",
        "  elif(int(larg) == 384):\n",
        "    igu = igu + 1\n",
        "  elif(int(larg) > 384):\n",
        "    mai = mai + 1\n",
        "\n",
        "print(\"Quantidade de imagens (384x384)\\n\\nMenores: \"  + str(men) + \" / Iguais: \"  + str(igu) + \" / Maiores: \"  + str(mai))"
      ],
      "metadata": {
        "colab": {
          "base_uri": "https://localhost:8080/"
        },
        "id": "jB_DZo14U82J",
        "outputId": "9c2370ef-4c3e-4b71-87f5-d798a65fd421"
      },
      "execution_count": null,
      "outputs": [
        {
          "output_type": "stream",
          "name": "stdout",
          "text": [
            "Quantidade de imagens (384x384)\n",
            "\n",
            "Menores: 222 / Iguais: 77 / Maiores: 6\n"
          ]
        }
      ]
    },
    {
      "cell_type": "code",
      "source": [
        "PATH_DCM_FILES = \"./SPAIR/\"\n",
        "\n",
        "DIM_IMG_PADRAO = 384\n",
        "\n",
        "def resize_image(file):\n",
        "  img = Image.open(file)\n",
        "  px = img.load()\n",
        "  print(\"image name: \" + str(file) + \"\\n\" + str(img.size))\n",
        "  #img_array = np.array(img)\n",
        "  #display(img)\n",
        "  #print(\"size: \" + str(img.size[0]))\n",
        "\n",
        "  if(img.size[0] != DIM_IMG_PADRAO):\n",
        "    #new_img = np.zeros((DIM_IMG_PADRAO,DIM_IMG_PADRAO), dtype = np.int8)\n",
        "\n",
        "    new_final = Image.new(\"L\", (DIM_IMG_PADRAO,DIM_IMG_PADRAO))\n",
        "    for i in range(DIM_IMG_PADRAO):\n",
        "      for j in range(DIM_IMG_PADRAO):\n",
        "        new_final.putpixel([i,j], 0)\n",
        "\n",
        "    padding = int((DIM_IMG_PADRAO - img.size[0]) / 2)\n",
        "    x = img.size[0]\n",
        "    y = img.size[1]\n",
        "    for i in range(x):\n",
        "      for j in range(y):\n",
        "        if file[-3:] == \"tif\":\n",
        "          value_pixel = img.getpixel((i,j)) ## no caso se for uma imagem png sera do tipo ARGB no caso pegaremos apenas os 3 ultimos valores RGB\n",
        "          new_final.putpixel((i+padding, j+padding), value_pixel)\n",
        "        elif file[-3:] == \"png\" and type(img.getpixel((i,j))) is not int:\n",
        "#         print(f\"TOTAL IMAGE PIXEL: {type(img.getpixel((i,j)))}\")\n",
        "          value_pixel = img.getpixel((i,j))[1] ## no caso se for uma imagem png sera do tipo ARGB no caso pegaremos apenas os 3 ultimos valores RGB\n",
        "#         print(f\"value_pixel: {value_pixel}\\n\")\n",
        "          new_final.putpixel((i+padding, j+padding), value_pixel)\n",
        "\n",
        "    #display(new_final)\n",
        "    #print(\"new image size: \" + str(new_final.size[0]))\n",
        "\n",
        "    new_final.save(file, \"PNG\" ,compression=\"none\") ### SALVAR A IMAGEM\n",
        "\n",
        "################ Removemos o paciente com a imagem de dimensões maior que 384x384 #################\n",
        "################################ paciente 35\n",
        "\n",
        "for index, filename in enumerate(glob.iglob(PATH_DCM_FILES + '**/*.tif', recursive=True)):\n",
        "  resize_image(filename)\n",
        "  print(f\"index: {index}\\n\")\n",
        "\n",
        "for index, filename in enumerate(glob.iglob(PATH_DCM_FILES + '**/*.png', recursive=True)):\n",
        "  resize_image(filename)\n",
        "  print(f\"index: {index}\\n\")"
      ],
      "metadata": {
        "colab": {
          "base_uri": "https://localhost:8080/"
        },
        "id": "kKDn_yX_V23-",
        "outputId": "d41275d6-730f-49d3-8bc0-810812a8777a"
      },
      "execution_count": null,
      "outputs": [
        {
          "output_type": "stream",
          "name": "stdout",
          "text": [
            "image name: ./SPAIR/Positive/29/701/00060010.tif\n",
            "(320, 320)\n",
            "index: 0\n",
            "\n",
            "image name: ./SPAIR/Positive/29/701/00060011.tif\n",
            "(320, 320)\n",
            "index: 1\n",
            "\n",
            "image name: ./SPAIR/Positive/29/701/00060008.tif\n",
            "(320, 320)\n",
            "index: 2\n",
            "\n",
            "image name: ./SPAIR/Positive/29/701/00060009.tif\n",
            "(320, 320)\n",
            "index: 3\n",
            "\n",
            "image name: ./SPAIR/Positive/29/701/00060007.tif\n",
            "(320, 320)\n",
            "index: 4\n",
            "\n",
            "image name: ./SPAIR/Positive/29/701/00060006.tif\n",
            "(320, 320)\n",
            "index: 5\n",
            "\n",
            "image name: ./SPAIR/Positive/30/COR_T2_SPAIR_401/IM-0009-0007.tif\n",
            "(320, 320)\n",
            "index: 6\n",
            "\n",
            "image name: ./SPAIR/Positive/30/COR_T2_SPAIR_401/IM-0009-0011.tif\n",
            "(320, 320)\n",
            "index: 7\n",
            "\n",
            "image name: ./SPAIR/Positive/30/COR_T2_SPAIR_401/IM-0009-0012.tif\n",
            "(320, 320)\n",
            "index: 8\n",
            "\n",
            "image name: ./SPAIR/Positive/30/COR_T2_SPAIR_401/IM-0009-0008.tif\n",
            "(320, 320)\n",
            "index: 9\n",
            "\n",
            "image name: ./SPAIR/Positive/30/COR_T2_SPAIR_401/IM-0009-0009.tif\n",
            "(320, 320)\n",
            "index: 10\n",
            "\n",
            "image name: ./SPAIR/Positive/30/COR_T2_SPAIR_401/IM-0009-0010.tif\n",
            "(320, 320)\n",
            "index: 11\n",
            "\n",
            "image name: ./SPAIR/Positive/33/COR_T2_SPAIR_601/IM-0005-0007.tif\n",
            "(320, 320)\n",
            "index: 12\n",
            "\n",
            "image name: ./SPAIR/Positive/33/COR_T2_SPAIR_601/IM-0005-0004.tif\n",
            "(320, 320)\n",
            "index: 13\n",
            "\n",
            "image name: ./SPAIR/Positive/33/COR_T2_SPAIR_601/IM-0005-0006.tif\n",
            "(320, 320)\n",
            "index: 14\n",
            "\n",
            "image name: ./SPAIR/Positive/33/COR_T2_SPAIR_601/IM-0005-0008.tif\n",
            "(320, 320)\n",
            "index: 15\n",
            "\n",
            "image name: ./SPAIR/Positive/33/COR_T2_SPAIR_601/IM-0005-0009.tif\n",
            "(320, 320)\n",
            "index: 16\n",
            "\n",
            "image name: ./SPAIR/Positive/33/COR_T2_SPAIR_601/IM-0005-0005.tif\n",
            "(320, 320)\n",
            "index: 17\n",
            "\n",
            "image name: ./SPAIR/Positive/40/COR_T2_SPAIR_501/IM-0004-0010.tif\n",
            "(320, 320)\n",
            "index: 18\n",
            "\n",
            "image name: ./SPAIR/Positive/40/COR_T2_SPAIR_501/IM-0004-0007.tif\n",
            "(320, 320)\n",
            "index: 19\n",
            "\n",
            "image name: ./SPAIR/Positive/40/COR_T2_SPAIR_501/IM-0004-0011.tif\n",
            "(320, 320)\n",
            "index: 20\n",
            "\n",
            "image name: ./SPAIR/Positive/40/COR_T2_SPAIR_501/IM-0004-0009.tif\n",
            "(320, 320)\n",
            "index: 21\n",
            "\n",
            "image name: ./SPAIR/Positive/40/COR_T2_SPAIR_501/IM-0004-0008.tif\n",
            "(320, 320)\n",
            "index: 22\n",
            "\n",
            "image name: ./SPAIR/Positive/40/COR_T2_SPAIR_501/IM-0004-0012.tif\n",
            "(320, 320)\n",
            "index: 23\n",
            "\n",
            "image name: ./SPAIR/Positive/38/Rm_Sacroiliacas - 742133/COR_T2_SPAIR_301/IM-0001-0007.tif\n",
            "(320, 320)\n",
            "index: 24\n",
            "\n",
            "image name: ./SPAIR/Positive/38/Rm_Sacroiliacas - 742133/COR_T2_SPAIR_301/IM-0001-0006.tif\n",
            "(320, 320)\n",
            "index: 25\n",
            "\n",
            "image name: ./SPAIR/Positive/38/Rm_Sacroiliacas - 742133/COR_T2_SPAIR_301/IM-0001-0003.tif\n",
            "(320, 320)\n",
            "index: 26\n",
            "\n",
            "image name: ./SPAIR/Positive/38/Rm_Sacroiliacas - 742133/COR_T2_SPAIR_301/IM-0001-0008.tif\n",
            "(320, 320)\n",
            "index: 27\n",
            "\n",
            "image name: ./SPAIR/Positive/38/Rm_Sacroiliacas - 742133/COR_T2_SPAIR_301/IM-0001-0005.tif\n",
            "(320, 320)\n",
            "index: 28\n",
            "\n",
            "image name: ./SPAIR/Positive/38/Rm_Sacroiliacas - 742133/COR_T2_SPAIR_301/IM-0001-0004.tif\n",
            "(320, 320)\n",
            "index: 29\n",
            "\n",
            "image name: ./SPAIR/Positive/36/301/00040008.tif\n",
            "(320, 320)\n",
            "index: 30\n",
            "\n",
            "image name: ./SPAIR/Positive/36/301/00040012.tif\n",
            "(320, 320)\n",
            "index: 31\n",
            "\n",
            "image name: ./SPAIR/Positive/36/301/00040011.tif\n",
            "(320, 320)\n",
            "index: 32\n",
            "\n",
            "image name: ./SPAIR/Positive/36/301/00040010.tif\n",
            "(320, 320)\n",
            "index: 33\n",
            "\n",
            "image name: ./SPAIR/Positive/36/301/00040009.tif\n",
            "(320, 320)\n",
            "index: 34\n",
            "\n",
            "image name: ./SPAIR/Positive/36/301/00040007.tif\n",
            "(320, 320)\n",
            "index: 35\n",
            "\n",
            "image name: ./SPAIR/Positive/37/Rm_Sacroiliacas - 18705550/COR_T2_SPAIR_301/IM-0001-0004.tif\n",
            "(320, 320)\n",
            "index: 36\n",
            "\n",
            "image name: ./SPAIR/Positive/37/Rm_Sacroiliacas - 18705550/COR_T2_SPAIR_301/IM-0001-0005.tif\n",
            "(320, 320)\n",
            "index: 37\n",
            "\n",
            "image name: ./SPAIR/Positive/37/Rm_Sacroiliacas - 18705550/COR_T2_SPAIR_301/IM-0001-0008.tif\n",
            "(320, 320)\n",
            "index: 38\n",
            "\n",
            "image name: ./SPAIR/Positive/37/Rm_Sacroiliacas - 18705550/COR_T2_SPAIR_301/IM-0001-0009.tif\n",
            "(320, 320)\n",
            "index: 39\n",
            "\n",
            "image name: ./SPAIR/Positive/37/Rm_Sacroiliacas - 18705550/COR_T2_SPAIR_301/IM-0001-0007.tif\n",
            "(320, 320)\n",
            "index: 40\n",
            "\n",
            "image name: ./SPAIR/Positive/37/Rm_Sacroiliacas - 18705550/COR_T2_SPAIR_301/IM-0001-0006.tif\n",
            "(320, 320)\n",
            "index: 41\n",
            "\n",
            "image name: ./SPAIR/Positive/34/1001/00050007.tif\n",
            "(320, 320)\n",
            "index: 42\n",
            "\n",
            "image name: ./SPAIR/Positive/34/1001/00050009.tif\n",
            "(320, 320)\n",
            "index: 43\n",
            "\n",
            "image name: ./SPAIR/Positive/34/1001/00050005.tif\n",
            "(320, 320)\n",
            "index: 44\n",
            "\n",
            "image name: ./SPAIR/Positive/34/1001/00050008.tif\n",
            "(320, 320)\n",
            "index: 45\n",
            "\n",
            "image name: ./SPAIR/Positive/34/1001/00050006.tif\n",
            "(320, 320)\n",
            "index: 46\n",
            "\n",
            "image name: ./SPAIR/Positive/34/1001/00050010.tif\n",
            "(320, 320)\n",
            "index: 47\n",
            "\n",
            "image name: ./SPAIR/Positive/32/401/00030008.tif\n",
            "(320, 320)\n",
            "index: 48\n",
            "\n",
            "image name: ./SPAIR/Positive/32/401/00030011.tif\n",
            "(320, 320)\n",
            "index: 49\n",
            "\n",
            "image name: ./SPAIR/Positive/32/401/00030007.tif\n",
            "(320, 320)\n",
            "index: 50\n",
            "\n",
            "image name: ./SPAIR/Positive/32/401/00030009.tif\n",
            "(320, 320)\n",
            "index: 51\n",
            "\n",
            "image name: ./SPAIR/Positive/32/401/00030012.tif\n",
            "(320, 320)\n",
            "index: 52\n",
            "\n",
            "image name: ./SPAIR/Positive/32/401/00030010.tif\n",
            "(320, 320)\n",
            "index: 53\n",
            "\n",
            "image name: ./SPAIR/Positive/31/401/00030009.tif\n",
            "(320, 320)\n",
            "index: 54\n",
            "\n",
            "image name: ./SPAIR/Positive/31/401/00030008.tif\n",
            "(320, 320)\n",
            "index: 55\n",
            "\n",
            "image name: ./SPAIR/Positive/31/401/00030007.tif\n",
            "(320, 320)\n",
            "index: 56\n",
            "\n",
            "image name: ./SPAIR/Positive/31/401/00030012.tif\n",
            "(320, 320)\n",
            "index: 57\n",
            "\n",
            "image name: ./SPAIR/Positive/31/401/00030011.tif\n",
            "(320, 320)\n",
            "index: 58\n",
            "\n",
            "image name: ./SPAIR/Positive/31/401/00030010.tif\n",
            "(320, 320)\n",
            "index: 59\n",
            "\n",
            "image name: ./SPAIR/Positive/39/COR_T2_SPAIR_501/IM-0011-0007.tif\n",
            "(384, 384)\n",
            "index: 60\n",
            "\n",
            "image name: ./SPAIR/Positive/39/COR_T2_SPAIR_501/IM-0011-0008.tif\n",
            "(384, 384)\n",
            "index: 61\n",
            "\n",
            "image name: ./SPAIR/Positive/39/COR_T2_SPAIR_501/IM-0011-0004.tif\n",
            "(384, 384)\n",
            "index: 62\n",
            "\n",
            "image name: ./SPAIR/Positive/39/COR_T2_SPAIR_501/IM-0011-0006.tif\n",
            "(384, 384)\n",
            "index: 63\n",
            "\n",
            "image name: ./SPAIR/Positive/39/COR_T2_SPAIR_501/IM-0011-0005.tif\n",
            "(384, 384)\n",
            "index: 64\n",
            "\n",
            "image name: ./SPAIR/Positive/39/COR_T2_SPAIR_501/IM-0011-0009.tif\n",
            "(384, 384)\n",
            "index: 65\n",
            "\n",
            "image name: ./SPAIR/Positive/49/COR_T2_SPAIR_701/IM-0007-0005.tif\n",
            "(320, 320)\n",
            "index: 66\n",
            "\n",
            "image name: ./SPAIR/Positive/49/COR_T2_SPAIR_701/IM-0007-0006.tif\n",
            "(320, 320)\n",
            "index: 67\n",
            "\n",
            "image name: ./SPAIR/Positive/49/COR_T2_SPAIR_701/IM-0007-0004.tif\n",
            "(320, 320)\n",
            "index: 68\n",
            "\n",
            "image name: ./SPAIR/Positive/49/COR_T2_SPAIR_701/IM-0007-0003.tif\n",
            "(320, 320)\n",
            "index: 69\n",
            "\n",
            "image name: ./SPAIR/Positive/49/COR_T2_SPAIR_701/IM-0007-0007.tif\n",
            "(320, 320)\n",
            "index: 70\n",
            "\n",
            "image name: ./SPAIR/Positive/49/COR_T2_SPAIR_701/IM-0007-0002.tif\n",
            "(320, 320)\n",
            "index: 71\n",
            "\n",
            "image name: ./SPAIR/Positive/43/COR_T2_SPAIR_701/IM-0007-0004.tif\n",
            "(384, 384)\n",
            "index: 72\n",
            "\n",
            "image name: ./SPAIR/Positive/43/COR_T2_SPAIR_701/IM-0007-0009.tif\n",
            "(384, 384)\n",
            "index: 73\n",
            "\n",
            "image name: ./SPAIR/Positive/43/COR_T2_SPAIR_701/IM-0007-0008.tif\n",
            "(384, 384)\n",
            "index: 74\n",
            "\n",
            "image name: ./SPAIR/Positive/43/COR_T2_SPAIR_701/IM-0007-0005.tif\n",
            "(384, 384)\n",
            "index: 75\n",
            "\n",
            "image name: ./SPAIR/Positive/43/COR_T2_SPAIR_701/IM-0007-0006.tif\n",
            "(384, 384)\n",
            "index: 76\n",
            "\n",
            "image name: ./SPAIR/Positive/43/COR_T2_SPAIR_701/IM-0007-0007.tif\n",
            "(384, 384)\n",
            "index: 77\n",
            "\n",
            "image name: ./SPAIR/Positive/47/COR_T2_SPAIR_1001/IM-0002-0009.tif\n",
            "(320, 320)\n",
            "index: 78\n",
            "\n",
            "image name: ./SPAIR/Positive/47/COR_T2_SPAIR_1001/IM-0002-0011.tif\n",
            "(320, 320)\n",
            "index: 79\n",
            "\n",
            "image name: ./SPAIR/Positive/47/COR_T2_SPAIR_1001/IM-0002-0008.tif\n",
            "(320, 320)\n",
            "index: 80\n",
            "\n",
            "image name: ./SPAIR/Positive/47/COR_T2_SPAIR_1001/IM-0002-0007.tif\n",
            "(320, 320)\n",
            "index: 81\n",
            "\n",
            "image name: ./SPAIR/Positive/47/COR_T2_SPAIR_1001/IM-0002-0012.tif\n",
            "(320, 320)\n",
            "index: 82\n",
            "\n",
            "image name: ./SPAIR/Positive/47/COR_T2_SPAIR_1001/IM-0002-0010.tif\n",
            "(320, 320)\n",
            "index: 83\n",
            "\n",
            "image name: ./SPAIR/Positive/42/COR_T2_SPAIR_401/IM-0009-0010.tif\n",
            "(320, 320)\n",
            "index: 84\n",
            "\n",
            "image name: ./SPAIR/Positive/42/COR_T2_SPAIR_401/IM-0009-0007.tif\n",
            "(320, 320)\n",
            "index: 85\n",
            "\n",
            "image name: ./SPAIR/Positive/42/COR_T2_SPAIR_401/IM-0009-0006.tif\n",
            "(320, 320)\n",
            "index: 86\n",
            "\n",
            "image name: ./SPAIR/Positive/42/COR_T2_SPAIR_401/IM-0009-0011.tif\n",
            "(320, 320)\n",
            "index: 87\n",
            "\n",
            "image name: ./SPAIR/Positive/42/COR_T2_SPAIR_401/IM-0009-0009.tif\n",
            "(320, 320)\n",
            "index: 88\n",
            "\n",
            "image name: ./SPAIR/Positive/42/COR_T2_SPAIR_401/IM-0009-0008.tif\n",
            "(320, 320)\n",
            "index: 89\n",
            "\n",
            "image name: ./SPAIR/Positive/48/COR_T2_SPAIR_401/IM-0012-0009.tif\n",
            "(320, 320)\n",
            "index: 90\n",
            "\n",
            "image name: ./SPAIR/Positive/48/COR_T2_SPAIR_401/IM-0012-0004.tif\n",
            "(320, 320)\n",
            "index: 91\n",
            "\n",
            "image name: ./SPAIR/Positive/48/COR_T2_SPAIR_401/IM-0012-0008.tif\n",
            "(320, 320)\n",
            "index: 92\n",
            "\n",
            "image name: ./SPAIR/Positive/48/COR_T2_SPAIR_401/IM-0012-0007.tif\n",
            "(320, 320)\n",
            "index: 93\n",
            "\n",
            "image name: ./SPAIR/Positive/48/COR_T2_SPAIR_401/IM-0012-0005.tif\n",
            "(320, 320)\n",
            "index: 94\n",
            "\n",
            "image name: ./SPAIR/Positive/48/COR_T2_SPAIR_401/IM-0012-0006.tif\n",
            "(320, 320)\n",
            "index: 95\n",
            "\n",
            "image name: ./SPAIR/Positive/45/COR_T2_SPAIR_801/IM-0010-0005.tif\n",
            "(384, 384)\n",
            "index: 96\n",
            "\n",
            "image name: ./SPAIR/Positive/45/COR_T2_SPAIR_801/IM-0010-0010.tif\n",
            "(384, 384)\n",
            "index: 97\n",
            "\n",
            "image name: ./SPAIR/Positive/45/COR_T2_SPAIR_801/IM-0010-0007.tif\n",
            "(384, 384)\n",
            "index: 98\n",
            "\n",
            "image name: ./SPAIR/Positive/45/COR_T2_SPAIR_801/IM-0010-0006.tif\n",
            "(384, 384)\n",
            "index: 99\n",
            "\n",
            "image name: ./SPAIR/Positive/45/COR_T2_SPAIR_801/IM-0010-0009.tif\n",
            "(384, 384)\n",
            "index: 100\n",
            "\n",
            "image name: ./SPAIR/Positive/45/COR_T2_SPAIR_801/IM-0010-0008.tif\n",
            "(384, 384)\n",
            "index: 101\n",
            "\n",
            "image name: ./SPAIR/Positive/41/COR_T2_SPAIR_501/IM-0006-0006.tif\n",
            "(320, 320)\n",
            "index: 102\n",
            "\n",
            "image name: ./SPAIR/Positive/41/COR_T2_SPAIR_501/IM-0006-0008.tif\n",
            "(320, 320)\n",
            "index: 103\n",
            "\n",
            "image name: ./SPAIR/Positive/41/COR_T2_SPAIR_501/IM-0006-0007.tif\n",
            "(320, 320)\n",
            "index: 104\n",
            "\n",
            "image name: ./SPAIR/Positive/41/COR_T2_SPAIR_501/IM-0006-0009.tif\n",
            "(320, 320)\n",
            "index: 105\n",
            "\n",
            "image name: ./SPAIR/Positive/41/COR_T2_SPAIR_501/IM-0006-0010.tif\n",
            "(320, 320)\n",
            "index: 106\n",
            "\n",
            "image name: ./SPAIR/Positive/41/COR_T2_SPAIR_501/IM-0006-0011.tif\n",
            "(320, 320)\n",
            "index: 107\n",
            "\n",
            "image name: ./SPAIR/Positive/46/COR_T2_SPAIR_301/IM-0008-0008.tif\n",
            "(320, 320)\n",
            "index: 108\n",
            "\n",
            "image name: ./SPAIR/Positive/46/COR_T2_SPAIR_301/IM-0008-0009.tif\n",
            "(320, 320)\n",
            "index: 109\n",
            "\n",
            "image name: ./SPAIR/Positive/46/COR_T2_SPAIR_301/IM-0008-0007.tif\n",
            "(320, 320)\n",
            "index: 110\n",
            "\n",
            "image name: ./SPAIR/Positive/46/COR_T2_SPAIR_301/IM-0008-0011.tif\n",
            "(320, 320)\n",
            "index: 111\n",
            "\n",
            "image name: ./SPAIR/Positive/46/COR_T2_SPAIR_301/IM-0008-0010.tif\n",
            "(320, 320)\n",
            "index: 112\n",
            "\n",
            "image name: ./SPAIR/Positive/46/COR_T2_SPAIR_301/IM-0008-0006.tif\n",
            "(320, 320)\n",
            "index: 113\n",
            "\n",
            "image name: ./SPAIR/Positive/50/COR_T2_SPAIR_401/IM-0003-0009.tif\n",
            "(320, 320)\n",
            "index: 114\n",
            "\n",
            "image name: ./SPAIR/Positive/50/COR_T2_SPAIR_401/IM-0003-0011.tif\n",
            "(320, 320)\n",
            "index: 115\n",
            "\n",
            "image name: ./SPAIR/Positive/50/COR_T2_SPAIR_401/IM-0003-0008.tif\n",
            "(320, 320)\n",
            "index: 116\n",
            "\n",
            "image name: ./SPAIR/Positive/50/COR_T2_SPAIR_401/IM-0003-0007.tif\n",
            "(320, 320)\n",
            "index: 117\n",
            "\n",
            "image name: ./SPAIR/Positive/50/COR_T2_SPAIR_401/IM-0003-0010.tif\n",
            "(320, 320)\n",
            "index: 118\n",
            "\n",
            "image name: ./SPAIR/Positive/50/COR_T2_SPAIR_401/IM-0003-0012.tif\n",
            "(320, 320)\n",
            "index: 119\n",
            "\n",
            "image name: ./SPAIR/Positive/44/COR_T2_SPAIR_501/IM-0001-0007.tif\n",
            "(320, 320)\n",
            "index: 120\n",
            "\n",
            "image name: ./SPAIR/Positive/44/COR_T2_SPAIR_501/IM-0001-0008.tif\n",
            "(320, 320)\n",
            "index: 121\n",
            "\n",
            "image name: ./SPAIR/Positive/44/COR_T2_SPAIR_501/IM-0001-0011.tif\n",
            "(320, 320)\n",
            "index: 122\n",
            "\n",
            "image name: ./SPAIR/Positive/44/COR_T2_SPAIR_501/IM-0001-0010.tif\n",
            "(320, 320)\n",
            "index: 123\n",
            "\n",
            "image name: ./SPAIR/Positive/44/COR_T2_SPAIR_501/IM-0001-0006.tif\n",
            "(320, 320)\n",
            "index: 124\n",
            "\n",
            "image name: ./SPAIR/Positive/44/COR_T2_SPAIR_501/IM-0001-0009.tif\n",
            "(320, 320)\n",
            "index: 125\n",
            "\n",
            "image name: ./SPAIR/Negative/13/COR_T2_SPAIR_301/IM-0006-0014.tif\n",
            "(320, 320)\n",
            "index: 126\n",
            "\n",
            "image name: ./SPAIR/Negative/13/COR_T2_SPAIR_301/IM-0006-0011.tif\n",
            "(320, 320)\n",
            "index: 127\n",
            "\n",
            "image name: ./SPAIR/Negative/13/COR_T2_SPAIR_301/IM-0006-0009.tif\n",
            "(320, 320)\n",
            "index: 128\n",
            "\n",
            "image name: ./SPAIR/Negative/13/COR_T2_SPAIR_301/IM-0006-0010.tif\n",
            "(320, 320)\n",
            "index: 129\n",
            "\n",
            "image name: ./SPAIR/Negative/13/COR_T2_SPAIR_301/IM-0006-0013.tif\n",
            "(320, 320)\n",
            "index: 130\n",
            "\n",
            "image name: ./SPAIR/Negative/13/COR_T2_SPAIR_301/IM-0006-0012.tif\n",
            "(320, 320)\n",
            "index: 131\n",
            "\n",
            "image name: ./SPAIR/Negative/11/COR_T2_SPAIR_401/IM-0007-0006.tif\n",
            "(320, 320)\n",
            "index: 132\n",
            "\n",
            "image name: ./SPAIR/Negative/11/COR_T2_SPAIR_401/IM-0007-0009.tif\n",
            "(320, 320)\n",
            "index: 133\n",
            "\n",
            "image name: ./SPAIR/Negative/11/COR_T2_SPAIR_401/IM-0007-0011.tif\n",
            "(320, 320)\n",
            "index: 134\n",
            "\n",
            "image name: ./SPAIR/Negative/11/COR_T2_SPAIR_401/IM-0007-0010.tif\n",
            "(320, 320)\n",
            "index: 135\n",
            "\n",
            "image name: ./SPAIR/Negative/11/COR_T2_SPAIR_401/IM-0007-0007.tif\n",
            "(320, 320)\n",
            "index: 136\n",
            "\n",
            "image name: ./SPAIR/Negative/11/COR_T2_SPAIR_401/IM-0007-0008.tif\n",
            "(320, 320)\n",
            "index: 137\n",
            "\n",
            "image name: ./SPAIR/Negative/15/COR_T2_SPAIR_401/IM-0005-0009.tif\n",
            "(320, 320)\n",
            "index: 138\n",
            "\n",
            "image name: ./SPAIR/Negative/15/COR_T2_SPAIR_401/IM-0005-0011.tif\n",
            "(320, 320)\n",
            "index: 139\n",
            "\n",
            "image name: ./SPAIR/Negative/15/COR_T2_SPAIR_401/IM-0005-0010.tif\n",
            "(320, 320)\n",
            "index: 140\n",
            "\n",
            "image name: ./SPAIR/Negative/15/COR_T2_SPAIR_401/IM-0005-0007.tif\n",
            "(320, 320)\n",
            "index: 141\n",
            "\n",
            "image name: ./SPAIR/Negative/15/COR_T2_SPAIR_401/IM-0005-0012.tif\n",
            "(320, 320)\n",
            "index: 142\n",
            "\n",
            "image name: ./SPAIR/Negative/15/COR_T2_SPAIR_401/IM-0005-0008.tif\n",
            "(320, 320)\n",
            "index: 143\n",
            "\n",
            "image name: ./SPAIR/Negative/12/COR_T2_SPAIR_401/IM-0007-0011.tif\n",
            "(320, 320)\n",
            "index: 144\n",
            "\n",
            "image name: ./SPAIR/Negative/12/COR_T2_SPAIR_401/IM-0007-0007.tif\n",
            "(320, 320)\n",
            "index: 145\n",
            "\n",
            "image name: ./SPAIR/Negative/12/COR_T2_SPAIR_401/IM-0007-0009.tif\n",
            "(320, 320)\n",
            "index: 146\n",
            "\n",
            "image name: ./SPAIR/Negative/12/COR_T2_SPAIR_401/IM-0007-0008.tif\n",
            "(320, 320)\n",
            "index: 147\n",
            "\n",
            "image name: ./SPAIR/Negative/12/COR_T2_SPAIR_401/IM-0007-0006.tif\n",
            "(320, 320)\n",
            "index: 148\n",
            "\n",
            "image name: ./SPAIR/Negative/12/COR_T2_SPAIR_401/IM-0007-0010.tif\n",
            "(320, 320)\n",
            "index: 149\n",
            "\n",
            "image name: ./SPAIR/Negative/14/COR_T2_SPAIR_401/IM-0005-0006.tif\n",
            "(320, 320)\n",
            "index: 150\n",
            "\n",
            "image name: ./SPAIR/Negative/14/COR_T2_SPAIR_401/IM-0005-0007.tif\n",
            "(320, 320)\n",
            "index: 151\n",
            "\n",
            "image name: ./SPAIR/Negative/14/COR_T2_SPAIR_401/IM-0005-0008.tif\n",
            "(320, 320)\n",
            "index: 152\n",
            "\n",
            "image name: ./SPAIR/Negative/14/COR_T2_SPAIR_401/IM-0005-0009.tif\n",
            "(320, 320)\n",
            "index: 153\n",
            "\n",
            "image name: ./SPAIR/Negative/14/COR_T2_SPAIR_401/IM-0005-0010.tif\n",
            "(320, 320)\n",
            "index: 154\n",
            "\n",
            "image name: ./SPAIR/Negative/14/COR_T2_SPAIR_401/IM-0005-0011.tif\n",
            "(320, 320)\n",
            "index: 155\n",
            "\n",
            "image name: ./SPAIR/Negative/10/COR_T2_SPAIR_401/IM-0007-0008.tif\n",
            "(320, 320)\n",
            "index: 156\n",
            "\n",
            "image name: ./SPAIR/Negative/10/COR_T2_SPAIR_401/IM-0007-0007.tif\n",
            "(320, 320)\n",
            "index: 157\n",
            "\n",
            "image name: ./SPAIR/Negative/10/COR_T2_SPAIR_401/IM-0007-0006.tif\n",
            "(320, 320)\n",
            "index: 158\n",
            "\n",
            "image name: ./SPAIR/Negative/10/COR_T2_SPAIR_401/IM-0007-0010.tif\n",
            "(320, 320)\n",
            "index: 159\n",
            "\n",
            "image name: ./SPAIR/Negative/10/COR_T2_SPAIR_401/IM-0007-0011.tif\n",
            "(320, 320)\n",
            "index: 160\n",
            "\n",
            "image name: ./SPAIR/Negative/10/COR_T2_SPAIR_401/IM-0007-0009.tif\n",
            "(320, 320)\n",
            "index: 161\n",
            "\n",
            "image name: ./SPAIR/Negative/17/COR_T2_SPAIR_401/IM-0005-0005.tif\n",
            "(320, 320)\n",
            "index: 162\n",
            "\n",
            "image name: ./SPAIR/Negative/17/COR_T2_SPAIR_401/IM-0005-0006.tif\n",
            "(320, 320)\n",
            "index: 163\n",
            "\n",
            "image name: ./SPAIR/Negative/17/COR_T2_SPAIR_401/IM-0005-0004.tif\n",
            "(320, 320)\n",
            "index: 164\n",
            "\n",
            "image name: ./SPAIR/Negative/17/COR_T2_SPAIR_401/IM-0005-0009.tif\n",
            "(320, 320)\n",
            "index: 165\n",
            "\n",
            "image name: ./SPAIR/Negative/17/COR_T2_SPAIR_401/IM-0005-0008.tif\n",
            "(320, 320)\n",
            "index: 166\n",
            "\n",
            "image name: ./SPAIR/Negative/17/COR_T2_SPAIR_401/IM-0005-0007.tif\n",
            "(320, 320)\n",
            "index: 167\n",
            "\n",
            "image name: ./SPAIR/Negative/1/COR_T2_SPAIR_301/IM-0015-0010.tif\n",
            "(320, 320)\n",
            "index: 168\n",
            "\n",
            "image name: ./SPAIR/Negative/1/COR_T2_SPAIR_301/IM-0015-0013.tif\n",
            "(320, 320)\n",
            "index: 169\n",
            "\n",
            "image name: ./SPAIR/Negative/1/COR_T2_SPAIR_301/IM-0015-0009.tif\n",
            "(320, 320)\n",
            "index: 170\n",
            "\n",
            "image name: ./SPAIR/Negative/1/COR_T2_SPAIR_301/IM-0015-0012.tif\n",
            "(320, 320)\n",
            "index: 171\n",
            "\n",
            "image name: ./SPAIR/Negative/1/COR_T2_SPAIR_301/IM-0015-0011.tif\n",
            "(320, 320)\n",
            "index: 172\n",
            "\n",
            "image name: ./SPAIR/Negative/1/COR_T2_SPAIR_301/IM-0015-0008.tif\n",
            "(320, 320)\n",
            "index: 173\n",
            "\n",
            "image name: ./SPAIR/Negative/16/COR_T2_SPAIR_401/IM-0005-0009.tif\n",
            "(320, 320)\n",
            "index: 174\n",
            "\n",
            "image name: ./SPAIR/Negative/16/COR_T2_SPAIR_401/IM-0005-0012.tif\n",
            "(320, 320)\n",
            "index: 175\n",
            "\n",
            "image name: ./SPAIR/Negative/16/COR_T2_SPAIR_401/IM-0005-0011.tif\n",
            "(320, 320)\n",
            "index: 176\n",
            "\n",
            "image name: ./SPAIR/Negative/16/COR_T2_SPAIR_401/IM-0005-0007.tif\n",
            "(320, 320)\n",
            "index: 177\n",
            "\n",
            "image name: ./SPAIR/Negative/16/COR_T2_SPAIR_401/IM-0005-0010.tif\n",
            "(320, 320)\n",
            "index: 178\n",
            "\n",
            "image name: ./SPAIR/Negative/16/COR_T2_SPAIR_401/IM-0005-0008.tif\n",
            "(320, 320)\n",
            "index: 179\n",
            "\n",
            "image name: ./SPAIR/Negative/18/COR_T2_SPAIR_301/IM-0004-0010.tif\n",
            "(320, 320)\n",
            "index: 180\n",
            "\n",
            "image name: ./SPAIR/Negative/18/COR_T2_SPAIR_301/IM-0004-0009.tif\n",
            "(320, 320)\n",
            "index: 181\n",
            "\n",
            "image name: ./SPAIR/Negative/18/COR_T2_SPAIR_301/IM-0004-0005.tif\n",
            "(320, 320)\n",
            "index: 182\n",
            "\n",
            "image name: ./SPAIR/Negative/18/COR_T2_SPAIR_301/IM-0004-0007.tif\n",
            "(320, 320)\n",
            "index: 183\n",
            "\n",
            "image name: ./SPAIR/Negative/18/COR_T2_SPAIR_301/IM-0004-0008.tif\n",
            "(320, 320)\n",
            "index: 184\n",
            "\n",
            "image name: ./SPAIR/Negative/18/COR_T2_SPAIR_301/IM-0004-0006.tif\n",
            "(320, 320)\n",
            "index: 185\n",
            "\n",
            "image name: ./SPAIR/Negative/21/COR_T2_SPAIR_301/IM-0001-0014.tif\n",
            "(384, 384)\n",
            "index: 186\n",
            "\n",
            "image name: ./SPAIR/Negative/21/COR_T2_SPAIR_301/IM-0001-0009.tif\n",
            "(384, 384)\n",
            "index: 187\n",
            "\n",
            "image name: ./SPAIR/Negative/21/COR_T2_SPAIR_301/IM-0001-0012.tif\n",
            "(384, 384)\n",
            "index: 188\n",
            "\n",
            "image name: ./SPAIR/Negative/21/COR_T2_SPAIR_301/IM-0001-0013.tif\n",
            "(384, 384)\n",
            "index: 189\n",
            "\n",
            "image name: ./SPAIR/Negative/21/COR_T2_SPAIR_301/IM-0001-0010.tif\n",
            "(384, 384)\n",
            "index: 190\n",
            "\n",
            "image name: ./SPAIR/Negative/21/COR_T2_SPAIR_301/IM-0001-0011.tif\n",
            "(384, 384)\n",
            "index: 191\n",
            "\n",
            "image name: ./SPAIR/Negative/24/301/00020008.tif\n",
            "(320, 320)\n",
            "index: 192\n",
            "\n",
            "image name: ./SPAIR/Negative/24/301/00020010.tif\n",
            "(320, 320)\n",
            "index: 193\n",
            "\n",
            "image name: ./SPAIR/Negative/24/301/00020012.tif\n",
            "(320, 320)\n",
            "index: 194\n",
            "\n",
            "image name: ./SPAIR/Negative/24/301/00020013.tif\n",
            "(320, 320)\n",
            "index: 195\n",
            "\n",
            "image name: ./SPAIR/Negative/24/301/00020011.tif\n",
            "(320, 320)\n",
            "index: 196\n",
            "\n",
            "image name: ./SPAIR/Negative/24/301/00020009.tif\n",
            "(320, 320)\n",
            "index: 197\n",
            "\n",
            "image name: ./SPAIR/Negative/2/COR_T2_SPAIR_401/IM-0014-0009.tif\n",
            "(320, 320)\n",
            "index: 198\n",
            "\n",
            "image name: ./SPAIR/Negative/2/COR_T2_SPAIR_401/IM-0014-0010.tif\n",
            "(320, 320)\n",
            "index: 199\n",
            "\n",
            "image name: ./SPAIR/Negative/2/COR_T2_SPAIR_401/IM-0014-0008.tif\n",
            "(320, 320)\n",
            "index: 200\n",
            "\n",
            "image name: ./SPAIR/Negative/2/COR_T2_SPAIR_401/IM-0014-0013.tif\n",
            "(320, 320)\n",
            "index: 201\n",
            "\n",
            "image name: ./SPAIR/Negative/2/COR_T2_SPAIR_401/IM-0014-0012.tif\n",
            "(320, 320)\n",
            "index: 202\n",
            "\n",
            "image name: ./SPAIR/Negative/2/COR_T2_SPAIR_401/IM-0014-0011.tif\n",
            "(320, 320)\n",
            "index: 203\n",
            "\n",
            "image name: ./SPAIR/Negative/25/701/00010011.tif\n",
            "(320, 320)\n",
            "index: 204\n",
            "\n",
            "image name: ./SPAIR/Negative/25/701/00010009.tif\n",
            "(320, 320)\n",
            "index: 205\n",
            "\n",
            "image name: ./SPAIR/Negative/25/701/00010008.tif\n",
            "(320, 320)\n",
            "index: 206\n",
            "\n",
            "image name: ./SPAIR/Negative/25/701/00010013.tif\n",
            "(320, 320)\n",
            "index: 207\n",
            "\n",
            "image name: ./SPAIR/Negative/25/701/00010012.tif\n",
            "(320, 320)\n",
            "index: 208\n",
            "\n",
            "image name: ./SPAIR/Negative/25/701/00010010.tif\n",
            "(320, 320)\n",
            "index: 209\n",
            "\n",
            "image name: ./SPAIR/Negative/23/801/00030007.tif\n",
            "(320, 320)\n",
            "index: 210\n",
            "\n",
            "image name: ./SPAIR/Negative/23/801/00030005.tif\n",
            "(320, 320)\n",
            "index: 211\n",
            "\n",
            "image name: ./SPAIR/Negative/23/801/00030008.tif\n",
            "(320, 320)\n",
            "index: 212\n",
            "\n",
            "image name: ./SPAIR/Negative/23/801/00030004.tif\n",
            "(320, 320)\n",
            "index: 213\n",
            "\n",
            "image name: ./SPAIR/Negative/23/801/00030009.tif\n",
            "(320, 320)\n",
            "index: 214\n",
            "\n",
            "image name: ./SPAIR/Negative/23/801/00030006.tif\n",
            "(320, 320)\n",
            "index: 215\n",
            "\n",
            "image name: ./SPAIR/Negative/20/COR_T2_SPAIR_1201/IM-0002-0006.tif\n",
            "(320, 320)\n",
            "index: 216\n",
            "\n",
            "image name: ./SPAIR/Negative/20/COR_T2_SPAIR_1201/IM-0002-0007.tif\n",
            "(320, 320)\n",
            "index: 217\n",
            "\n",
            "image name: ./SPAIR/Negative/20/COR_T2_SPAIR_1201/IM-0002-0008.tif\n",
            "(320, 320)\n",
            "index: 218\n",
            "\n",
            "image name: ./SPAIR/Negative/20/COR_T2_SPAIR_1201/IM-0002-0004.tif\n",
            "(320, 320)\n",
            "index: 219\n",
            "\n",
            "image name: ./SPAIR/Negative/20/COR_T2_SPAIR_1201/IM-0002-0005.tif\n",
            "(320, 320)\n",
            "index: 220\n",
            "\n",
            "image name: ./SPAIR/Negative/20/COR_T2_SPAIR_1201/IM-0002-0009.tif\n",
            "(320, 320)\n",
            "index: 221\n",
            "\n",
            "image name: ./SPAIR/Negative/22/701/00050008.tif\n",
            "(384, 384)\n",
            "index: 222\n",
            "\n",
            "image name: ./SPAIR/Negative/22/701/00050007.tif\n",
            "(384, 384)\n",
            "index: 223\n",
            "\n",
            "image name: ./SPAIR/Negative/22/701/00050006.tif\n",
            "(384, 384)\n",
            "index: 224\n",
            "\n",
            "image name: ./SPAIR/Negative/22/701/00050009.tif\n",
            "(384, 384)\n",
            "index: 225\n",
            "\n",
            "image name: ./SPAIR/Negative/22/701/00050005.tif\n",
            "(384, 384)\n",
            "index: 226\n",
            "\n",
            "image name: ./SPAIR/Negative/22/701/00050004.tif\n",
            "(384, 384)\n",
            "index: 227\n",
            "\n",
            "image name: ./SPAIR/Negative/22/301/00020007.tif\n",
            "(320, 320)\n",
            "index: 228\n",
            "\n",
            "image name: ./SPAIR/Negative/22/301/00020006.tif\n",
            "(320, 320)\n",
            "index: 229\n",
            "\n",
            "image name: ./SPAIR/Negative/22/301/00020009.tif\n",
            "(320, 320)\n",
            "index: 230\n",
            "\n",
            "image name: ./SPAIR/Negative/22/301/00020010.tif\n",
            "(320, 320)\n",
            "index: 231\n",
            "\n",
            "image name: ./SPAIR/Negative/22/301/00020005.tif\n",
            "(320, 320)\n",
            "index: 232\n",
            "\n",
            "image name: ./SPAIR/Negative/22/301/00020008.tif\n",
            "(320, 320)\n",
            "index: 233\n",
            "\n",
            "image name: ./SPAIR/Negative/27/301/00020009.tif\n",
            "(320, 320)\n",
            "index: 234\n",
            "\n",
            "image name: ./SPAIR/Negative/27/301/00020007.tif\n",
            "(320, 320)\n",
            "index: 235\n",
            "\n",
            "image name: ./SPAIR/Negative/27/301/00020008.tif\n",
            "(320, 320)\n",
            "index: 236\n",
            "\n",
            "image name: ./SPAIR/Negative/27/301/00020006.tif\n",
            "(320, 320)\n",
            "index: 237\n",
            "\n",
            "image name: ./SPAIR/Negative/27/301/00020005.tif\n",
            "(320, 320)\n",
            "index: 238\n",
            "\n",
            "image name: ./SPAIR/Negative/27/301/00020010.tif\n",
            "(320, 320)\n",
            "index: 239\n",
            "\n",
            "image name: ./SPAIR/Negative/26/301/00040006.tif\n",
            "(320, 320)\n",
            "index: 240\n",
            "\n",
            "image name: ./SPAIR/Negative/26/301/00040007.tif\n",
            "(320, 320)\n",
            "index: 241\n",
            "\n",
            "image name: ./SPAIR/Negative/26/301/00040008.tif\n",
            "(320, 320)\n",
            "index: 242\n",
            "\n",
            "image name: ./SPAIR/Negative/26/301/00040011.tif\n",
            "(320, 320)\n",
            "index: 243\n",
            "\n",
            "image name: ./SPAIR/Negative/26/301/00040010.tif\n",
            "(320, 320)\n",
            "index: 244\n",
            "\n",
            "image name: ./SPAIR/Negative/26/301/00040009.tif\n",
            "(320, 320)\n",
            "index: 245\n",
            "\n",
            "image name: ./SPAIR/Negative/19/COR_T2_SPAIR_401/IM-0003-0013.tif\n",
            "(320, 320)\n",
            "index: 246\n",
            "\n",
            "image name: ./SPAIR/Negative/19/COR_T2_SPAIR_401/IM-0003-0008.tif\n",
            "(320, 320)\n",
            "index: 247\n",
            "\n",
            "image name: ./SPAIR/Negative/19/COR_T2_SPAIR_401/IM-0003-0011.tif\n",
            "(320, 320)\n",
            "index: 248\n",
            "\n",
            "image name: ./SPAIR/Negative/19/COR_T2_SPAIR_401/IM-0003-0009.tif\n",
            "(320, 320)\n",
            "index: 249\n",
            "\n",
            "image name: ./SPAIR/Negative/19/COR_T2_SPAIR_401/IM-0003-0010.tif\n",
            "(320, 320)\n",
            "index: 250\n",
            "\n",
            "image name: ./SPAIR/Negative/19/COR_T2_SPAIR_401/IM-0003-0012.tif\n",
            "(320, 320)\n",
            "index: 251\n",
            "\n",
            "image name: ./SPAIR/Negative/7/COR_T2_SPAIR_401/IM-0009-0013.tif\n",
            "(320, 320)\n",
            "index: 252\n",
            "\n",
            "image name: ./SPAIR/Negative/7/COR_T2_SPAIR_401/IM-0009-0012.tif\n",
            "(320, 320)\n",
            "index: 253\n",
            "\n",
            "image name: ./SPAIR/Negative/7/COR_T2_SPAIR_401/IM-0009-0010.tif\n",
            "(320, 320)\n",
            "index: 254\n",
            "\n",
            "image name: ./SPAIR/Negative/7/COR_T2_SPAIR_401/IM-0009-0011.tif\n",
            "(320, 320)\n",
            "index: 255\n",
            "\n",
            "image name: ./SPAIR/Negative/7/COR_T2_SPAIR_401/IM-0009-0008.tif\n",
            "(320, 320)\n",
            "index: 256\n",
            "\n",
            "image name: ./SPAIR/Negative/7/COR_T2_SPAIR_401/IM-0009-0009.tif\n",
            "(320, 320)\n",
            "index: 257\n",
            "\n",
            "image name: ./SPAIR/Negative/9/COR_T2_SPAIR_301/IM-0008-0014.tif\n",
            "(320, 320)\n",
            "index: 258\n",
            "\n",
            "image name: ./SPAIR/Negative/9/COR_T2_SPAIR_301/IM-0008-0011.tif\n",
            "(320, 320)\n",
            "index: 259\n",
            "\n",
            "image name: ./SPAIR/Negative/9/COR_T2_SPAIR_301/IM-0008-0013.tif\n",
            "(320, 320)\n",
            "index: 260\n",
            "\n",
            "image name: ./SPAIR/Negative/9/COR_T2_SPAIR_301/IM-0008-0012.tif\n",
            "(320, 320)\n",
            "index: 261\n",
            "\n",
            "image name: ./SPAIR/Negative/9/COR_T2_SPAIR_301/IM-0008-0010.tif\n",
            "(320, 320)\n",
            "index: 262\n",
            "\n",
            "image name: ./SPAIR/Negative/9/COR_T2_SPAIR_301/IM-0008-0009.tif\n",
            "(320, 320)\n",
            "index: 263\n",
            "\n",
            "image name: ./SPAIR/Negative/3/COR_T2_SPAIR_301/IM-0013-0006.tif\n",
            "(384, 384)\n",
            "index: 264\n",
            "\n",
            "image name: ./SPAIR/Negative/3/COR_T2_SPAIR_301/IM-0013-0005.tif\n",
            "(384, 384)\n",
            "index: 265\n",
            "\n",
            "image name: ./SPAIR/Negative/3/COR_T2_SPAIR_301/IM-0013-0009.tif\n",
            "(384, 384)\n",
            "index: 266\n",
            "\n",
            "image name: ./SPAIR/Negative/3/COR_T2_SPAIR_301/IM-0013-0007.tif\n",
            "(384, 384)\n",
            "index: 267\n",
            "\n",
            "image name: ./SPAIR/Negative/3/COR_T2_SPAIR_301/IM-0013-0004.tif\n",
            "(384, 384)\n",
            "index: 268\n",
            "\n",
            "image name: ./SPAIR/Negative/3/COR_T2_SPAIR_301/IM-0013-0008.tif\n",
            "(384, 384)\n",
            "index: 269\n",
            "\n",
            "image name: ./SPAIR/Negative/6/COR_T2_SPAIR_301/IM-0010-0008.tif\n",
            "(320, 320)\n",
            "index: 270\n",
            "\n",
            "image name: ./SPAIR/Negative/6/COR_T2_SPAIR_301/IM-0010-0007.tif\n",
            "(320, 320)\n",
            "index: 271\n",
            "\n",
            "image name: ./SPAIR/Negative/6/COR_T2_SPAIR_301/IM-0010-0009.tif\n",
            "(320, 320)\n",
            "index: 272\n",
            "\n",
            "image name: ./SPAIR/Negative/6/COR_T2_SPAIR_301/IM-0010-0006.tif\n",
            "(320, 320)\n",
            "index: 273\n",
            "\n",
            "image name: ./SPAIR/Negative/6/COR_T2_SPAIR_301/IM-0010-0011.tif\n",
            "(320, 320)\n",
            "index: 274\n",
            "\n",
            "image name: ./SPAIR/Negative/6/COR_T2_SPAIR_301/IM-0010-0010.tif\n",
            "(320, 320)\n",
            "index: 275\n",
            "\n",
            "image name: ./SPAIR/Negative/28/COR_T2_SPAIR_301/IM-0001-0005.tif\n",
            "(320, 320)\n",
            "index: 276\n",
            "\n",
            "image name: ./SPAIR/Negative/28/COR_T2_SPAIR_301/IM-0001-0007.tif\n",
            "(320, 320)\n",
            "index: 277\n",
            "\n",
            "image name: ./SPAIR/Negative/28/COR_T2_SPAIR_301/IM-0001-0009.tif\n",
            "(320, 320)\n",
            "index: 278\n",
            "\n",
            "image name: ./SPAIR/Negative/28/COR_T2_SPAIR_301/IM-0001-0006.tif\n",
            "(320, 320)\n",
            "index: 279\n",
            "\n",
            "image name: ./SPAIR/Negative/28/COR_T2_SPAIR_301/IM-0001-0010.tif\n",
            "(320, 320)\n",
            "index: 280\n",
            "\n",
            "image name: ./SPAIR/Negative/28/COR_T2_SPAIR_301/IM-0001-0008.tif\n",
            "(320, 320)\n",
            "index: 281\n",
            "\n",
            "image name: ./SPAIR/Negative/8/COR_T2_SPAIR_301/IM-0008-0012.tif\n",
            "(320, 320)\n",
            "index: 282\n",
            "\n",
            "image name: ./SPAIR/Negative/8/COR_T2_SPAIR_301/IM-0008-0011.tif\n",
            "(320, 320)\n",
            "index: 283\n",
            "\n",
            "image name: ./SPAIR/Negative/8/COR_T2_SPAIR_301/IM-0008-0010.tif\n",
            "(320, 320)\n",
            "index: 284\n",
            "\n",
            "image name: ./SPAIR/Negative/8/COR_T2_SPAIR_301/IM-0008-0008.tif\n",
            "(320, 320)\n",
            "index: 285\n",
            "\n",
            "image name: ./SPAIR/Negative/8/COR_T2_SPAIR_301/IM-0008-0009.tif\n",
            "(320, 320)\n",
            "index: 286\n",
            "\n",
            "image name: ./SPAIR/Negative/8/COR_T2_SPAIR_301/IM-0008-0007.tif\n",
            "(320, 320)\n",
            "index: 287\n",
            "\n",
            "image name: ./SPAIR/Negative/4/COR_T2_SPAIR_701/IM-0012-0005.tif\n",
            "(320, 320)\n",
            "index: 288\n",
            "\n",
            "image name: ./SPAIR/Negative/4/COR_T2_SPAIR_701/IM-0012-0010.tif\n",
            "(320, 320)\n",
            "index: 289\n",
            "\n",
            "image name: ./SPAIR/Negative/4/COR_T2_SPAIR_701/IM-0012-0009.tif\n",
            "(320, 320)\n",
            "index: 290\n",
            "\n",
            "image name: ./SPAIR/Negative/4/COR_T2_SPAIR_701/IM-0012-0006.tif\n",
            "(320, 320)\n",
            "index: 291\n",
            "\n",
            "image name: ./SPAIR/Negative/4/COR_T2_SPAIR_701/IM-0012-0007.tif\n",
            "(320, 320)\n",
            "index: 292\n",
            "\n",
            "image name: ./SPAIR/Negative/4/COR_T2_SPAIR_701/IM-0012-0008.tif\n",
            "(320, 320)\n",
            "index: 293\n",
            "\n",
            "image name: ./SPAIR/Negative/5/COR_T2_SPAIR_401/IM-0011-0009.tif\n",
            "(320, 320)\n",
            "index: 294\n",
            "\n",
            "image name: ./SPAIR/Negative/5/COR_T2_SPAIR_401/IM-0011-0007.tif\n",
            "(320, 320)\n",
            "index: 295\n",
            "\n",
            "image name: ./SPAIR/Negative/5/COR_T2_SPAIR_401/IM-0011-0005.tif\n",
            "(320, 320)\n",
            "index: 296\n",
            "\n",
            "image name: ./SPAIR/Negative/5/COR_T2_SPAIR_401/IM-0011-0004.tif\n",
            "(320, 320)\n",
            "index: 297\n",
            "\n",
            "image name: ./SPAIR/Negative/5/COR_T2_SPAIR_401/IM-0011-0008.tif\n",
            "(320, 320)\n",
            "index: 298\n",
            "\n",
            "image name: ./SPAIR/Negative/5/COR_T2_SPAIR_401/IM-0011-0006.tif\n",
            "(320, 320)\n",
            "index: 299\n",
            "\n",
            "image name: ./SPAIR/Positive/29/701/00060011.png\n",
            "(384, 384)\n",
            "index: 0\n",
            "\n",
            "image name: ./SPAIR/Positive/29/701/00060009.png\n",
            "(384, 384)\n",
            "index: 1\n",
            "\n",
            "image name: ./SPAIR/Positive/29/701/00060010.png\n",
            "(384, 384)\n",
            "index: 2\n",
            "\n",
            "image name: ./SPAIR/Positive/29/701/00060008.png\n",
            "(384, 384)\n",
            "index: 3\n",
            "\n",
            "image name: ./SPAIR/Positive/29/701/00060007.png\n",
            "(384, 384)\n",
            "index: 4\n",
            "\n",
            "image name: ./SPAIR/Positive/29/701/00060006.png\n",
            "(384, 384)\n",
            "index: 5\n",
            "\n",
            "image name: ./SPAIR/Positive/30/COR_T2_SPAIR_401/IM-0009-0007.png\n",
            "(384, 384)\n",
            "index: 6\n",
            "\n",
            "image name: ./SPAIR/Positive/30/COR_T2_SPAIR_401/IM-0009-0012.png\n",
            "(384, 384)\n",
            "index: 7\n",
            "\n",
            "image name: ./SPAIR/Positive/30/COR_T2_SPAIR_401/IM-0009-0008.png\n",
            "(384, 384)\n",
            "index: 8\n",
            "\n",
            "image name: ./SPAIR/Positive/30/COR_T2_SPAIR_401/IM-0009-0011.png\n",
            "(384, 384)\n",
            "index: 9\n",
            "\n",
            "image name: ./SPAIR/Positive/30/COR_T2_SPAIR_401/IM-0009-0010.png\n",
            "(384, 384)\n",
            "index: 10\n",
            "\n",
            "image name: ./SPAIR/Positive/30/COR_T2_SPAIR_401/IM-0009-0009.png\n",
            "(384, 384)\n",
            "index: 11\n",
            "\n",
            "image name: ./SPAIR/Positive/33/COR_T2_SPAIR_601/IM-0005-0007.png\n",
            "(384, 384)\n",
            "index: 12\n",
            "\n",
            "image name: ./SPAIR/Positive/33/COR_T2_SPAIR_601/IM-0005-0009.png\n",
            "(384, 384)\n",
            "index: 13\n",
            "\n",
            "image name: ./SPAIR/Positive/33/COR_T2_SPAIR_601/IM-0005-0008.png\n",
            "(384, 384)\n",
            "index: 14\n",
            "\n",
            "image name: ./SPAIR/Positive/33/COR_T2_SPAIR_601/IM-0005-0005.png\n",
            "(384, 384)\n",
            "index: 15\n",
            "\n",
            "image name: ./SPAIR/Positive/33/COR_T2_SPAIR_601/IM-0005-0004.png\n",
            "(384, 384)\n",
            "index: 16\n",
            "\n",
            "image name: ./SPAIR/Positive/33/COR_T2_SPAIR_601/IM-0005-0006.png\n",
            "(384, 384)\n",
            "index: 17\n",
            "\n",
            "image name: ./SPAIR/Positive/40/COR_T2_SPAIR_501/IM-0004-0009.png\n",
            "(384, 384)\n",
            "index: 18\n",
            "\n",
            "image name: ./SPAIR/Positive/40/COR_T2_SPAIR_501/IM-0004-0010.png\n",
            "(384, 384)\n",
            "index: 19\n",
            "\n",
            "image name: ./SPAIR/Positive/40/COR_T2_SPAIR_501/IM-0004-0008.png\n",
            "(384, 384)\n",
            "index: 20\n",
            "\n",
            "image name: ./SPAIR/Positive/40/COR_T2_SPAIR_501/IM-0004-0012.png\n",
            "(384, 384)\n",
            "index: 21\n",
            "\n",
            "image name: ./SPAIR/Positive/40/COR_T2_SPAIR_501/IM-0004-0011.png\n",
            "(384, 384)\n",
            "index: 22\n",
            "\n",
            "image name: ./SPAIR/Positive/40/COR_T2_SPAIR_501/IM-0004-0007.png\n",
            "(384, 384)\n",
            "index: 23\n",
            "\n",
            "image name: ./SPAIR/Positive/38/Rm_Sacroiliacas - 742133/COR_T2_SPAIR_301/IM-0001-0005.png\n",
            "(384, 384)\n",
            "index: 24\n",
            "\n",
            "image name: ./SPAIR/Positive/38/Rm_Sacroiliacas - 742133/COR_T2_SPAIR_301/IM-0001-0006.png\n",
            "(384, 384)\n",
            "index: 25\n",
            "\n",
            "image name: ./SPAIR/Positive/38/Rm_Sacroiliacas - 742133/COR_T2_SPAIR_301/IM-0001-0003.png\n",
            "(384, 384)\n",
            "index: 26\n",
            "\n",
            "image name: ./SPAIR/Positive/38/Rm_Sacroiliacas - 742133/COR_T2_SPAIR_301/IM-0001-0007.png\n",
            "(384, 384)\n",
            "index: 27\n",
            "\n",
            "image name: ./SPAIR/Positive/38/Rm_Sacroiliacas - 742133/COR_T2_SPAIR_301/IM-0001-0004.png\n",
            "(384, 384)\n",
            "index: 28\n",
            "\n",
            "image name: ./SPAIR/Positive/38/Rm_Sacroiliacas - 742133/COR_T2_SPAIR_301/IM-0001-0008.png\n",
            "(384, 384)\n",
            "index: 29\n",
            "\n",
            "image name: ./SPAIR/Positive/36/301/00040007.png\n",
            "(384, 384)\n",
            "index: 30\n",
            "\n",
            "image name: ./SPAIR/Positive/36/301/00040011.png\n",
            "(384, 384)\n",
            "index: 31\n",
            "\n",
            "image name: ./SPAIR/Positive/36/301/00040008.png\n",
            "(384, 384)\n",
            "index: 32\n",
            "\n",
            "image name: ./SPAIR/Positive/36/301/00040010.png\n",
            "(384, 384)\n",
            "index: 33\n",
            "\n",
            "image name: ./SPAIR/Positive/36/301/00040009.png\n",
            "(384, 384)\n",
            "index: 34\n",
            "\n",
            "image name: ./SPAIR/Positive/36/301/00040012.png\n",
            "(384, 384)\n",
            "index: 35\n",
            "\n",
            "image name: ./SPAIR/Positive/37/Rm_Sacroiliacas - 18705550/COR_T2_SPAIR_301/IM-0001-0006.png\n",
            "(384, 384)\n",
            "index: 36\n",
            "\n",
            "image name: ./SPAIR/Positive/37/Rm_Sacroiliacas - 18705550/COR_T2_SPAIR_301/IM-0001-0005.png\n",
            "(384, 384)\n",
            "index: 37\n",
            "\n",
            "image name: ./SPAIR/Positive/37/Rm_Sacroiliacas - 18705550/COR_T2_SPAIR_301/IM-0001-0007.png\n",
            "(384, 384)\n",
            "index: 38\n",
            "\n",
            "image name: ./SPAIR/Positive/37/Rm_Sacroiliacas - 18705550/COR_T2_SPAIR_301/IM-0001-0008.png\n",
            "(384, 384)\n",
            "index: 39\n",
            "\n",
            "image name: ./SPAIR/Positive/37/Rm_Sacroiliacas - 18705550/COR_T2_SPAIR_301/IM-0001-0009.png\n",
            "(384, 384)\n",
            "index: 40\n",
            "\n",
            "image name: ./SPAIR/Positive/37/Rm_Sacroiliacas - 18705550/COR_T2_SPAIR_301/IM-0001-0004.png\n",
            "(384, 384)\n",
            "index: 41\n",
            "\n",
            "image name: ./SPAIR/Positive/34/1001/00050007.png\n",
            "(320, 320)\n",
            "index: 42\n",
            "\n",
            "image name: ./SPAIR/Positive/34/1001/00050008.png\n",
            "(320, 320)\n",
            "index: 43\n",
            "\n",
            "image name: ./SPAIR/Positive/34/1001/00050010.png\n",
            "(320, 320)\n",
            "index: 44\n",
            "\n",
            "image name: ./SPAIR/Positive/34/1001/00050005.png\n",
            "(320, 320)\n",
            "index: 45\n",
            "\n",
            "image name: ./SPAIR/Positive/34/1001/00050009.png\n",
            "(320, 320)\n",
            "index: 46\n",
            "\n",
            "image name: ./SPAIR/Positive/34/1001/00050006.png\n",
            "(320, 320)\n",
            "index: 47\n",
            "\n",
            "image name: ./SPAIR/Positive/32/401/00030012.png\n",
            "(320, 320)\n",
            "index: 48\n",
            "\n",
            "image name: ./SPAIR/Positive/32/401/00030010.png\n",
            "(320, 320)\n",
            "index: 49\n",
            "\n",
            "image name: ./SPAIR/Positive/32/401/00030009.png\n",
            "(320, 320)\n",
            "index: 50\n",
            "\n",
            "image name: ./SPAIR/Positive/32/401/00030007.png\n",
            "(320, 320)\n",
            "index: 51\n",
            "\n",
            "image name: ./SPAIR/Positive/32/401/00030011.png\n",
            "(320, 320)\n",
            "index: 52\n",
            "\n",
            "image name: ./SPAIR/Positive/32/401/00030008.png\n",
            "(320, 320)\n",
            "index: 53\n",
            "\n",
            "image name: ./SPAIR/Positive/31/401/00030008.png\n",
            "(320, 320)\n",
            "index: 54\n",
            "\n",
            "image name: ./SPAIR/Positive/31/401/00030009.png\n",
            "(320, 320)\n",
            "index: 55\n",
            "\n",
            "image name: ./SPAIR/Positive/31/401/00030007.png\n",
            "(320, 320)\n",
            "index: 56\n",
            "\n",
            "image name: ./SPAIR/Positive/31/401/00030011.png\n",
            "(320, 320)\n",
            "index: 57\n",
            "\n",
            "image name: ./SPAIR/Positive/31/401/00030012.png\n",
            "(320, 320)\n",
            "index: 58\n",
            "\n",
            "image name: ./SPAIR/Positive/31/401/00030010.png\n",
            "(320, 320)\n",
            "index: 59\n",
            "\n",
            "image name: ./SPAIR/Positive/39/COR_T2_SPAIR_501/IM-0011-0009.png\n",
            "(384, 384)\n",
            "index: 60\n",
            "\n",
            "image name: ./SPAIR/Positive/39/COR_T2_SPAIR_501/IM-0011-0006.png\n",
            "(384, 384)\n",
            "index: 61\n",
            "\n",
            "image name: ./SPAIR/Positive/39/COR_T2_SPAIR_501/IM-0011-0007.png\n",
            "(384, 384)\n",
            "index: 62\n",
            "\n",
            "image name: ./SPAIR/Positive/39/COR_T2_SPAIR_501/IM-0011-0008.png\n",
            "(384, 384)\n",
            "index: 63\n",
            "\n",
            "image name: ./SPAIR/Positive/39/COR_T2_SPAIR_501/IM-0011-0005.png\n",
            "(384, 384)\n",
            "index: 64\n",
            "\n",
            "image name: ./SPAIR/Positive/39/COR_T2_SPAIR_501/IM-0011-0004.png\n",
            "(384, 384)\n",
            "index: 65\n",
            "\n",
            "image name: ./SPAIR/Positive/49/COR_T2_SPAIR_701/IM-0007-0005.png\n",
            "(320, 320)\n",
            "index: 66\n",
            "\n",
            "image name: ./SPAIR/Positive/49/COR_T2_SPAIR_701/IM-0007-0006.png\n",
            "(320, 320)\n",
            "index: 67\n",
            "\n",
            "image name: ./SPAIR/Positive/49/COR_T2_SPAIR_701/IM-0007-0007.png\n",
            "(320, 320)\n",
            "index: 68\n",
            "\n",
            "image name: ./SPAIR/Positive/49/COR_T2_SPAIR_701/IM-0007-0003.png\n",
            "(320, 320)\n",
            "index: 69\n",
            "\n",
            "image name: ./SPAIR/Positive/49/COR_T2_SPAIR_701/IM-0007-0004.png\n",
            "(320, 320)\n",
            "index: 70\n",
            "\n",
            "image name: ./SPAIR/Positive/49/COR_T2_SPAIR_701/IM-0007-0002.png\n",
            "(320, 320)\n",
            "index: 71\n",
            "\n",
            "image name: ./SPAIR/Positive/43/COR_T2_SPAIR_701/IM-0007-0007.png\n",
            "(384, 384)\n",
            "index: 72\n",
            "\n",
            "image name: ./SPAIR/Positive/43/COR_T2_SPAIR_701/IM-0007-0006.png\n",
            "(384, 384)\n",
            "index: 73\n",
            "\n",
            "image name: ./SPAIR/Positive/43/COR_T2_SPAIR_701/IM-0007-0004.png\n",
            "(384, 384)\n",
            "index: 74\n",
            "\n",
            "image name: ./SPAIR/Positive/43/COR_T2_SPAIR_701/IM-0007-0005.png\n",
            "(384, 384)\n",
            "index: 75\n",
            "\n",
            "image name: ./SPAIR/Positive/43/COR_T2_SPAIR_701/IM-0007-0008.png\n",
            "(384, 384)\n",
            "index: 76\n",
            "\n",
            "image name: ./SPAIR/Positive/43/COR_T2_SPAIR_701/IM-0007-0009.png\n",
            "(320, 320)\n",
            "index: 77\n",
            "\n",
            "image name: ./SPAIR/Positive/47/COR_T2_SPAIR_1001/IM-0002-0007.png\n",
            "(320, 320)\n",
            "index: 78\n",
            "\n",
            "image name: ./SPAIR/Positive/47/COR_T2_SPAIR_1001/IM-0002-0010.png\n",
            "(320, 320)\n",
            "index: 79\n",
            "\n",
            "image name: ./SPAIR/Positive/47/COR_T2_SPAIR_1001/IM-0002-0009.png\n",
            "(320, 320)\n",
            "index: 80\n",
            "\n",
            "image name: ./SPAIR/Positive/47/COR_T2_SPAIR_1001/IM-0002-0011.png\n",
            "(320, 320)\n",
            "index: 81\n",
            "\n",
            "image name: ./SPAIR/Positive/47/COR_T2_SPAIR_1001/IM-0002-0008.png\n",
            "(320, 320)\n",
            "index: 82\n",
            "\n",
            "image name: ./SPAIR/Positive/47/COR_T2_SPAIR_1001/IM-0002-0012.png\n",
            "(320, 320)\n",
            "index: 83\n",
            "\n",
            "image name: ./SPAIR/Positive/42/COR_T2_SPAIR_401/IM-0009-0009.png\n",
            "(320, 320)\n",
            "index: 84\n",
            "\n",
            "image name: ./SPAIR/Positive/42/COR_T2_SPAIR_401/IM-0009-0007.png\n",
            "(320, 320)\n",
            "index: 85\n",
            "\n",
            "image name: ./SPAIR/Positive/42/COR_T2_SPAIR_401/IM-0009-0010.png\n",
            "(320, 320)\n",
            "index: 86\n",
            "\n",
            "image name: ./SPAIR/Positive/42/COR_T2_SPAIR_401/IM-0009-0006.png\n",
            "(320, 320)\n",
            "index: 87\n",
            "\n",
            "image name: ./SPAIR/Positive/42/COR_T2_SPAIR_401/IM-0009-0008.png\n",
            "(320, 320)\n",
            "index: 88\n",
            "\n",
            "image name: ./SPAIR/Positive/42/COR_T2_SPAIR_401/IM-0009-0011.png\n",
            "(320, 320)\n",
            "index: 89\n",
            "\n",
            "image name: ./SPAIR/Positive/48/COR_T2_SPAIR_401/IM-0012-0006.png\n",
            "(320, 320)\n",
            "index: 90\n",
            "\n",
            "image name: ./SPAIR/Positive/48/COR_T2_SPAIR_401/IM-0012-0005.png\n",
            "(320, 320)\n",
            "index: 91\n",
            "\n",
            "image name: ./SPAIR/Positive/48/COR_T2_SPAIR_401/IM-0012-0007.png\n",
            "(320, 320)\n",
            "index: 92\n",
            "\n",
            "image name: ./SPAIR/Positive/48/COR_T2_SPAIR_401/IM-0012-0008.png\n",
            "(320, 320)\n",
            "index: 93\n",
            "\n",
            "image name: ./SPAIR/Positive/48/COR_T2_SPAIR_401/IM-0012-0004.png\n",
            "(320, 320)\n",
            "index: 94\n",
            "\n",
            "image name: ./SPAIR/Positive/48/COR_T2_SPAIR_401/IM-0012-0009.png\n",
            "(320, 320)\n",
            "index: 95\n",
            "\n",
            "image name: ./SPAIR/Positive/45/COR_T2_SPAIR_801/IM-0010-0009.png\n",
            "(384, 384)\n",
            "index: 96\n",
            "\n",
            "image name: ./SPAIR/Positive/45/COR_T2_SPAIR_801/IM-0010-0007.png\n",
            "(384, 384)\n",
            "index: 97\n",
            "\n",
            "image name: ./SPAIR/Positive/45/COR_T2_SPAIR_801/IM-0010-0005.png\n",
            "(384, 384)\n",
            "index: 98\n",
            "\n",
            "image name: ./SPAIR/Positive/45/COR_T2_SPAIR_801/IM-0010-0006.png\n",
            "(384, 384)\n",
            "index: 99\n",
            "\n",
            "image name: ./SPAIR/Positive/45/COR_T2_SPAIR_801/IM-0010-0010.png\n",
            "(384, 384)\n",
            "index: 100\n",
            "\n",
            "image name: ./SPAIR/Positive/45/COR_T2_SPAIR_801/IM-0010-0008.png\n",
            "(384, 384)\n",
            "index: 101\n",
            "\n",
            "image name: ./SPAIR/Positive/41/COR_T2_SPAIR_501/IM-0006-0009.png\n",
            "(320, 320)\n",
            "index: 102\n",
            "\n",
            "image name: ./SPAIR/Positive/41/COR_T2_SPAIR_501/IM-0006-0011.png\n",
            "(320, 320)\n",
            "index: 103\n",
            "\n",
            "image name: ./SPAIR/Positive/41/COR_T2_SPAIR_501/IM-0006-0006.png\n",
            "(320, 320)\n",
            "index: 104\n",
            "\n",
            "image name: ./SPAIR/Positive/41/COR_T2_SPAIR_501/IM-0006-0007.png\n",
            "(320, 320)\n",
            "index: 105\n",
            "\n",
            "image name: ./SPAIR/Positive/41/COR_T2_SPAIR_501/IM-0006-0008.png\n",
            "(320, 320)\n",
            "index: 106\n",
            "\n",
            "image name: ./SPAIR/Positive/41/COR_T2_SPAIR_501/IM-0006-0010.png\n",
            "(320, 320)\n",
            "index: 107\n",
            "\n",
            "image name: ./SPAIR/Positive/46/COR_T2_SPAIR_301/IM-0008-0010.png\n",
            "(320, 320)\n",
            "index: 108\n",
            "\n",
            "image name: ./SPAIR/Positive/46/COR_T2_SPAIR_301/IM-0008-0008.png\n",
            "(320, 320)\n",
            "index: 109\n",
            "\n",
            "image name: ./SPAIR/Positive/46/COR_T2_SPAIR_301/IM-0008-0006.png\n",
            "(320, 320)\n",
            "index: 110\n",
            "\n",
            "image name: ./SPAIR/Positive/46/COR_T2_SPAIR_301/IM-0008-0007.png\n",
            "(320, 320)\n",
            "index: 111\n",
            "\n",
            "image name: ./SPAIR/Positive/46/COR_T2_SPAIR_301/IM-0008-0009.png\n",
            "(320, 320)\n",
            "index: 112\n",
            "\n",
            "image name: ./SPAIR/Positive/50/COR_T2_SPAIR_401/IM-0003-0007.png\n",
            "(320, 320)\n",
            "index: 113\n",
            "\n",
            "image name: ./SPAIR/Positive/50/COR_T2_SPAIR_401/IM-0003-0010.png\n",
            "(320, 320)\n",
            "index: 114\n",
            "\n",
            "image name: ./SPAIR/Positive/50/COR_T2_SPAIR_401/IM-0003-0008.png\n",
            "(320, 320)\n",
            "index: 115\n",
            "\n",
            "image name: ./SPAIR/Positive/50/COR_T2_SPAIR_401/IM-0003-0011.png\n",
            "(320, 320)\n",
            "index: 116\n",
            "\n",
            "image name: ./SPAIR/Positive/50/COR_T2_SPAIR_401/IM-0003-0012.png\n",
            "(320, 320)\n",
            "index: 117\n",
            "\n",
            "image name: ./SPAIR/Positive/50/COR_T2_SPAIR_401/IM-0003-0009.png\n",
            "(320, 320)\n",
            "index: 118\n",
            "\n",
            "image name: ./SPAIR/Positive/44/COR_T2_SPAIR_501/IM-0001-0008.png\n",
            "(320, 320)\n",
            "index: 119\n",
            "\n",
            "image name: ./SPAIR/Positive/44/COR_T2_SPAIR_501/IM-0001-0009.png\n",
            "(320, 320)\n",
            "index: 120\n",
            "\n",
            "image name: ./SPAIR/Positive/44/COR_T2_SPAIR_501/IM-0001-0011.png\n",
            "(320, 320)\n",
            "index: 121\n",
            "\n",
            "image name: ./SPAIR/Positive/44/COR_T2_SPAIR_501/IM-0001-0006.png\n",
            "(320, 320)\n",
            "index: 122\n",
            "\n",
            "image name: ./SPAIR/Positive/44/COR_T2_SPAIR_501/IM-0001-0010.png\n",
            "(320, 320)\n",
            "index: 123\n",
            "\n",
            "image name: ./SPAIR/Positive/44/COR_T2_SPAIR_501/IM-0001-0007.png\n",
            "(320, 320)\n",
            "index: 124\n",
            "\n",
            "image name: ./SPAIR/Negative/13/COR_T2_SPAIR_301/IM-0006-0011.png\n",
            "(320, 320)\n",
            "index: 125\n",
            "\n",
            "image name: ./SPAIR/Negative/13/COR_T2_SPAIR_301/IM-0006-0013.png\n",
            "(320, 320)\n",
            "index: 126\n",
            "\n",
            "image name: ./SPAIR/Negative/13/COR_T2_SPAIR_301/IM-0006-0010.png\n",
            "(320, 320)\n",
            "index: 127\n",
            "\n",
            "image name: ./SPAIR/Negative/13/COR_T2_SPAIR_301/IM-0006-0009.png\n",
            "(320, 320)\n",
            "index: 128\n",
            "\n",
            "image name: ./SPAIR/Negative/13/COR_T2_SPAIR_301/IM-0006-0014.png\n",
            "(320, 320)\n",
            "index: 129\n",
            "\n",
            "image name: ./SPAIR/Negative/13/COR_T2_SPAIR_301/IM-0006-0012.png\n",
            "(320, 320)\n",
            "index: 130\n",
            "\n",
            "image name: ./SPAIR/Negative/11/COR_T2_SPAIR_401/IM-0007-0008.png\n",
            "(320, 320)\n",
            "index: 131\n",
            "\n",
            "image name: ./SPAIR/Negative/11/COR_T2_SPAIR_401/IM-0007-0011.png\n",
            "(320, 320)\n",
            "index: 132\n",
            "\n",
            "image name: ./SPAIR/Negative/11/COR_T2_SPAIR_401/IM-0007-0006.png\n",
            "(320, 320)\n",
            "index: 133\n",
            "\n",
            "image name: ./SPAIR/Negative/11/COR_T2_SPAIR_401/IM-0007-0007.png\n",
            "(320, 320)\n",
            "index: 134\n",
            "\n",
            "image name: ./SPAIR/Negative/11/COR_T2_SPAIR_401/IM-0007-0010.png\n",
            "(320, 320)\n",
            "index: 135\n",
            "\n",
            "image name: ./SPAIR/Negative/11/COR_T2_SPAIR_401/IM-0007-0009.png\n",
            "(320, 320)\n",
            "index: 136\n",
            "\n",
            "image name: ./SPAIR/Negative/15/COR_T2_SPAIR_401/IM-0005-0011.png\n",
            "(320, 320)\n",
            "index: 137\n",
            "\n",
            "image name: ./SPAIR/Negative/15/COR_T2_SPAIR_401/IM-0005-0010.png\n",
            "(320, 320)\n",
            "index: 138\n",
            "\n",
            "image name: ./SPAIR/Negative/15/COR_T2_SPAIR_401/IM-0005-0009.png\n",
            "(320, 320)\n",
            "index: 139\n",
            "\n",
            "image name: ./SPAIR/Negative/15/COR_T2_SPAIR_401/IM-0005-0012.png\n",
            "(320, 320)\n",
            "index: 140\n",
            "\n",
            "image name: ./SPAIR/Negative/15/COR_T2_SPAIR_401/IM-0005-0007.png\n",
            "(320, 320)\n",
            "index: 141\n",
            "\n",
            "image name: ./SPAIR/Negative/15/COR_T2_SPAIR_401/IM-0005-0008.png\n",
            "(320, 320)\n",
            "index: 142\n",
            "\n",
            "image name: ./SPAIR/Negative/12/COR_T2_SPAIR_401/IM-0007-0008.png\n",
            "(320, 320)\n",
            "index: 143\n",
            "\n",
            "image name: ./SPAIR/Negative/12/COR_T2_SPAIR_401/IM-0007-0011.png\n",
            "(320, 320)\n",
            "index: 144\n",
            "\n",
            "image name: ./SPAIR/Negative/12/COR_T2_SPAIR_401/IM-0007-0006.png\n",
            "(320, 320)\n",
            "index: 145\n",
            "\n",
            "image name: ./SPAIR/Negative/12/COR_T2_SPAIR_401/IM-0007-0007.png\n",
            "(320, 320)\n",
            "index: 146\n",
            "\n",
            "image name: ./SPAIR/Negative/12/COR_T2_SPAIR_401/IM-0007-0009.png\n",
            "(320, 320)\n",
            "index: 147\n",
            "\n",
            "image name: ./SPAIR/Negative/12/COR_T2_SPAIR_401/IM-0007-0010.png\n",
            "(320, 320)\n",
            "index: 148\n",
            "\n",
            "image name: ./SPAIR/Negative/14/COR_T2_SPAIR_401/IM-0005-0010.png\n",
            "(320, 320)\n",
            "index: 149\n",
            "\n",
            "image name: ./SPAIR/Negative/14/COR_T2_SPAIR_401/IM-0005-0007.png\n",
            "(320, 320)\n",
            "index: 150\n",
            "\n",
            "image name: ./SPAIR/Negative/14/COR_T2_SPAIR_401/IM-0005-0006.png\n",
            "(320, 320)\n",
            "index: 151\n",
            "\n",
            "image name: ./SPAIR/Negative/14/COR_T2_SPAIR_401/IM-0005-0008.png\n",
            "(320, 320)\n",
            "index: 152\n",
            "\n",
            "image name: ./SPAIR/Negative/14/COR_T2_SPAIR_401/IM-0005-0011.png\n",
            "(320, 320)\n",
            "index: 153\n",
            "\n",
            "image name: ./SPAIR/Negative/14/COR_T2_SPAIR_401/IM-0005-0009.png\n",
            "(320, 320)\n",
            "index: 154\n",
            "\n",
            "image name: ./SPAIR/Negative/10/COR_T2_SPAIR_401/IM-0007-0008.png\n",
            "(320, 320)\n",
            "index: 155\n",
            "\n",
            "image name: ./SPAIR/Negative/10/COR_T2_SPAIR_401/IM-0007-0007.png\n",
            "(320, 320)\n",
            "index: 156\n",
            "\n",
            "image name: ./SPAIR/Negative/10/COR_T2_SPAIR_401/IM-0007-0011.png\n",
            "(320, 320)\n",
            "index: 157\n",
            "\n",
            "image name: ./SPAIR/Negative/10/COR_T2_SPAIR_401/IM-0007-0010.png\n",
            "(320, 320)\n",
            "index: 158\n",
            "\n",
            "image name: ./SPAIR/Negative/10/COR_T2_SPAIR_401/IM-0007-0009.png\n",
            "(320, 320)\n",
            "index: 159\n",
            "\n",
            "image name: ./SPAIR/Negative/10/COR_T2_SPAIR_401/IM-0007-0006.png\n",
            "(320, 320)\n",
            "index: 160\n",
            "\n",
            "image name: ./SPAIR/Negative/17/COR_T2_SPAIR_401/IM-0005-0004.png\n",
            "(320, 320)\n",
            "index: 161\n",
            "\n",
            "image name: ./SPAIR/Negative/17/COR_T2_SPAIR_401/IM-0005-0006.png\n",
            "(320, 320)\n",
            "index: 162\n",
            "\n",
            "image name: ./SPAIR/Negative/17/COR_T2_SPAIR_401/IM-0005-0005.png\n",
            "(320, 320)\n",
            "index: 163\n",
            "\n",
            "image name: ./SPAIR/Negative/17/COR_T2_SPAIR_401/IM-0005-0009.png\n",
            "(320, 320)\n",
            "index: 164\n",
            "\n",
            "image name: ./SPAIR/Negative/17/COR_T2_SPAIR_401/IM-0005-0008.png\n",
            "(320, 320)\n",
            "index: 165\n",
            "\n",
            "image name: ./SPAIR/Negative/17/COR_T2_SPAIR_401/IM-0005-0007.png\n",
            "(320, 320)\n",
            "index: 166\n",
            "\n",
            "image name: ./SPAIR/Negative/1/COR_T2_SPAIR_301/IM-0015-0010.png\n",
            "(320, 320)\n",
            "index: 167\n",
            "\n",
            "image name: ./SPAIR/Negative/1/COR_T2_SPAIR_301/IM-0015-0012.png\n",
            "(320, 320)\n",
            "index: 168\n",
            "\n",
            "image name: ./SPAIR/Negative/1/COR_T2_SPAIR_301/IM-0015-0011.png\n",
            "(320, 320)\n",
            "index: 169\n",
            "\n",
            "image name: ./SPAIR/Negative/1/COR_T2_SPAIR_301/IM-0015-0013.png\n",
            "(320, 320)\n",
            "index: 170\n",
            "\n",
            "image name: ./SPAIR/Negative/1/COR_T2_SPAIR_301/IM-0015-0008.png\n",
            "(320, 320)\n",
            "index: 171\n",
            "\n",
            "image name: ./SPAIR/Negative/1/COR_T2_SPAIR_301/IM-0015-0009.png\n",
            "(320, 320)\n",
            "index: 172\n",
            "\n",
            "image name: ./SPAIR/Negative/16/COR_T2_SPAIR_401/IM-0005-0009.png\n",
            "(320, 320)\n",
            "index: 173\n",
            "\n",
            "image name: ./SPAIR/Negative/16/COR_T2_SPAIR_401/IM-0005-0011.png\n",
            "(320, 320)\n",
            "index: 174\n",
            "\n",
            "image name: ./SPAIR/Negative/16/COR_T2_SPAIR_401/IM-0005-0012.png\n",
            "(320, 320)\n",
            "index: 175\n",
            "\n",
            "image name: ./SPAIR/Negative/16/COR_T2_SPAIR_401/IM-0005-0010.png\n",
            "(320, 320)\n",
            "index: 176\n",
            "\n",
            "image name: ./SPAIR/Negative/16/COR_T2_SPAIR_401/IM-0005-0007.png\n",
            "(320, 320)\n",
            "index: 177\n",
            "\n",
            "image name: ./SPAIR/Negative/16/COR_T2_SPAIR_401/IM-0005-0008.png\n",
            "(320, 320)\n",
            "index: 178\n",
            "\n",
            "image name: ./SPAIR/Negative/18/COR_T2_SPAIR_301/IM-0004-0007.png\n",
            "(320, 320)\n",
            "index: 179\n",
            "\n",
            "image name: ./SPAIR/Negative/18/COR_T2_SPAIR_301/IM-0004-0006.png\n",
            "(320, 320)\n",
            "index: 180\n",
            "\n",
            "image name: ./SPAIR/Negative/18/COR_T2_SPAIR_301/IM-0004-0008.png\n",
            "(320, 320)\n",
            "index: 181\n",
            "\n",
            "image name: ./SPAIR/Negative/18/COR_T2_SPAIR_301/IM-0004-0005.png\n",
            "(320, 320)\n",
            "index: 182\n",
            "\n",
            "image name: ./SPAIR/Negative/18/COR_T2_SPAIR_301/IM-0004-0010.png\n",
            "(320, 320)\n",
            "index: 183\n",
            "\n",
            "image name: ./SPAIR/Negative/18/COR_T2_SPAIR_301/IM-0004-0009.png\n",
            "(320, 320)\n",
            "index: 184\n",
            "\n",
            "image name: ./SPAIR/Negative/21/COR_T2_SPAIR_301/IM-0001-0013.png\n",
            "(384, 384)\n",
            "index: 185\n",
            "\n",
            "image name: ./SPAIR/Negative/21/COR_T2_SPAIR_301/IM-0001-0012.png\n",
            "(384, 384)\n",
            "index: 186\n",
            "\n",
            "image name: ./SPAIR/Negative/21/COR_T2_SPAIR_301/IM-0001-0009.png\n",
            "(384, 384)\n",
            "index: 187\n",
            "\n",
            "image name: ./SPAIR/Negative/21/COR_T2_SPAIR_301/IM-0001-0014.png\n",
            "(384, 384)\n",
            "index: 188\n",
            "\n",
            "image name: ./SPAIR/Negative/21/COR_T2_SPAIR_301/IM-0001-0011.png\n",
            "(384, 384)\n",
            "index: 189\n",
            "\n",
            "image name: ./SPAIR/Negative/21/COR_T2_SPAIR_301/IM-0001-0010.png\n",
            "(384, 384)\n",
            "index: 190\n",
            "\n",
            "image name: ./SPAIR/Negative/24/301/00020008.png\n",
            "(320, 320)\n",
            "index: 191\n",
            "\n",
            "image name: ./SPAIR/Negative/24/301/00020010.png\n",
            "(320, 320)\n",
            "index: 192\n",
            "\n",
            "image name: ./SPAIR/Negative/24/301/00020009.png\n",
            "(320, 320)\n",
            "index: 193\n",
            "\n",
            "image name: ./SPAIR/Negative/24/301/00020012.png\n",
            "(320, 320)\n",
            "index: 194\n",
            "\n",
            "image name: ./SPAIR/Negative/24/301/00020011.png\n",
            "(320, 320)\n",
            "index: 195\n",
            "\n",
            "image name: ./SPAIR/Negative/24/301/00020013.png\n",
            "(320, 320)\n",
            "index: 196\n",
            "\n",
            "image name: ./SPAIR/Negative/2/COR_T2_SPAIR_401/IM-0014-0012.png\n",
            "(320, 320)\n",
            "index: 197\n",
            "\n",
            "image name: ./SPAIR/Negative/2/COR_T2_SPAIR_401/IM-0014-0013.png\n",
            "(320, 320)\n",
            "index: 198\n",
            "\n",
            "image name: ./SPAIR/Negative/2/COR_T2_SPAIR_401/IM-0014-0008.png\n",
            "(320, 320)\n",
            "index: 199\n",
            "\n",
            "image name: ./SPAIR/Negative/2/COR_T2_SPAIR_401/IM-0014-0011.png\n",
            "(320, 320)\n",
            "index: 200\n",
            "\n",
            "image name: ./SPAIR/Negative/2/COR_T2_SPAIR_401/IM-0014-0009.png\n",
            "(320, 320)\n",
            "index: 201\n",
            "\n",
            "image name: ./SPAIR/Negative/2/COR_T2_SPAIR_401/IM-0014-0010.png\n",
            "(320, 320)\n",
            "index: 202\n",
            "\n",
            "image name: ./SPAIR/Negative/25/701/00010012.png\n",
            "(320, 320)\n",
            "index: 203\n",
            "\n",
            "image name: ./SPAIR/Negative/25/701/00010011.png\n",
            "(320, 320)\n",
            "index: 204\n",
            "\n",
            "image name: ./SPAIR/Negative/25/701/00010008.png\n",
            "(320, 320)\n",
            "index: 205\n",
            "\n",
            "image name: ./SPAIR/Negative/25/701/00010009.png\n",
            "(320, 320)\n",
            "index: 206\n",
            "\n",
            "image name: ./SPAIR/Negative/25/701/00010010.png\n",
            "(320, 320)\n",
            "index: 207\n",
            "\n",
            "image name: ./SPAIR/Negative/25/701/00010013.png\n",
            "(320, 320)\n",
            "index: 208\n",
            "\n",
            "image name: ./SPAIR/Negative/23/801/00030005.png\n",
            "(320, 320)\n",
            "index: 209\n",
            "\n",
            "image name: ./SPAIR/Negative/23/801/00030006.png\n",
            "(320, 320)\n",
            "index: 210\n",
            "\n",
            "image name: ./SPAIR/Negative/23/801/00030004.png\n",
            "(320, 320)\n",
            "index: 211\n",
            "\n",
            "image name: ./SPAIR/Negative/23/801/00030009.png\n",
            "(320, 320)\n",
            "index: 212\n",
            "\n",
            "image name: ./SPAIR/Negative/23/801/00030007.png\n",
            "(320, 320)\n",
            "index: 213\n",
            "\n",
            "image name: ./SPAIR/Negative/23/801/00030008.png\n",
            "(320, 320)\n",
            "index: 214\n",
            "\n",
            "image name: ./SPAIR/Negative/20/COR_T2_SPAIR_1201/IM-0002-0006.png\n",
            "(320, 320)\n",
            "index: 215\n",
            "\n",
            "image name: ./SPAIR/Negative/20/COR_T2_SPAIR_1201/IM-0002-0005.png\n",
            "(320, 320)\n",
            "index: 216\n",
            "\n",
            "image name: ./SPAIR/Negative/20/COR_T2_SPAIR_1201/IM-0002-0004.png\n",
            "(320, 320)\n",
            "index: 217\n",
            "\n",
            "image name: ./SPAIR/Negative/20/COR_T2_SPAIR_1201/IM-0002-0008.png\n",
            "(320, 320)\n",
            "index: 218\n",
            "\n",
            "image name: ./SPAIR/Negative/20/COR_T2_SPAIR_1201/IM-0002-0009.png\n",
            "(320, 320)\n",
            "index: 219\n",
            "\n",
            "image name: ./SPAIR/Negative/20/COR_T2_SPAIR_1201/IM-0002-0007.png\n",
            "(320, 320)\n",
            "index: 220\n",
            "\n",
            "image name: ./SPAIR/Negative/22/701/00050006.png\n",
            "(384, 384)\n",
            "index: 221\n",
            "\n",
            "image name: ./SPAIR/Negative/22/701/00050009.png\n",
            "(384, 384)\n",
            "index: 222\n",
            "\n",
            "image name: ./SPAIR/Negative/22/701/00050008.png\n",
            "(384, 384)\n",
            "index: 223\n",
            "\n",
            "image name: ./SPAIR/Negative/22/701/00050007.png\n",
            "(384, 384)\n",
            "index: 224\n",
            "\n",
            "image name: ./SPAIR/Negative/22/701/00050005.png\n",
            "(384, 384)\n",
            "index: 225\n",
            "\n",
            "image name: ./SPAIR/Negative/22/701/00050004.png\n",
            "(384, 384)\n",
            "index: 226\n",
            "\n",
            "image name: ./SPAIR/Negative/22/301/00020009.png\n",
            "(320, 320)\n",
            "index: 227\n",
            "\n",
            "image name: ./SPAIR/Negative/22/301/00020006.png\n",
            "(320, 320)\n",
            "index: 228\n",
            "\n",
            "image name: ./SPAIR/Negative/22/301/00020010.png\n",
            "(320, 320)\n",
            "index: 229\n",
            "\n",
            "image name: ./SPAIR/Negative/22/301/00020008.png\n",
            "(320, 320)\n",
            "index: 230\n",
            "\n",
            "image name: ./SPAIR/Negative/22/301/00020007.png\n",
            "(320, 320)\n",
            "index: 231\n",
            "\n",
            "image name: ./SPAIR/Negative/22/301/00020005.png\n",
            "(320, 320)\n",
            "index: 232\n",
            "\n",
            "image name: ./SPAIR/Negative/27/301/00020006.png\n",
            "(320, 320)\n",
            "index: 233\n",
            "\n",
            "image name: ./SPAIR/Negative/27/301/00020008.png\n",
            "(320, 320)\n",
            "index: 234\n",
            "\n",
            "image name: ./SPAIR/Negative/27/301/00020009.png\n",
            "(320, 320)\n",
            "index: 235\n",
            "\n",
            "image name: ./SPAIR/Negative/27/301/00020010.png\n",
            "(320, 320)\n",
            "index: 236\n",
            "\n",
            "image name: ./SPAIR/Negative/27/301/00020007.png\n",
            "(320, 320)\n",
            "index: 237\n",
            "\n",
            "image name: ./SPAIR/Negative/27/301/00020005.png\n",
            "(320, 320)\n",
            "index: 238\n",
            "\n",
            "image name: ./SPAIR/Negative/26/301/00040008.png\n",
            "(320, 320)\n",
            "index: 239\n",
            "\n",
            "image name: ./SPAIR/Negative/26/301/00040010.png\n",
            "(320, 320)\n",
            "index: 240\n",
            "\n",
            "image name: ./SPAIR/Negative/26/301/00040007.png\n",
            "(320, 320)\n",
            "index: 241\n",
            "\n",
            "image name: ./SPAIR/Negative/26/301/00040011.png\n",
            "(320, 320)\n",
            "index: 242\n",
            "\n",
            "image name: ./SPAIR/Negative/26/301/00040006.png\n",
            "(320, 320)\n",
            "index: 243\n",
            "\n",
            "image name: ./SPAIR/Negative/26/301/00040009.png\n",
            "(320, 320)\n",
            "index: 244\n",
            "\n",
            "image name: ./SPAIR/Negative/19/COR_T2_SPAIR_401/IM-0003-0009.png\n",
            "(320, 320)\n",
            "index: 245\n",
            "\n",
            "image name: ./SPAIR/Negative/19/COR_T2_SPAIR_401/IM-0003-0011.png\n",
            "(320, 320)\n",
            "index: 246\n",
            "\n",
            "image name: ./SPAIR/Negative/19/COR_T2_SPAIR_401/IM-0003-0008.png\n",
            "(320, 320)\n",
            "index: 247\n",
            "\n",
            "image name: ./SPAIR/Negative/19/COR_T2_SPAIR_401/IM-0003-0010.png\n",
            "(320, 320)\n",
            "index: 248\n",
            "\n",
            "image name: ./SPAIR/Negative/19/COR_T2_SPAIR_401/IM-0003-0013.png\n",
            "(320, 320)\n",
            "index: 249\n",
            "\n",
            "image name: ./SPAIR/Negative/19/COR_T2_SPAIR_401/IM-0003-0012.png\n",
            "(320, 320)\n",
            "index: 250\n",
            "\n",
            "image name: ./SPAIR/Negative/7/COR_T2_SPAIR_401/IM-0009-0012.png\n",
            "(320, 320)\n",
            "index: 251\n",
            "\n",
            "image name: ./SPAIR/Negative/7/COR_T2_SPAIR_401/IM-0009-0013.png\n",
            "(320, 320)\n",
            "index: 252\n",
            "\n",
            "image name: ./SPAIR/Negative/7/COR_T2_SPAIR_401/IM-0009-0010.png\n",
            "(320, 320)\n",
            "index: 253\n",
            "\n",
            "image name: ./SPAIR/Negative/7/COR_T2_SPAIR_401/IM-0009-0011.png\n",
            "(320, 320)\n",
            "index: 254\n",
            "\n",
            "image name: ./SPAIR/Negative/7/COR_T2_SPAIR_401/IM-0009-0009.png\n",
            "(320, 320)\n",
            "index: 255\n",
            "\n",
            "image name: ./SPAIR/Negative/7/COR_T2_SPAIR_401/IM-0009-0008.png\n",
            "(320, 320)\n",
            "index: 256\n",
            "\n",
            "image name: ./SPAIR/Negative/9/COR_T2_SPAIR_301/IM-0008-0009.png\n",
            "(320, 320)\n",
            "index: 257\n",
            "\n",
            "image name: ./SPAIR/Negative/9/COR_T2_SPAIR_301/IM-0008-0014.png\n",
            "(320, 320)\n",
            "index: 258\n",
            "\n",
            "image name: ./SPAIR/Negative/9/COR_T2_SPAIR_301/IM-0008-0011.png\n",
            "(320, 320)\n",
            "index: 259\n",
            "\n",
            "image name: ./SPAIR/Negative/9/COR_T2_SPAIR_301/IM-0008-0012.png\n",
            "(320, 320)\n",
            "index: 260\n",
            "\n",
            "image name: ./SPAIR/Negative/9/COR_T2_SPAIR_301/IM-0008-0013.png\n",
            "(320, 320)\n",
            "index: 261\n",
            "\n",
            "image name: ./SPAIR/Negative/9/COR_T2_SPAIR_301/IM-0008-0010.png\n",
            "(320, 320)\n",
            "index: 262\n",
            "\n",
            "image name: ./SPAIR/Negative/3/COR_T2_SPAIR_301/IM-0013-0007.png\n",
            "(384, 384)\n",
            "index: 263\n",
            "\n",
            "image name: ./SPAIR/Negative/3/COR_T2_SPAIR_301/IM-0013-0008.png\n",
            "(384, 384)\n",
            "index: 264\n",
            "\n",
            "image name: ./SPAIR/Negative/3/COR_T2_SPAIR_301/IM-0013-0006.png\n",
            "(384, 384)\n",
            "index: 265\n",
            "\n",
            "image name: ./SPAIR/Negative/3/COR_T2_SPAIR_301/IM-0013-0004.png\n",
            "(384, 384)\n",
            "index: 266\n",
            "\n",
            "image name: ./SPAIR/Negative/3/COR_T2_SPAIR_301/IM-0013-0009.png\n",
            "(384, 384)\n",
            "index: 267\n",
            "\n",
            "image name: ./SPAIR/Negative/3/COR_T2_SPAIR_301/IM-0013-0005.png\n",
            "(384, 384)\n",
            "index: 268\n",
            "\n",
            "image name: ./SPAIR/Negative/6/COR_T2_SPAIR_301/IM-0010-0007.png\n",
            "(320, 320)\n",
            "index: 269\n",
            "\n",
            "image name: ./SPAIR/Negative/6/COR_T2_SPAIR_301/IM-0010-0009.png\n",
            "(320, 320)\n",
            "index: 270\n",
            "\n",
            "image name: ./SPAIR/Negative/6/COR_T2_SPAIR_301/IM-0010-0008.png\n",
            "(320, 320)\n",
            "index: 271\n",
            "\n",
            "image name: ./SPAIR/Negative/6/COR_T2_SPAIR_301/IM-0010-0006.png\n",
            "(320, 320)\n",
            "index: 272\n",
            "\n",
            "image name: ./SPAIR/Negative/6/COR_T2_SPAIR_301/IM-0010-0011.png\n",
            "(320, 320)\n",
            "index: 273\n",
            "\n",
            "image name: ./SPAIR/Negative/6/COR_T2_SPAIR_301/IM-0010-0010.png\n",
            "(320, 320)\n",
            "index: 274\n",
            "\n",
            "image name: ./SPAIR/Negative/28/COR_T2_SPAIR_301/IM-0001-0007.png\n",
            "(320, 320)\n",
            "index: 275\n",
            "\n",
            "image name: ./SPAIR/Negative/28/COR_T2_SPAIR_301/IM-0001-0006.png\n",
            "(320, 320)\n",
            "index: 276\n",
            "\n",
            "image name: ./SPAIR/Negative/28/COR_T2_SPAIR_301/IM-0001-0009.png\n",
            "(320, 320)\n",
            "index: 277\n",
            "\n",
            "image name: ./SPAIR/Negative/28/COR_T2_SPAIR_301/IM-0001-0008.png\n",
            "(320, 320)\n",
            "index: 278\n",
            "\n",
            "image name: ./SPAIR/Negative/28/COR_T2_SPAIR_301/IM-0001-0005.png\n",
            "(320, 320)\n",
            "index: 279\n",
            "\n",
            "image name: ./SPAIR/Negative/28/COR_T2_SPAIR_301/IM-0001-0010.png\n",
            "(320, 320)\n",
            "index: 280\n",
            "\n",
            "image name: ./SPAIR/Negative/8/COR_T2_SPAIR_301/IM-0008-0008.png\n",
            "(320, 320)\n",
            "index: 281\n",
            "\n",
            "image name: ./SPAIR/Negative/8/COR_T2_SPAIR_301/IM-0008-0012.png\n",
            "(320, 320)\n",
            "index: 282\n",
            "\n",
            "image name: ./SPAIR/Negative/8/COR_T2_SPAIR_301/IM-0008-0011.png\n",
            "(320, 320)\n",
            "index: 283\n",
            "\n",
            "image name: ./SPAIR/Negative/8/COR_T2_SPAIR_301/IM-0008-0010.png\n",
            "(320, 320)\n",
            "index: 284\n",
            "\n",
            "image name: ./SPAIR/Negative/8/COR_T2_SPAIR_301/IM-0008-0009.png\n",
            "(320, 320)\n",
            "index: 285\n",
            "\n",
            "image name: ./SPAIR/Negative/8/COR_T2_SPAIR_301/IM-0008-0007.png\n",
            "(320, 320)\n",
            "index: 286\n",
            "\n",
            "image name: ./SPAIR/Negative/4/COR_T2_SPAIR_701/IM-0012-0006.png\n",
            "(320, 320)\n",
            "index: 287\n",
            "\n",
            "image name: ./SPAIR/Negative/4/COR_T2_SPAIR_701/IM-0012-0009.png\n",
            "(320, 320)\n",
            "index: 288\n",
            "\n",
            "image name: ./SPAIR/Negative/4/COR_T2_SPAIR_701/IM-0012-0010.png\n",
            "(320, 320)\n",
            "index: 289\n",
            "\n",
            "image name: ./SPAIR/Negative/4/COR_T2_SPAIR_701/IM-0012-0007.png\n",
            "(320, 320)\n",
            "index: 290\n",
            "\n",
            "image name: ./SPAIR/Negative/4/COR_T2_SPAIR_701/IM-0012-0008.png\n",
            "(320, 320)\n",
            "index: 291\n",
            "\n",
            "image name: ./SPAIR/Negative/4/COR_T2_SPAIR_701/IM-0012-0005.png\n",
            "(320, 320)\n",
            "index: 292\n",
            "\n",
            "image name: ./SPAIR/Negative/5/COR_T2_SPAIR_401/IM-0011-0005.png\n",
            "(320, 320)\n",
            "index: 293\n",
            "\n",
            "image name: ./SPAIR/Negative/5/COR_T2_SPAIR_401/IM-0011-0004.png\n",
            "(320, 320)\n",
            "index: 294\n",
            "\n",
            "image name: ./SPAIR/Negative/5/COR_T2_SPAIR_401/IM-0011-0008.png\n",
            "(320, 320)\n",
            "index: 295\n",
            "\n",
            "image name: ./SPAIR/Negative/5/COR_T2_SPAIR_401/IM-0011-0009.png\n",
            "(320, 320)\n",
            "index: 296\n",
            "\n",
            "image name: ./SPAIR/Negative/5/COR_T2_SPAIR_401/IM-0011-0006.png\n",
            "(320, 320)\n",
            "index: 297\n",
            "\n",
            "image name: ./SPAIR/Negative/5/COR_T2_SPAIR_401/IM-0011-0007.png\n",
            "(320, 320)\n",
            "index: 298\n",
            "\n"
          ]
        }
      ]
    },
    {
      "cell_type": "code",
      "source": [
        "men = 0\n",
        "igu = 0\n",
        "mai = 0\n",
        "for index, filename in enumerate(glob.iglob(PATH_DCM_FILES + '**/*.tif', recursive=True)):\n",
        "  img = Image.open(filename)\n",
        "  larg, alt = img.size\n",
        "\n",
        "\n",
        "  if(int(larg) < 384):\n",
        "    men = men + 1\n",
        "  elif(int(larg) == 384):\n",
        "    igu = igu + 1\n",
        "  elif(int(larg) > 384):\n",
        "    mai = mai + 1\n",
        "\n",
        "print(\"Quantidade de imagens (384x384)\\n\\nMenores: \"  + str(men) + \" / Iguais: \"  + str(igu) + \" / Maiores: \"  + str(mai))"
      ],
      "metadata": {
        "colab": {
          "base_uri": "https://localhost:8080/"
        },
        "id": "DTdZhsXkYxzS",
        "outputId": "88dd6041-c928-436f-d145-a66bdb90dda2"
      },
      "execution_count": null,
      "outputs": [
        {
          "output_type": "stream",
          "name": "stdout",
          "text": [
            "Quantidade de imagens (384x384)\n",
            "\n",
            "Menores: 0 / Iguais: 300 / Maiores: 0\n"
          ]
        }
      ]
    },
    {
      "cell_type": "code",
      "source": [
        "men = 0\n",
        "igu = 0\n",
        "mai = 0\n",
        "for index, filename in enumerate(glob.iglob(PATH_DCM_FILES + '**/*.png', recursive=True)):\n",
        "  img = Image.open(filename)\n",
        "  larg, alt = img.size\n",
        "\n",
        "\n",
        "  if(int(larg) < 384):\n",
        "    men = men + 1\n",
        "  elif(int(larg) == 384):\n",
        "    igu = igu + 1\n",
        "  elif(int(larg) > 384):\n",
        "    mai = mai + 1\n",
        "\n",
        "print(\"Quantidade de imagens (384x384)\\n\\nMenores: \"  + str(men) + \" / Iguais: \"  + str(igu) + \" / Maiores: \"  + str(mai))"
      ],
      "metadata": {
        "colab": {
          "base_uri": "https://localhost:8080/"
        },
        "id": "-EuGKyEnYztB",
        "outputId": "18d2dda3-e573-4f8f-f745-e157f1766de0"
      },
      "execution_count": null,
      "outputs": [
        {
          "output_type": "stream",
          "name": "stdout",
          "text": [
            "Quantidade de imagens (384x384)\n",
            "\n",
            "Menores: 0 / Iguais: 299 / Maiores: 0\n"
          ]
        }
      ]
    }
  ]
}